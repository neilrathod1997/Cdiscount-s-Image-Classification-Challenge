{
  "cells": [
    {
      "cell_type": "markdown",
      "metadata": {
        "id": "0VjYy6kWuLhh"
      },
      "source": [
        "This notebook contains a generator class for Keras called `BSONIterator` that can read directly from the BSON data. You can use it in combination with `ImageDataGenerator` for doing data augmentation."
      ]
    },
    {
      "cell_type": "markdown",
      "metadata": {
        "id": "WRwRargryV-e"
      },
      "source": [
        "#start"
      ]
    },
    {
      "cell_type": "code",
      "execution_count": null,
      "metadata": {
        "colab": {
          "base_uri": "https://localhost:8080/"
        },
        "id": "dK54Gpiw9EGk",
        "outputId": "39c50cfb-5fc7-4a2f-f2f0-4b7f29ead3cd"
      },
      "outputs": [
        {
          "name": "stdout",
          "output_type": "stream",
          "text": [
            "Mounted at /content/drive\n"
          ]
        }
      ],
      "source": [
        "from google.colab import drive\n",
        "drive.mount('/content/drive')"
      ]
    },
    {
      "cell_type": "code",
      "execution_count": null,
      "metadata": {
        "colab": {
          "base_uri": "https://localhost:8080/"
        },
        "id": "Xc-K9ZGXNbZk",
        "outputId": "19df9aa1-ffa6-4fea-a1de-da32f67f31f6"
      },
      "outputs": [
        {
          "name": "stdout",
          "output_type": "stream",
          "text": [
            "Fri Sep  9 06:00:08 2022       \n",
            "+-----------------------------------------------------------------------------+\n",
            "| NVIDIA-SMI 460.32.03    Driver Version: 460.32.03    CUDA Version: 11.2     |\n",
            "|-------------------------------+----------------------+----------------------+\n",
            "| GPU  Name        Persistence-M| Bus-Id        Disp.A | Volatile Uncorr. ECC |\n",
            "| Fan  Temp  Perf  Pwr:Usage/Cap|         Memory-Usage | GPU-Util  Compute M. |\n",
            "|                               |                      |               MIG M. |\n",
            "|===============================+======================+======================|\n",
            "|   0  Tesla P100-PCIE...  Off  | 00000000:00:04.0 Off |                    0 |\n",
            "| N/A   41C    P0    27W / 250W |      0MiB / 16280MiB |      0%      Default |\n",
            "|                               |                      |                  N/A |\n",
            "+-------------------------------+----------------------+----------------------+\n",
            "                                                                               \n",
            "+-----------------------------------------------------------------------------+\n",
            "| Processes:                                                                  |\n",
            "|  GPU   GI   CI        PID   Type   Process name                  GPU Memory |\n",
            "|        ID   ID                                                   Usage      |\n",
            "|=============================================================================|\n",
            "|  No running processes found                                                 |\n",
            "+-----------------------------------------------------------------------------+\n"
          ]
        }
      ],
      "source": [
        "!nvidia-smi"
      ]
    },
    {
      "cell_type": "code",
      "execution_count": 3,
      "metadata": {
        "colab": {
          "base_uri": "https://localhost:8080/"
        },
        "id": "lb7K3J6fcmjw",
        "outputId": "e0ed5735-cd3b-4c01-bdd2-0333772c50cc"
      },
      "outputs": [
        {
          "output_type": "stream",
          "name": "stdout",
          "text": [
            "Looking in indexes: https://pypi.org/simple, https://us-python.pkg.dev/colab-wheels/public/simple/\n",
            "Requirement already satisfied: tensorflow==1.15.5 in /usr/local/lib/python3.7/dist-packages (1.15.5)\n",
            "Requirement already satisfied: protobuf>=3.6.1 in /usr/local/lib/python3.7/dist-packages (from tensorflow==1.15.5) (3.17.3)\n",
            "Requirement already satisfied: wrapt>=1.11.1 in /usr/local/lib/python3.7/dist-packages (from tensorflow==1.15.5) (1.14.1)\n",
            "Requirement already satisfied: termcolor>=1.1.0 in /usr/local/lib/python3.7/dist-packages (from tensorflow==1.15.5) (1.1.0)\n",
            "Requirement already satisfied: astor>=0.6.0 in /usr/local/lib/python3.7/dist-packages (from tensorflow==1.15.5) (0.8.1)\n",
            "Requirement already satisfied: keras-applications>=1.0.8 in /usr/local/lib/python3.7/dist-packages (from tensorflow==1.15.5) (1.0.8)\n",
            "Requirement already satisfied: wheel>=0.26 in /usr/local/lib/python3.7/dist-packages (from tensorflow==1.15.5) (0.37.1)\n",
            "Requirement already satisfied: numpy<1.19.0,>=1.16.0 in /usr/local/lib/python3.7/dist-packages (from tensorflow==1.15.5) (1.18.5)\n",
            "Requirement already satisfied: tensorboard<1.16.0,>=1.15.0 in /usr/local/lib/python3.7/dist-packages (from tensorflow==1.15.5) (1.15.0)\n",
            "Requirement already satisfied: tensorflow-estimator==1.15.1 in /usr/local/lib/python3.7/dist-packages (from tensorflow==1.15.5) (1.15.1)\n",
            "Requirement already satisfied: absl-py>=0.7.0 in /usr/local/lib/python3.7/dist-packages (from tensorflow==1.15.5) (1.2.0)\n",
            "Requirement already satisfied: keras-preprocessing>=1.0.5 in /usr/local/lib/python3.7/dist-packages (from tensorflow==1.15.5) (1.1.2)\n",
            "Requirement already satisfied: google-pasta>=0.1.6 in /usr/local/lib/python3.7/dist-packages (from tensorflow==1.15.5) (0.2.0)\n",
            "Requirement already satisfied: six>=1.10.0 in /usr/local/lib/python3.7/dist-packages (from tensorflow==1.15.5) (1.15.0)\n",
            "Requirement already satisfied: opt-einsum>=2.3.2 in /usr/local/lib/python3.7/dist-packages (from tensorflow==1.15.5) (3.3.0)\n",
            "Requirement already satisfied: h5py<=2.10.0 in /usr/local/lib/python3.7/dist-packages (from tensorflow==1.15.5) (2.10.0)\n",
            "Requirement already satisfied: grpcio>=1.8.6 in /usr/local/lib/python3.7/dist-packages (from tensorflow==1.15.5) (1.47.0)\n",
            "Requirement already satisfied: gast==0.2.2 in /usr/local/lib/python3.7/dist-packages (from tensorflow==1.15.5) (0.2.2)\n",
            "Requirement already satisfied: markdown>=2.6.8 in /usr/local/lib/python3.7/dist-packages (from tensorboard<1.16.0,>=1.15.0->tensorflow==1.15.5) (3.4.1)\n",
            "Requirement already satisfied: setuptools>=41.0.0 in /usr/local/lib/python3.7/dist-packages (from tensorboard<1.16.0,>=1.15.0->tensorflow==1.15.5) (57.4.0)\n",
            "Requirement already satisfied: werkzeug>=0.11.15 in /usr/local/lib/python3.7/dist-packages (from tensorboard<1.16.0,>=1.15.0->tensorflow==1.15.5) (1.0.1)\n",
            "Requirement already satisfied: importlib-metadata>=4.4 in /usr/local/lib/python3.7/dist-packages (from markdown>=2.6.8->tensorboard<1.16.0,>=1.15.0->tensorflow==1.15.5) (4.12.0)\n",
            "Requirement already satisfied: zipp>=0.5 in /usr/local/lib/python3.7/dist-packages (from importlib-metadata>=4.4->markdown>=2.6.8->tensorboard<1.16.0,>=1.15.0->tensorflow==1.15.5) (3.8.1)\n",
            "Requirement already satisfied: typing-extensions>=3.6.4 in /usr/local/lib/python3.7/dist-packages (from importlib-metadata>=4.4->markdown>=2.6.8->tensorboard<1.16.0,>=1.15.0->tensorflow==1.15.5) (4.1.1)\n",
            "Looking in indexes: https://pypi.org/simple, https://us-python.pkg.dev/colab-wheels/public/simple/\n",
            "Requirement already satisfied: keras==2.0.8 in /usr/local/lib/python3.7/dist-packages (2.0.8)\n",
            "Requirement already satisfied: pyyaml in /usr/local/lib/python3.7/dist-packages (from keras==2.0.8) (6.0)\n",
            "Requirement already satisfied: scipy>=0.14 in /usr/local/lib/python3.7/dist-packages (from keras==2.0.8) (1.7.3)\n",
            "Requirement already satisfied: numpy>=1.9.1 in /usr/local/lib/python3.7/dist-packages (from keras==2.0.8) (1.18.5)\n",
            "Requirement already satisfied: six>=1.9.0 in /usr/local/lib/python3.7/dist-packages (from keras==2.0.8) (1.15.0)\n",
            "Looking in indexes: https://pypi.org/simple, https://us-python.pkg.dev/colab-wheels/public/simple/\n",
            "Requirement already satisfied: tensorflow-gpu==1.15.5 in /usr/local/lib/python3.7/dist-packages (1.15.5)\n",
            "Requirement already satisfied: gast==0.2.2 in /usr/local/lib/python3.7/dist-packages (from tensorflow-gpu==1.15.5) (0.2.2)\n",
            "Requirement already satisfied: protobuf>=3.6.1 in /usr/local/lib/python3.7/dist-packages (from tensorflow-gpu==1.15.5) (3.17.3)\n",
            "Requirement already satisfied: wheel>=0.26 in /usr/local/lib/python3.7/dist-packages (from tensorflow-gpu==1.15.5) (0.37.1)\n",
            "Requirement already satisfied: keras-applications>=1.0.8 in /usr/local/lib/python3.7/dist-packages (from tensorflow-gpu==1.15.5) (1.0.8)\n",
            "Requirement already satisfied: numpy<1.19.0,>=1.16.0 in /usr/local/lib/python3.7/dist-packages (from tensorflow-gpu==1.15.5) (1.18.5)\n",
            "Requirement already satisfied: absl-py>=0.7.0 in /usr/local/lib/python3.7/dist-packages (from tensorflow-gpu==1.15.5) (1.2.0)\n",
            "Requirement already satisfied: opt-einsum>=2.3.2 in /usr/local/lib/python3.7/dist-packages (from tensorflow-gpu==1.15.5) (3.3.0)\n",
            "Requirement already satisfied: astor>=0.6.0 in /usr/local/lib/python3.7/dist-packages (from tensorflow-gpu==1.15.5) (0.8.1)\n",
            "Requirement already satisfied: six>=1.10.0 in /usr/local/lib/python3.7/dist-packages (from tensorflow-gpu==1.15.5) (1.15.0)\n",
            "Requirement already satisfied: tensorboard<1.16.0,>=1.15.0 in /usr/local/lib/python3.7/dist-packages (from tensorflow-gpu==1.15.5) (1.15.0)\n",
            "Requirement already satisfied: google-pasta>=0.1.6 in /usr/local/lib/python3.7/dist-packages (from tensorflow-gpu==1.15.5) (0.2.0)\n",
            "Requirement already satisfied: grpcio>=1.8.6 in /usr/local/lib/python3.7/dist-packages (from tensorflow-gpu==1.15.5) (1.47.0)\n",
            "Requirement already satisfied: termcolor>=1.1.0 in /usr/local/lib/python3.7/dist-packages (from tensorflow-gpu==1.15.5) (1.1.0)\n",
            "Requirement already satisfied: keras-preprocessing>=1.0.5 in /usr/local/lib/python3.7/dist-packages (from tensorflow-gpu==1.15.5) (1.1.2)\n",
            "Requirement already satisfied: tensorflow-estimator==1.15.1 in /usr/local/lib/python3.7/dist-packages (from tensorflow-gpu==1.15.5) (1.15.1)\n",
            "Requirement already satisfied: wrapt>=1.11.1 in /usr/local/lib/python3.7/dist-packages (from tensorflow-gpu==1.15.5) (1.14.1)\n",
            "Requirement already satisfied: h5py<=2.10.0 in /usr/local/lib/python3.7/dist-packages (from tensorflow-gpu==1.15.5) (2.10.0)\n",
            "Requirement already satisfied: setuptools>=41.0.0 in /usr/local/lib/python3.7/dist-packages (from tensorboard<1.16.0,>=1.15.0->tensorflow-gpu==1.15.5) (57.4.0)\n",
            "Requirement already satisfied: werkzeug>=0.11.15 in /usr/local/lib/python3.7/dist-packages (from tensorboard<1.16.0,>=1.15.0->tensorflow-gpu==1.15.5) (1.0.1)\n",
            "Requirement already satisfied: markdown>=2.6.8 in /usr/local/lib/python3.7/dist-packages (from tensorboard<1.16.0,>=1.15.0->tensorflow-gpu==1.15.5) (3.4.1)\n",
            "Requirement already satisfied: importlib-metadata>=4.4 in /usr/local/lib/python3.7/dist-packages (from markdown>=2.6.8->tensorboard<1.16.0,>=1.15.0->tensorflow-gpu==1.15.5) (4.12.0)\n",
            "Requirement already satisfied: zipp>=0.5 in /usr/local/lib/python3.7/dist-packages (from importlib-metadata>=4.4->markdown>=2.6.8->tensorboard<1.16.0,>=1.15.0->tensorflow-gpu==1.15.5) (3.8.1)\n",
            "Requirement already satisfied: typing-extensions>=3.6.4 in /usr/local/lib/python3.7/dist-packages (from importlib-metadata>=4.4->markdown>=2.6.8->tensorboard<1.16.0,>=1.15.0->tensorflow-gpu==1.15.5) (4.1.1)\n"
          ]
        }
      ],
      "source": [
        "! pip install tensorflow==1.15.5\n",
        "! pip install keras==2.0.8 \n",
        "! pip install tensorflow-gpu==1.15.5"
      ]
    },
    {
      "cell_type": "code",
      "execution_count": null,
      "metadata": {
        "colab": {
          "base_uri": "https://localhost:8080/",
          "height": 281,
          "resources": {
            "http://localhost:8080/nbextensions/google.colab/files.js": {
              "data": "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",
              "headers": [
                [
                  "content-type",
                  "application/javascript"
                ]
              ],
              "ok": true,
              "status": 200,
              "status_text": ""
            }
          }
        },
        "id": "4BayBDhER8sb",
        "outputId": "5e40c8bf-fa59-47af-8b2c-ee80ed0a9737"
      },
      "outputs": [
        {
          "name": "stdout",
          "output_type": "stream",
          "text": [
            "Looking in indexes: https://pypi.org/simple, https://us-python.pkg.dev/colab-wheels/public/simple/\n",
            "Requirement already satisfied: kaggle in /usr/local/lib/python3.7/dist-packages (1.5.12)\n",
            "Requirement already satisfied: tqdm in /usr/local/lib/python3.7/dist-packages (from kaggle) (4.64.0)\n",
            "Requirement already satisfied: requests in /usr/local/lib/python3.7/dist-packages (from kaggle) (2.23.0)\n",
            "Requirement already satisfied: six>=1.10 in /usr/local/lib/python3.7/dist-packages (from kaggle) (1.15.0)\n",
            "Requirement already satisfied: python-slugify in /usr/local/lib/python3.7/dist-packages (from kaggle) (6.1.2)\n",
            "Requirement already satisfied: urllib3 in /usr/local/lib/python3.7/dist-packages (from kaggle) (1.24.3)\n",
            "Requirement already satisfied: python-dateutil in /usr/local/lib/python3.7/dist-packages (from kaggle) (2.8.2)\n",
            "Requirement already satisfied: certifi in /usr/local/lib/python3.7/dist-packages (from kaggle) (2022.6.15)\n",
            "Requirement already satisfied: text-unidecode>=1.3 in /usr/local/lib/python3.7/dist-packages (from python-slugify->kaggle) (1.3)\n",
            "Requirement already satisfied: idna<3,>=2.5 in /usr/local/lib/python3.7/dist-packages (from requests->kaggle) (2.10)\n",
            "Requirement already satisfied: chardet<4,>=3.0.2 in /usr/local/lib/python3.7/dist-packages (from requests->kaggle) (3.0.4)\n"
          ]
        },
        {
          "data": {
            "text/html": [
              "\n",
              "     <input type=\"file\" id=\"files-fe1d0a1f-a0c9-41a8-898b-0ddcd9f3c9ca\" name=\"files[]\" multiple disabled\n",
              "        style=\"border:none\" />\n",
              "     <output id=\"result-fe1d0a1f-a0c9-41a8-898b-0ddcd9f3c9ca\">\n",
              "      Upload widget is only available when the cell has been executed in the\n",
              "      current browser session. Please rerun this cell to enable.\n",
              "      </output>\n",
              "      <script src=\"/nbextensions/google.colab/files.js\"></script> "
            ],
            "text/plain": [
              "<IPython.core.display.HTML object>"
            ]
          },
          "metadata": {},
          "output_type": "display_data"
        },
        {
          "name": "stdout",
          "output_type": "stream",
          "text": [
            "Saving kaggle.json to kaggle (1).json\n"
          ]
        }
      ],
      "source": [
        "!pip install kaggle\n",
        "from google.colab import files\n",
        "from datetime import datetime\n",
        "api_token = files.upload()"
      ]
    },
    {
      "cell_type": "code",
      "execution_count": 4,
      "metadata": {
        "id": "OAl4BES1SynA"
      },
      "outputs": [],
      "source": [
        "!mkdir ~/.kaggle\n",
        "!cp kaggle.json ~/.kaggle/"
      ]
    },
    {
      "cell_type": "code",
      "execution_count": null,
      "metadata": {
        "colab": {
          "base_uri": "https://localhost:8080/"
        },
        "id": "YPBb_1SpTDtZ",
        "outputId": "7b7f1c50-56ad-42ae-f42a-3acfff89afed"
      },
      "outputs": [
        {
          "name": "stdout",
          "output_type": "stream",
          "text": [
            "Warning: Your Kaggle API key is readable by other users on this system! To fix this, you can run 'chmod 600 /root/.kaggle/kaggle.json'\n",
            "Downloading train.bson.zip to /content\n",
            "100% 47.2G/47.2G [05:17<00:00, 151MB/s]\n",
            "100% 47.2G/47.2G [05:17<00:00, 160MB/s]\n"
          ]
        }
      ],
      "source": [
        "!kaggle competitions download -c 'cdiscount-image-classification-challenge' -f train.bson"
      ]
    },
    {
      "cell_type": "code",
      "execution_count": null,
      "metadata": {
        "colab": {
          "base_uri": "https://localhost:8080/"
        },
        "id": "6MOKYsSZVduU",
        "outputId": "fadb957c-6b6d-440b-ed2b-1f5de6033222"
      },
      "outputs": [
        {
          "name": "stdout",
          "output_type": "stream",
          "text": [
            "Warning: Your Kaggle API key is readable by other users on this system! To fix this, you can run 'chmod 600 /root/.kaggle/kaggle.json'\n",
            "Downloading category_names.csv to /content\n",
            "  0% 0.00/406k [00:00<?, ?B/s]\n",
            "100% 406k/406k [00:00<00:00, 102MB/s]\n"
          ]
        }
      ],
      "source": [
        "!kaggle competitions download -c 'cdiscount-image-classification-challenge' -f category_names.csv"
      ]
    },
    {
      "cell_type": "code",
      "execution_count": null,
      "metadata": {
        "colab": {
          "base_uri": "https://localhost:8080/"
        },
        "id": "9jnuhscBXhbC",
        "outputId": "dda02872-d91a-4ddb-ed13-535fd5e90f1a"
      },
      "outputs": [
        {
          "name": "stdout",
          "output_type": "stream",
          "text": [
            "Archive:  /content/train.bson.zip\n",
            "  inflating: train.bson              \n"
          ]
        }
      ],
      "source": [
        "!unzip /content/train.bson.zip"
      ]
    },
    {
      "cell_type": "code",
      "execution_count": null,
      "metadata": {
        "id": "3PzSRTAXaXBp"
      },
      "outputs": [],
      "source": [
        "!rm /content/train.bson.zip"
      ]
    },
    {
      "cell_type": "code",
      "execution_count": null,
      "metadata": {
        "colab": {
          "base_uri": "https://localhost:8080/"
        },
        "id": "Rrdr57pUuLhr",
        "outputId": "dd7d48db-84fe-4f22-98e4-815a115c6e3d"
      },
      "outputs": [
        {
          "name": "stderr",
          "output_type": "stream",
          "text": [
            "Using TensorFlow backend.\n"
          ]
        },
        {
          "name": "stdout",
          "output_type": "stream",
          "text": [
            "category_names.csv\n",
            "drive\n",
            "kaggle.json\n",
            "sample_data\n",
            "train.bson\n",
            "\n"
          ]
        }
      ],
      "source": [
        "import os, sys, math, io\n",
        "import numpy as np\n",
        "import pandas as pd\n",
        "import multiprocessing as mp\n",
        "import bson\n",
        "import struct\n",
        "\n",
        "%matplotlib inline\n",
        "import matplotlib.pyplot as plt\n",
        "\n",
        "import keras\n",
        "from keras.preprocessing.image import load_img, img_to_array\n",
        "import tensorflow as tf\n",
        "\n",
        "from collections import defaultdict\n",
        "from tqdm import *\n",
        "\n",
        "# Input data files are available in the \"../input/\" directory.\n",
        "# For example, running this (by clicking run or pressing Shift+Enter) will list the files in the input directory\n",
        "\n",
        "from subprocess import check_output\n",
        "print(check_output([\"ls\", \"/content\"]).decode(\"utf8\"))\n",
        "\n",
        "# Any results you write to the current directory are saved as output."
      ]
    },
    {
      "cell_type": "code",
      "execution_count": null,
      "metadata": {
        "colab": {
          "base_uri": "https://localhost:8080/"
        },
        "id": "Vk4e_5IquLhv",
        "outputId": "3a7c27fa-9d78-4ce8-b9f5-bab5f975429b"
      },
      "outputs": [
        {
          "data": {
            "text/plain": [
              "('2.0.8', '1.15.5')"
            ]
          },
          "execution_count": 7,
          "metadata": {},
          "output_type": "execute_result"
        }
      ],
      "source": [
        "keras.__version__, tf.__version__"
      ]
    },
    {
      "cell_type": "code",
      "execution_count": null,
      "metadata": {
        "colab": {
          "base_uri": "https://localhost:8080/"
        },
        "id": "3clp8FcsOrJl",
        "outputId": "ead93e22-5990-4c53-d17b-a4e8d9f518a3"
      },
      "outputs": [
        {
          "name": "stdout",
          "output_type": "stream",
          "text": [
            "1.15.5 True\n"
          ]
        }
      ],
      "source": [
        "import tensorflow as tf\n",
        "print(tf.__version__, tf.test.is_gpu_available())"
      ]
    },
    {
      "cell_type": "code",
      "execution_count": null,
      "metadata": {
        "collapsed": true,
        "id": "DlelzkmpuLhv"
      },
      "outputs": [],
      "source": [
        "data_dir = \"/content\"\n",
        "\n",
        "train_bson_path = os.path.join(data_dir, \"train.bson\")\n",
        "num_train_products = 7069896\n",
        "\n",
        "# train_bson_path = os.path.join(data_dir, \"train_example.bson\")\n",
        "# num_train_products = 82\n",
        "\n",
        "test_bson_path = os.path.join(data_dir, \"test.bson\")\n",
        "num_test_products = 1768182"
      ]
    },
    {
      "cell_type": "markdown",
      "metadata": {
        "id": "GtJdFu5_uLhw"
      },
      "source": [
        "# Part 1: Create lookup tables\n",
        "\n",
        "The generator uses several lookup tables that describe the layout of the BSON file, which products and images are part of the training/validation sets, and so on.\n",
        "\n",
        "You only need to generate these tables once, as they get saved to CSV files. If you already have these CSV files, skip to part 2."
      ]
    },
    {
      "cell_type": "markdown",
      "metadata": {
        "id": "4l7JoIxVuLhx"
      },
      "source": [
        "## Lookup table for categories"
      ]
    },
    {
      "cell_type": "code",
      "execution_count": null,
      "metadata": {
        "colab": {
          "base_uri": "https://localhost:8080/",
          "height": 238
        },
        "id": "tdPdZ4nguLhy",
        "outputId": "dbcf990d-e5b0-44fc-c94c-f9e610f8f4b5"
      },
      "outputs": [
        {
          "data": {
            "text/html": [
              "\n",
              "  <div id=\"df-893117b3-f854-40cc-a981-6cb1d2fba84c\">\n",
              "    <div class=\"colab-df-container\">\n",
              "      <div>\n",
              "<style scoped>\n",
              "    .dataframe tbody tr th:only-of-type {\n",
              "        vertical-align: middle;\n",
              "    }\n",
              "\n",
              "    .dataframe tbody tr th {\n",
              "        vertical-align: top;\n",
              "    }\n",
              "\n",
              "    .dataframe thead th {\n",
              "        text-align: right;\n",
              "    }\n",
              "</style>\n",
              "<table border=\"1\" class=\"dataframe\">\n",
              "  <thead>\n",
              "    <tr style=\"text-align: right;\">\n",
              "      <th></th>\n",
              "      <th>category_level1</th>\n",
              "      <th>category_level2</th>\n",
              "      <th>category_level3</th>\n",
              "      <th>category_idx</th>\n",
              "    </tr>\n",
              "    <tr>\n",
              "      <th>category_id</th>\n",
              "      <th></th>\n",
              "      <th></th>\n",
              "      <th></th>\n",
              "      <th></th>\n",
              "    </tr>\n",
              "  </thead>\n",
              "  <tbody>\n",
              "    <tr>\n",
              "      <th>1000021794</th>\n",
              "      <td>ABONNEMENT / SERVICES</td>\n",
              "      <td>CARTE PREPAYEE</td>\n",
              "      <td>CARTE PREPAYEE MULTIMEDIA</td>\n",
              "      <td>0</td>\n",
              "    </tr>\n",
              "    <tr>\n",
              "      <th>1000012764</th>\n",
              "      <td>AMENAGEMENT URBAIN - VOIRIE</td>\n",
              "      <td>AMENAGEMENT URBAIN</td>\n",
              "      <td>ABRI FUMEUR</td>\n",
              "      <td>1</td>\n",
              "    </tr>\n",
              "    <tr>\n",
              "      <th>1000012776</th>\n",
              "      <td>AMENAGEMENT URBAIN - VOIRIE</td>\n",
              "      <td>AMENAGEMENT URBAIN</td>\n",
              "      <td>ABRI VELO - ABRI MOTO</td>\n",
              "      <td>2</td>\n",
              "    </tr>\n",
              "    <tr>\n",
              "      <th>1000012768</th>\n",
              "      <td>AMENAGEMENT URBAIN - VOIRIE</td>\n",
              "      <td>AMENAGEMENT URBAIN</td>\n",
              "      <td>FONTAINE A EAU</td>\n",
              "      <td>3</td>\n",
              "    </tr>\n",
              "    <tr>\n",
              "      <th>1000012755</th>\n",
              "      <td>AMENAGEMENT URBAIN - VOIRIE</td>\n",
              "      <td>SIGNALETIQUE</td>\n",
              "      <td>PANNEAU D'INFORMATION EXTERIEUR</td>\n",
              "      <td>4</td>\n",
              "    </tr>\n",
              "  </tbody>\n",
              "</table>\n",
              "</div>\n",
              "      <button class=\"colab-df-convert\" onclick=\"convertToInteractive('df-893117b3-f854-40cc-a981-6cb1d2fba84c')\"\n",
              "              title=\"Convert this dataframe to an interactive table.\"\n",
              "              style=\"display:none;\">\n",
              "        \n",
              "  <svg xmlns=\"http://www.w3.org/2000/svg\" height=\"24px\"viewBox=\"0 0 24 24\"\n",
              "       width=\"24px\">\n",
              "    <path d=\"M0 0h24v24H0V0z\" fill=\"none\"/>\n",
              "    <path d=\"M18.56 5.44l.94 2.06.94-2.06 2.06-.94-2.06-.94-.94-2.06-.94 2.06-2.06.94zm-11 1L8.5 8.5l.94-2.06 2.06-.94-2.06-.94L8.5 2.5l-.94 2.06-2.06.94zm10 10l.94 2.06.94-2.06 2.06-.94-2.06-.94-.94-2.06-.94 2.06-2.06.94z\"/><path d=\"M17.41 7.96l-1.37-1.37c-.4-.4-.92-.59-1.43-.59-.52 0-1.04.2-1.43.59L10.3 9.45l-7.72 7.72c-.78.78-.78 2.05 0 2.83L4 21.41c.39.39.9.59 1.41.59.51 0 1.02-.2 1.41-.59l7.78-7.78 2.81-2.81c.8-.78.8-2.07 0-2.86zM5.41 20L4 18.59l7.72-7.72 1.47 1.35L5.41 20z\"/>\n",
              "  </svg>\n",
              "      </button>\n",
              "      \n",
              "  <style>\n",
              "    .colab-df-container {\n",
              "      display:flex;\n",
              "      flex-wrap:wrap;\n",
              "      gap: 12px;\n",
              "    }\n",
              "\n",
              "    .colab-df-convert {\n",
              "      background-color: #E8F0FE;\n",
              "      border: none;\n",
              "      border-radius: 50%;\n",
              "      cursor: pointer;\n",
              "      display: none;\n",
              "      fill: #1967D2;\n",
              "      height: 32px;\n",
              "      padding: 0 0 0 0;\n",
              "      width: 32px;\n",
              "    }\n",
              "\n",
              "    .colab-df-convert:hover {\n",
              "      background-color: #E2EBFA;\n",
              "      box-shadow: 0px 1px 2px rgba(60, 64, 67, 0.3), 0px 1px 3px 1px rgba(60, 64, 67, 0.15);\n",
              "      fill: #174EA6;\n",
              "    }\n",
              "\n",
              "    [theme=dark] .colab-df-convert {\n",
              "      background-color: #3B4455;\n",
              "      fill: #D2E3FC;\n",
              "    }\n",
              "\n",
              "    [theme=dark] .colab-df-convert:hover {\n",
              "      background-color: #434B5C;\n",
              "      box-shadow: 0px 1px 3px 1px rgba(0, 0, 0, 0.15);\n",
              "      filter: drop-shadow(0px 1px 2px rgba(0, 0, 0, 0.3));\n",
              "      fill: #FFFFFF;\n",
              "    }\n",
              "  </style>\n",
              "\n",
              "      <script>\n",
              "        const buttonEl =\n",
              "          document.querySelector('#df-893117b3-f854-40cc-a981-6cb1d2fba84c button.colab-df-convert');\n",
              "        buttonEl.style.display =\n",
              "          google.colab.kernel.accessAllowed ? 'block' : 'none';\n",
              "\n",
              "        async function convertToInteractive(key) {\n",
              "          const element = document.querySelector('#df-893117b3-f854-40cc-a981-6cb1d2fba84c');\n",
              "          const dataTable =\n",
              "            await google.colab.kernel.invokeFunction('convertToInteractive',\n",
              "                                                     [key], {});\n",
              "          if (!dataTable) return;\n",
              "\n",
              "          const docLinkHtml = 'Like what you see? Visit the ' +\n",
              "            '<a target=\"_blank\" href=https://colab.research.google.com/notebooks/data_table.ipynb>data table notebook</a>'\n",
              "            + ' to learn more about interactive tables.';\n",
              "          element.innerHTML = '';\n",
              "          dataTable['output_type'] = 'display_data';\n",
              "          await google.colab.output.renderOutput(dataTable, element);\n",
              "          const docLink = document.createElement('div');\n",
              "          docLink.innerHTML = docLinkHtml;\n",
              "          element.appendChild(docLink);\n",
              "        }\n",
              "      </script>\n",
              "    </div>\n",
              "  </div>\n",
              "  "
            ],
            "text/plain": [
              "                         category_level1     category_level2  \\\n",
              "category_id                                                    \n",
              "1000021794         ABONNEMENT / SERVICES      CARTE PREPAYEE   \n",
              "1000012764   AMENAGEMENT URBAIN - VOIRIE  AMENAGEMENT URBAIN   \n",
              "1000012776   AMENAGEMENT URBAIN - VOIRIE  AMENAGEMENT URBAIN   \n",
              "1000012768   AMENAGEMENT URBAIN - VOIRIE  AMENAGEMENT URBAIN   \n",
              "1000012755   AMENAGEMENT URBAIN - VOIRIE        SIGNALETIQUE   \n",
              "\n",
              "                             category_level3  category_idx  \n",
              "category_id                                                 \n",
              "1000021794         CARTE PREPAYEE MULTIMEDIA             0  \n",
              "1000012764                       ABRI FUMEUR             1  \n",
              "1000012776             ABRI VELO - ABRI MOTO             2  \n",
              "1000012768                    FONTAINE A EAU             3  \n",
              "1000012755   PANNEAU D'INFORMATION EXTERIEUR             4  "
            ]
          },
          "execution_count": 19,
          "metadata": {},
          "output_type": "execute_result"
        }
      ],
      "source": [
        "categories_path = os.path.join(data_dir, \"category_names.csv\")\n",
        "categories_df = pd.read_csv(categories_path, index_col=\"category_id\")\n",
        "\n",
        "# Maps the category_id to an integer index. This is what we'll use to\n",
        "# one-hot encode the labels.\n",
        "categories_df[\"category_idx\"] = pd.Series(range(len(categories_df)), index=categories_df.index)\n",
        "\n",
        "categories_df.to_csv(\"categories.csv\")\n",
        "categories_df.head()"
      ]
    },
    {
      "cell_type": "markdown",
      "metadata": {
        "id": "9yDv3Gy7uLhz"
      },
      "source": [
        "Create dictionaries for quick lookup of `category_id` to `category_idx` mapping."
      ]
    },
    {
      "cell_type": "code",
      "execution_count": null,
      "metadata": {
        "collapsed": true,
        "id": "tP1Yry_tuLhz"
      },
      "outputs": [],
      "source": [
        "def make_category_tables():\n",
        "    cat2idx = {}\n",
        "    idx2cat = {}\n",
        "    for ir in categories_df.itertuples():\n",
        "        category_id = ir[0]\n",
        "        category_idx = ir[4]\n",
        "        cat2idx[category_id] = category_idx\n",
        "        idx2cat[category_idx] = category_id\n",
        "    return cat2idx, idx2cat"
      ]
    },
    {
      "cell_type": "code",
      "execution_count": null,
      "metadata": {
        "colab": {
          "base_uri": "https://localhost:8080/",
          "height": 287
        },
        "collapsed": true,
        "id": "Uh_nMDj_uLh0",
        "outputId": "1691bfc1-9b3e-47ea-8e6a-086ee83b115b"
      },
      "outputs": [
        {
          "ename": "NameError",
          "evalue": "ignored",
          "output_type": "error",
          "traceback": [
            "\u001b[0;31m---------------------------------------------------------------------------\u001b[0m",
            "\u001b[0;31mNameError\u001b[0m                                 Traceback (most recent call last)",
            "\u001b[0;32m<ipython-input-10-28f48845b1e0>\u001b[0m in \u001b[0;36m<module>\u001b[0;34m\u001b[0m\n\u001b[0;32m----> 1\u001b[0;31m \u001b[0mcat2idx\u001b[0m\u001b[0;34m,\u001b[0m \u001b[0midx2cat\u001b[0m \u001b[0;34m=\u001b[0m \u001b[0mmake_category_tables\u001b[0m\u001b[0;34m(\u001b[0m\u001b[0;34m)\u001b[0m\u001b[0;34m\u001b[0m\u001b[0;34m\u001b[0m\u001b[0m\n\u001b[0m",
            "\u001b[0;32m<ipython-input-9-3465dd4562ce>\u001b[0m in \u001b[0;36mmake_category_tables\u001b[0;34m()\u001b[0m\n\u001b[1;32m      2\u001b[0m     \u001b[0mcat2idx\u001b[0m \u001b[0;34m=\u001b[0m \u001b[0;34m{\u001b[0m\u001b[0;34m}\u001b[0m\u001b[0;34m\u001b[0m\u001b[0;34m\u001b[0m\u001b[0m\n\u001b[1;32m      3\u001b[0m     \u001b[0midx2cat\u001b[0m \u001b[0;34m=\u001b[0m \u001b[0;34m{\u001b[0m\u001b[0;34m}\u001b[0m\u001b[0;34m\u001b[0m\u001b[0;34m\u001b[0m\u001b[0m\n\u001b[0;32m----> 4\u001b[0;31m     \u001b[0;32mfor\u001b[0m \u001b[0mir\u001b[0m \u001b[0;32min\u001b[0m \u001b[0mcategories_df\u001b[0m\u001b[0;34m.\u001b[0m\u001b[0mitertuples\u001b[0m\u001b[0;34m(\u001b[0m\u001b[0;34m)\u001b[0m\u001b[0;34m:\u001b[0m\u001b[0;34m\u001b[0m\u001b[0;34m\u001b[0m\u001b[0m\n\u001b[0m\u001b[1;32m      5\u001b[0m         \u001b[0mcategory_id\u001b[0m \u001b[0;34m=\u001b[0m \u001b[0mir\u001b[0m\u001b[0;34m[\u001b[0m\u001b[0;36m0\u001b[0m\u001b[0;34m]\u001b[0m\u001b[0;34m\u001b[0m\u001b[0;34m\u001b[0m\u001b[0m\n\u001b[1;32m      6\u001b[0m         \u001b[0mcategory_idx\u001b[0m \u001b[0;34m=\u001b[0m \u001b[0mir\u001b[0m\u001b[0;34m[\u001b[0m\u001b[0;36m4\u001b[0m\u001b[0;34m]\u001b[0m\u001b[0;34m\u001b[0m\u001b[0;34m\u001b[0m\u001b[0m\n",
            "\u001b[0;31mNameError\u001b[0m: name 'categories_df' is not defined"
          ]
        }
      ],
      "source": [
        "cat2idx, idx2cat = make_category_tables()"
      ]
    },
    {
      "cell_type": "code",
      "execution_count": null,
      "metadata": {
        "id": "mqyNh1cxuLh1"
      },
      "outputs": [],
      "source": [
        "# Test if it works:\n",
        "cat2idx[1000012755], idx2cat[4]"
      ]
    },
    {
      "cell_type": "markdown",
      "metadata": {
        "id": "YxbavnI4uLh2"
      },
      "source": [
        "## Read the BSON files\n",
        "\n",
        "We store the offsets and lengths of all items, allowing us random access to the items later.\n",
        "\n",
        "Inspired by code from: https://www.kaggle.com/vfdev5/random-item-access\n",
        "\n",
        "Note: this takes a few minutes to execute, but we only have to do it once (we'll save the table to a CSV file afterwards)."
      ]
    },
    {
      "cell_type": "code",
      "execution_count": null,
      "metadata": {
        "collapsed": true,
        "id": "Uo8K34cLuLh2"
      },
      "outputs": [],
      "source": [
        "def read_bson(bson_path, num_records, with_categories):\n",
        "    rows = {}\n",
        "    with open(bson_path, \"rb\") as f, tqdm(total=num_records) as pbar:\n",
        "        offset = 0\n",
        "        while True:\n",
        "            item_length_bytes = f.read(4)\n",
        "            if len(item_length_bytes) == 0:\n",
        "                break\n",
        "\n",
        "            length = struct.unpack(\"<i\", item_length_bytes)[0]\n",
        "\n",
        "            f.seek(offset)\n",
        "            item_data = f.read(length)\n",
        "            assert len(item_data) == length\n",
        "\n",
        "            item = bson.BSON.decode(item_data)\n",
        "            product_id = item[\"_id\"]\n",
        "            num_imgs = len(item[\"imgs\"])\n",
        "\n",
        "            row = [num_imgs, offset, length]\n",
        "            if with_categories:\n",
        "                row += [item[\"category_id\"]]\n",
        "            rows[product_id] = row\n",
        "\n",
        "            offset += length\n",
        "            f.seek(offset)\n",
        "            pbar.update()\n",
        "\n",
        "    columns = [\"num_imgs\", \"offset\", \"length\"]\n",
        "    if with_categories:\n",
        "        columns += [\"category_id\"]\n",
        "\n",
        "    df = pd.DataFrame.from_dict(rows, orient=\"index\")\n",
        "    df.index.name = \"product_id\"\n",
        "    df.columns = columns\n",
        "    df.sort_index(inplace=True)\n",
        "    return df"
      ]
    },
    {
      "cell_type": "code",
      "execution_count": null,
      "metadata": {
        "colab": {
          "base_uri": "https://localhost:8080/"
        },
        "id": "7DNO-4f6uLh4",
        "outputId": "4cc55933-b15d-46a1-ccf9-9c3216af2cc2"
      },
      "outputs": [
        {
          "name": "stderr",
          "output_type": "stream",
          "text": [
            "100%|██████████| 7069896/7069896 [10:21<00:00, 11380.28it/s]\n"
          ]
        },
        {
          "name": "stdout",
          "output_type": "stream",
          "text": [
            "CPU times: user 1min 28s, sys: 25.7 s, total: 1min 53s\n",
            "Wall time: 10min 30s\n"
          ]
        }
      ],
      "source": [
        "%time train_offsets_df = read_bson(train_bson_path, num_records=num_train_products, with_categories=True)"
      ]
    },
    {
      "cell_type": "code",
      "execution_count": null,
      "metadata": {
        "id": "9HQRIKRdAOe2"
      },
      "outputs": [],
      "source": [
        "train_offsets_df.to_csv(\"/content/drive/MyDrive/kerasgenmodel/meta_datatrain_offsets.csv\")"
      ]
    },
    {
      "cell_type": "code",
      "execution_count": null,
      "metadata": {
        "collapsed": true,
        "id": "HbqjLCp_uLh6"
      },
      "outputs": [],
      "source": [
        "#train_offsets_df.to_csv(\"/content/drive/MyDrive/kerasgenmodel/meta_datatrain_offsets.csv\")\n",
        "train_offsets_df = pd.read_csv('/content/drive/MyDrive/csvfiles/train_offsets.csv')"
      ]
    },
    {
      "cell_type": "code",
      "execution_count": null,
      "metadata": {
        "colab": {
          "base_uri": "https://localhost:8080/",
          "height": 206
        },
        "id": "Y1MUOuvHuLh5",
        "outputId": "64cc6acb-20bd-471f-b623-164eab75db8a"
      },
      "outputs": [
        {
          "data": {
            "text/html": [
              "\n",
              "  <div id=\"df-50972d8e-ccb2-4a41-ab95-bb5262c51f10\">\n",
              "    <div class=\"colab-df-container\">\n",
              "      <div>\n",
              "<style scoped>\n",
              "    .dataframe tbody tr th:only-of-type {\n",
              "        vertical-align: middle;\n",
              "    }\n",
              "\n",
              "    .dataframe tbody tr th {\n",
              "        vertical-align: top;\n",
              "    }\n",
              "\n",
              "    .dataframe thead th {\n",
              "        text-align: right;\n",
              "    }\n",
              "</style>\n",
              "<table border=\"1\" class=\"dataframe\">\n",
              "  <thead>\n",
              "    <tr style=\"text-align: right;\">\n",
              "      <th></th>\n",
              "      <th>product_id</th>\n",
              "      <th>num_imgs</th>\n",
              "      <th>offset</th>\n",
              "      <th>length</th>\n",
              "      <th>category_id</th>\n",
              "    </tr>\n",
              "  </thead>\n",
              "  <tbody>\n",
              "    <tr>\n",
              "      <th>0</th>\n",
              "      <td>0</td>\n",
              "      <td>1</td>\n",
              "      <td>0</td>\n",
              "      <td>6979</td>\n",
              "      <td>1000010653</td>\n",
              "    </tr>\n",
              "    <tr>\n",
              "      <th>1</th>\n",
              "      <td>1</td>\n",
              "      <td>1</td>\n",
              "      <td>6979</td>\n",
              "      <td>7318</td>\n",
              "      <td>1000010653</td>\n",
              "    </tr>\n",
              "    <tr>\n",
              "      <th>2</th>\n",
              "      <td>2</td>\n",
              "      <td>1</td>\n",
              "      <td>14297</td>\n",
              "      <td>5455</td>\n",
              "      <td>1000004079</td>\n",
              "    </tr>\n",
              "    <tr>\n",
              "      <th>3</th>\n",
              "      <td>3</td>\n",
              "      <td>1</td>\n",
              "      <td>19752</td>\n",
              "      <td>4580</td>\n",
              "      <td>1000004141</td>\n",
              "    </tr>\n",
              "    <tr>\n",
              "      <th>4</th>\n",
              "      <td>4</td>\n",
              "      <td>1</td>\n",
              "      <td>24332</td>\n",
              "      <td>6346</td>\n",
              "      <td>1000015539</td>\n",
              "    </tr>\n",
              "  </tbody>\n",
              "</table>\n",
              "</div>\n",
              "      <button class=\"colab-df-convert\" onclick=\"convertToInteractive('df-50972d8e-ccb2-4a41-ab95-bb5262c51f10')\"\n",
              "              title=\"Convert this dataframe to an interactive table.\"\n",
              "              style=\"display:none;\">\n",
              "        \n",
              "  <svg xmlns=\"http://www.w3.org/2000/svg\" height=\"24px\"viewBox=\"0 0 24 24\"\n",
              "       width=\"24px\">\n",
              "    <path d=\"M0 0h24v24H0V0z\" fill=\"none\"/>\n",
              "    <path d=\"M18.56 5.44l.94 2.06.94-2.06 2.06-.94-2.06-.94-.94-2.06-.94 2.06-2.06.94zm-11 1L8.5 8.5l.94-2.06 2.06-.94-2.06-.94L8.5 2.5l-.94 2.06-2.06.94zm10 10l.94 2.06.94-2.06 2.06-.94-2.06-.94-.94-2.06-.94 2.06-2.06.94z\"/><path d=\"M17.41 7.96l-1.37-1.37c-.4-.4-.92-.59-1.43-.59-.52 0-1.04.2-1.43.59L10.3 9.45l-7.72 7.72c-.78.78-.78 2.05 0 2.83L4 21.41c.39.39.9.59 1.41.59.51 0 1.02-.2 1.41-.59l7.78-7.78 2.81-2.81c.8-.78.8-2.07 0-2.86zM5.41 20L4 18.59l7.72-7.72 1.47 1.35L5.41 20z\"/>\n",
              "  </svg>\n",
              "      </button>\n",
              "      \n",
              "  <style>\n",
              "    .colab-df-container {\n",
              "      display:flex;\n",
              "      flex-wrap:wrap;\n",
              "      gap: 12px;\n",
              "    }\n",
              "\n",
              "    .colab-df-convert {\n",
              "      background-color: #E8F0FE;\n",
              "      border: none;\n",
              "      border-radius: 50%;\n",
              "      cursor: pointer;\n",
              "      display: none;\n",
              "      fill: #1967D2;\n",
              "      height: 32px;\n",
              "      padding: 0 0 0 0;\n",
              "      width: 32px;\n",
              "    }\n",
              "\n",
              "    .colab-df-convert:hover {\n",
              "      background-color: #E2EBFA;\n",
              "      box-shadow: 0px 1px 2px rgba(60, 64, 67, 0.3), 0px 1px 3px 1px rgba(60, 64, 67, 0.15);\n",
              "      fill: #174EA6;\n",
              "    }\n",
              "\n",
              "    [theme=dark] .colab-df-convert {\n",
              "      background-color: #3B4455;\n",
              "      fill: #D2E3FC;\n",
              "    }\n",
              "\n",
              "    [theme=dark] .colab-df-convert:hover {\n",
              "      background-color: #434B5C;\n",
              "      box-shadow: 0px 1px 3px 1px rgba(0, 0, 0, 0.15);\n",
              "      filter: drop-shadow(0px 1px 2px rgba(0, 0, 0, 0.3));\n",
              "      fill: #FFFFFF;\n",
              "    }\n",
              "  </style>\n",
              "\n",
              "      <script>\n",
              "        const buttonEl =\n",
              "          document.querySelector('#df-50972d8e-ccb2-4a41-ab95-bb5262c51f10 button.colab-df-convert');\n",
              "        buttonEl.style.display =\n",
              "          google.colab.kernel.accessAllowed ? 'block' : 'none';\n",
              "\n",
              "        async function convertToInteractive(key) {\n",
              "          const element = document.querySelector('#df-50972d8e-ccb2-4a41-ab95-bb5262c51f10');\n",
              "          const dataTable =\n",
              "            await google.colab.kernel.invokeFunction('convertToInteractive',\n",
              "                                                     [key], {});\n",
              "          if (!dataTable) return;\n",
              "\n",
              "          const docLinkHtml = 'Like what you see? Visit the ' +\n",
              "            '<a target=\"_blank\" href=https://colab.research.google.com/notebooks/data_table.ipynb>data table notebook</a>'\n",
              "            + ' to learn more about interactive tables.';\n",
              "          element.innerHTML = '';\n",
              "          dataTable['output_type'] = 'display_data';\n",
              "          await google.colab.output.renderOutput(dataTable, element);\n",
              "          const docLink = document.createElement('div');\n",
              "          docLink.innerHTML = docLinkHtml;\n",
              "          element.appendChild(docLink);\n",
              "        }\n",
              "      </script>\n",
              "    </div>\n",
              "  </div>\n",
              "  "
            ],
            "text/plain": [
              "   product_id  num_imgs  offset  length  category_id\n",
              "0           0         1       0    6979   1000010653\n",
              "1           1         1    6979    7318   1000010653\n",
              "2           2         1   14297    5455   1000004079\n",
              "3           3         1   19752    4580   1000004141\n",
              "4           4         1   24332    6346   1000015539"
            ]
          },
          "execution_count": 20,
          "metadata": {},
          "output_type": "execute_result"
        }
      ],
      "source": [
        "train_offsets_df.head()"
      ]
    },
    {
      "cell_type": "code",
      "execution_count": null,
      "metadata": {
        "id": "F_b0IpAt9ChB"
      },
      "outputs": [],
      "source": [
        "#train_offsets_df.to_csv(\"/content/drive/MyDrive/csvfiles/train_offsets.csv\")"
      ]
    },
    {
      "cell_type": "code",
      "execution_count": null,
      "metadata": {
        "colab": {
          "base_uri": "https://localhost:8080/"
        },
        "id": "s0bhNXl_uLh6",
        "outputId": "3c3dbf8c-f292-4cd1-e7fd-aaf56a401057"
      },
      "outputs": [
        {
          "data": {
            "text/plain": [
              "7069896"
            ]
          },
          "execution_count": 21,
          "metadata": {},
          "output_type": "execute_result"
        }
      ],
      "source": [
        "# How many products?\n",
        "len(train_offsets_df)"
      ]
    },
    {
      "cell_type": "code",
      "execution_count": null,
      "metadata": {
        "colab": {
          "base_uri": "https://localhost:8080/"
        },
        "id": "HKGb9roMuLh7",
        "outputId": "c0d8cc44-b0b8-4879-9681-aa2c918973ae"
      },
      "outputs": [
        {
          "data": {
            "text/plain": [
              "5270"
            ]
          },
          "execution_count": 22,
          "metadata": {},
          "output_type": "execute_result"
        }
      ],
      "source": [
        "# How many categories?\n",
        "len(train_offsets_df[\"category_id\"].unique())"
      ]
    },
    {
      "cell_type": "code",
      "execution_count": null,
      "metadata": {
        "colab": {
          "base_uri": "https://localhost:8080/"
        },
        "id": "r5XF6E2KuLh7",
        "outputId": "226d522f-f844-4411-a8f7-b58c11f59380"
      },
      "outputs": [
        {
          "data": {
            "text/plain": [
              "12371293"
            ]
          },
          "execution_count": 22,
          "metadata": {},
          "output_type": "execute_result"
        }
      ],
      "source": [
        "# How many images in total?\n",
        "train_offsets_df[\"num_imgs\"].sum()"
      ]
    },
    {
      "cell_type": "markdown",
      "metadata": {
        "id": "5R92JlT8uLh7"
      },
      "source": [
        "## Create a random train/validation split\n",
        "\n",
        "We split on products, not on individual images. Since some of the categories only have a few products, we do the split separately for each category.\n",
        "\n",
        "This creates two new tables, one for the training images and one for the validation images. There is a row for every single image, so if a product has more than one image it occurs more than once in the table."
      ]
    },
    {
      "cell_type": "code",
      "execution_count": null,
      "metadata": {
        "collapsed": true,
        "id": "qLFS1YgWuLh8"
      },
      "outputs": [],
      "source": [
        "def make_val_set(df, split_percentage=0.2, drop_percentage=0.):\n",
        "    # Find the product_ids for each category.\n",
        "    category_dict = defaultdict(list)\n",
        "    for ir in tqdm(df.itertuples()):\n",
        "        category_dict[ir[4]].append(ir[0])\n",
        "\n",
        "    train_list = []\n",
        "    val_list = []\n",
        "    with tqdm(total=len(df)) as pbar:\n",
        "        for category_id, product_ids in category_dict.items():\n",
        "            category_idx = cat2idx[category_id]\n",
        "\n",
        "            # Randomly remove products to make the dataset smaller.\n",
        "            keep_size = int(len(product_ids) * (1. - drop_percentage))\n",
        "            if keep_size < len(product_ids):\n",
        "                product_ids = np.random.choice(product_ids, keep_size, replace=False)\n",
        "\n",
        "            # Randomly choose the products that become part of the validation set.\n",
        "            val_size = int(len(product_ids) * split_percentage)\n",
        "            if val_size > 0:\n",
        "                val_ids = np.random.choice(product_ids, val_size, replace=False)\n",
        "            else:\n",
        "                val_ids = []\n",
        "\n",
        "            # Create a new row for each image.\n",
        "            for product_id in product_ids:\n",
        "                row = [product_id, category_idx]\n",
        "                for img_idx in range(df.loc[product_id, \"num_imgs\"]):\n",
        "                    if product_id in val_ids:\n",
        "                        val_list.append(row + [img_idx])\n",
        "                    else:\n",
        "                        train_list.append(row + [img_idx])\n",
        "                pbar.update()\n",
        "                \n",
        "    columns = [\"product_id\", \"category_idx\", \"img_idx\"]\n",
        "    train_df = pd.DataFrame(train_list, columns=columns)\n",
        "    val_df = pd.DataFrame(val_list, columns=columns)   \n",
        "    return train_df, val_df"
      ]
    },
    {
      "cell_type": "markdown",
      "metadata": {
        "id": "bfrv1n8iuLh8"
      },
      "source": [
        "Create a 80/20 split. Also drop 90% of all products to make the dataset more manageable. (Note: if `drop_percentage` > 0, the progress bar doesn't go all the way.)"
      ]
    },
    {
      "cell_type": "code",
      "execution_count": null,
      "metadata": {
        "id": "XFkfYYz9uLh9"
      },
      "outputs": [],
      "source": [
        "train_images_df, val_images_df = make_val_set(train_offsets_df, split_percentage=0.1, \n",
        "                                              drop_percentage=0.0)"
      ]
    },
    {
      "cell_type": "code",
      "execution_count": null,
      "metadata": {
        "colab": {
          "base_uri": "https://localhost:8080/",
          "height": 206
        },
        "id": "Uh1tWTiouLh9",
        "outputId": "ad1700d1-9784-4ce7-e820-3e3b76d494e1"
      },
      "outputs": [
        {
          "data": {
            "text/html": [
              "\n",
              "  <div id=\"df-61479c20-fa2b-4a1d-b3f6-495266fe1b15\">\n",
              "    <div class=\"colab-df-container\">\n",
              "      <div>\n",
              "<style scoped>\n",
              "    .dataframe tbody tr th:only-of-type {\n",
              "        vertical-align: middle;\n",
              "    }\n",
              "\n",
              "    .dataframe tbody tr th {\n",
              "        vertical-align: top;\n",
              "    }\n",
              "\n",
              "    .dataframe thead th {\n",
              "        text-align: right;\n",
              "    }\n",
              "</style>\n",
              "<table border=\"1\" class=\"dataframe\">\n",
              "  <thead>\n",
              "    <tr style=\"text-align: right;\">\n",
              "      <th></th>\n",
              "      <th>product_id</th>\n",
              "      <th>category_idx</th>\n",
              "      <th>img_idx</th>\n",
              "    </tr>\n",
              "  </thead>\n",
              "  <tbody>\n",
              "    <tr>\n",
              "      <th>0</th>\n",
              "      <td>0</td>\n",
              "      <td>5055</td>\n",
              "      <td>0</td>\n",
              "    </tr>\n",
              "    <tr>\n",
              "      <th>1</th>\n",
              "      <td>11</td>\n",
              "      <td>5055</td>\n",
              "      <td>0</td>\n",
              "    </tr>\n",
              "    <tr>\n",
              "      <th>2</th>\n",
              "      <td>16</td>\n",
              "      <td>5055</td>\n",
              "      <td>0</td>\n",
              "    </tr>\n",
              "    <tr>\n",
              "      <th>3</th>\n",
              "      <td>28</td>\n",
              "      <td>5055</td>\n",
              "      <td>0</td>\n",
              "    </tr>\n",
              "    <tr>\n",
              "      <th>4</th>\n",
              "      <td>30</td>\n",
              "      <td>5055</td>\n",
              "      <td>0</td>\n",
              "    </tr>\n",
              "  </tbody>\n",
              "</table>\n",
              "</div>\n",
              "      <button class=\"colab-df-convert\" onclick=\"convertToInteractive('df-61479c20-fa2b-4a1d-b3f6-495266fe1b15')\"\n",
              "              title=\"Convert this dataframe to an interactive table.\"\n",
              "              style=\"display:none;\">\n",
              "        \n",
              "  <svg xmlns=\"http://www.w3.org/2000/svg\" height=\"24px\"viewBox=\"0 0 24 24\"\n",
              "       width=\"24px\">\n",
              "    <path d=\"M0 0h24v24H0V0z\" fill=\"none\"/>\n",
              "    <path d=\"M18.56 5.44l.94 2.06.94-2.06 2.06-.94-2.06-.94-.94-2.06-.94 2.06-2.06.94zm-11 1L8.5 8.5l.94-2.06 2.06-.94-2.06-.94L8.5 2.5l-.94 2.06-2.06.94zm10 10l.94 2.06.94-2.06 2.06-.94-2.06-.94-.94-2.06-.94 2.06-2.06.94z\"/><path d=\"M17.41 7.96l-1.37-1.37c-.4-.4-.92-.59-1.43-.59-.52 0-1.04.2-1.43.59L10.3 9.45l-7.72 7.72c-.78.78-.78 2.05 0 2.83L4 21.41c.39.39.9.59 1.41.59.51 0 1.02-.2 1.41-.59l7.78-7.78 2.81-2.81c.8-.78.8-2.07 0-2.86zM5.41 20L4 18.59l7.72-7.72 1.47 1.35L5.41 20z\"/>\n",
              "  </svg>\n",
              "      </button>\n",
              "      \n",
              "  <style>\n",
              "    .colab-df-container {\n",
              "      display:flex;\n",
              "      flex-wrap:wrap;\n",
              "      gap: 12px;\n",
              "    }\n",
              "\n",
              "    .colab-df-convert {\n",
              "      background-color: #E8F0FE;\n",
              "      border: none;\n",
              "      border-radius: 50%;\n",
              "      cursor: pointer;\n",
              "      display: none;\n",
              "      fill: #1967D2;\n",
              "      height: 32px;\n",
              "      padding: 0 0 0 0;\n",
              "      width: 32px;\n",
              "    }\n",
              "\n",
              "    .colab-df-convert:hover {\n",
              "      background-color: #E2EBFA;\n",
              "      box-shadow: 0px 1px 2px rgba(60, 64, 67, 0.3), 0px 1px 3px 1px rgba(60, 64, 67, 0.15);\n",
              "      fill: #174EA6;\n",
              "    }\n",
              "\n",
              "    [theme=dark] .colab-df-convert {\n",
              "      background-color: #3B4455;\n",
              "      fill: #D2E3FC;\n",
              "    }\n",
              "\n",
              "    [theme=dark] .colab-df-convert:hover {\n",
              "      background-color: #434B5C;\n",
              "      box-shadow: 0px 1px 3px 1px rgba(0, 0, 0, 0.15);\n",
              "      filter: drop-shadow(0px 1px 2px rgba(0, 0, 0, 0.3));\n",
              "      fill: #FFFFFF;\n",
              "    }\n",
              "  </style>\n",
              "\n",
              "      <script>\n",
              "        const buttonEl =\n",
              "          document.querySelector('#df-61479c20-fa2b-4a1d-b3f6-495266fe1b15 button.colab-df-convert');\n",
              "        buttonEl.style.display =\n",
              "          google.colab.kernel.accessAllowed ? 'block' : 'none';\n",
              "\n",
              "        async function convertToInteractive(key) {\n",
              "          const element = document.querySelector('#df-61479c20-fa2b-4a1d-b3f6-495266fe1b15');\n",
              "          const dataTable =\n",
              "            await google.colab.kernel.invokeFunction('convertToInteractive',\n",
              "                                                     [key], {});\n",
              "          if (!dataTable) return;\n",
              "\n",
              "          const docLinkHtml = 'Like what you see? Visit the ' +\n",
              "            '<a target=\"_blank\" href=https://colab.research.google.com/notebooks/data_table.ipynb>data table notebook</a>'\n",
              "            + ' to learn more about interactive tables.';\n",
              "          element.innerHTML = '';\n",
              "          dataTable['output_type'] = 'display_data';\n",
              "          await google.colab.output.renderOutput(dataTable, element);\n",
              "          const docLink = document.createElement('div');\n",
              "          docLink.innerHTML = docLinkHtml;\n",
              "          element.appendChild(docLink);\n",
              "        }\n",
              "      </script>\n",
              "    </div>\n",
              "  </div>\n",
              "  "
            ],
            "text/plain": [
              "   product_id  category_idx  img_idx\n",
              "0           0          5055        0\n",
              "1          11          5055        0\n",
              "2          16          5055        0\n",
              "3          28          5055        0\n",
              "4          30          5055        0"
            ]
          },
          "execution_count": 19,
          "metadata": {},
          "output_type": "execute_result"
        }
      ],
      "source": [
        "train_images_df.head()"
      ]
    },
    {
      "cell_type": "code",
      "execution_count": null,
      "metadata": {
        "id": "nvRx988luLh-"
      },
      "outputs": [],
      "source": [
        "val_images_df.head()"
      ]
    },
    {
      "cell_type": "code",
      "execution_count": null,
      "metadata": {
        "colab": {
          "base_uri": "https://localhost:8080/"
        },
        "id": "eSfpvHHBuLh-",
        "outputId": "d5917a04-ced2-48d6-c8f6-c25b69699426"
      },
      "outputs": [
        {
          "name": "stdout",
          "output_type": "stream",
          "text": [
            "Number of training images: 11139021\n",
            "Number of validation images: 1232272\n",
            "Total images: 12371293\n"
          ]
        }
      ],
      "source": [
        "print(\"Number of training images:\", len(train_images_df))\n",
        "print(\"Number of validation images:\", len(val_images_df))\n",
        "print(\"Total images:\", len(train_images_df) + len(val_images_df))"
      ]
    },
    {
      "cell_type": "markdown",
      "metadata": {
        "id": "Z8IASrM0uLh-"
      },
      "source": [
        "Are all categories represented in the train/val split? (Note: if the drop percentage is high, then very small categories won't have enough products left to make it into the validation set.)"
      ]
    },
    {
      "cell_type": "code",
      "execution_count": null,
      "metadata": {
        "colab": {
          "base_uri": "https://localhost:8080/"
        },
        "id": "mHjDL2mquLh_",
        "outputId": "598f218b-2449-4aa3-aa10-ce335792af9e"
      },
      "outputs": [
        {
          "data": {
            "text/plain": [
              "(5270, 5270)"
            ]
          },
          "execution_count": 22,
          "metadata": {},
          "output_type": "execute_result"
        }
      ],
      "source": [
        "len(train_images_df[\"category_idx\"].unique()), len(val_images_df[\"category_idx\"].unique())"
      ]
    },
    {
      "cell_type": "markdown",
      "metadata": {
        "id": "d1gms7zfuLh_"
      },
      "source": [
        "Quickly verify that the split really is approximately 80-20:"
      ]
    },
    {
      "cell_type": "code",
      "execution_count": null,
      "metadata": {
        "colab": {
          "base_uri": "https://localhost:8080/"
        },
        "id": "8rjpySMKuLh_",
        "outputId": "95f1a26c-4d90-4008-c271-ffe750e2816c"
      },
      "outputs": [
        {
          "data": {
            "text/plain": [
              "0.11453077699293643"
            ]
          },
          "execution_count": 23,
          "metadata": {},
          "output_type": "execute_result"
        }
      ],
      "source": [
        "category_idx = 619\n",
        "num_train = np.sum(train_images_df[\"category_idx\"] == category_idx)\n",
        "num_val = np.sum(val_images_df[\"category_idx\"] == category_idx)\n",
        "num_val / num_train"
      ]
    },
    {
      "cell_type": "markdown",
      "metadata": {
        "id": "DP1veonJuLiA"
      },
      "source": [
        "Close enough. ;-) Remember that we split on products but not all products have the same number of images, which is where the slightly discrepancy comes from. (Also, there tend to be fewer validation images if `drop_percentage` > 0.)"
      ]
    },
    {
      "cell_type": "markdown",
      "metadata": {
        "id": "mECRpaD7uLiA"
      },
      "source": [
        "Save the lookup tables as CSV so that we don't need to repeat the above procedure again."
      ]
    },
    {
      "cell_type": "code",
      "execution_count": null,
      "metadata": {
        "collapsed": true,
        "id": "s01tQT6WuLiB"
      },
      "outputs": [],
      "source": [
        "train_images_df.to_csv(\"train_images.csv\")\n",
        "val_images_df.to_csv(\"val_images.csv\")"
      ]
    },
    {
      "cell_type": "code",
      "execution_count": null,
      "metadata": {
        "id": "epNYwacj2VfR"
      },
      "outputs": [],
      "source": [
        "train_images_df.to_csv(\"/content/drive/MyDrive/kerasgenmodel/meta_data/train_images.csv\")\n",
        "val_images_df.to_csv(\"/content/drive/MyDrive/kerasgenmodel/meta_data/val_images.csv\")"
      ]
    },
    {
      "cell_type": "markdown",
      "metadata": {
        "id": "DRgc9fIduLiB"
      },
      "source": [
        "# Part 2: The generator"
      ]
    },
    {
      "cell_type": "markdown",
      "metadata": {
        "id": "I_J91DjauLiB"
      },
      "source": [
        "First load the lookup tables from the CSV files (you don't need to do this if you just did all the steps from part 1)."
      ]
    },
    {
      "cell_type": "code",
      "execution_count": null,
      "metadata": {
        "colab": {
          "base_uri": "https://localhost:8080/"
        },
        "collapsed": true,
        "id": "w-tqB9l3uLiC",
        "outputId": "30732983-9408-4594-b37c-0568831bc267"
      },
      "outputs": [
        {
          "name": "stderr",
          "output_type": "stream",
          "text": [
            "/usr/local/lib/python3.7/dist-packages/numpy/lib/arraysetops.py:569: FutureWarning: elementwise comparison failed; returning scalar instead, but in the future will perform elementwise comparison\n",
            "  mask |= (ar1 == a)\n"
          ]
        }
      ],
      "source": [
        "categories_df = pd.read_csv(\"/content/drive/MyDrive/kerasgenmodel/meta_data/categories.csv\", index_col=0)\n",
        "cat2idx, idx2cat = make_category_tables()\n",
        "\n",
        "train_offsets_df = pd.read_csv(\"/content/drive/MyDrive/kerasgenmodel/meta_datatrain_offsets.csv\", index_col=0)\n",
        "train_images_df = pd.read_csv(\"/content/drive/MyDrive/kerasgenmodel/meta_data/train_images.csv\", index_col=0)\n",
        "val_images_df = pd.read_csv(\"/content/drive/MyDrive/kerasgenmodel/meta_data/val_images.csv\", index_col=0)"
      ]
    },
    {
      "cell_type": "markdown",
      "metadata": {
        "id": "cBZCfdYcuLiC"
      },
      "source": [
        "The Keras generator is implemented by the `BSONIterator` class. It creates batches of images (and their one-hot encoded labels) directly from the BSON file. It can be used with multiple workers.\n",
        "\n",
        "**Note:** For fastest results, put the train.bson and test.bson files on a fast drive (SSD).\n",
        "\n",
        "See also the code in: https://github.com/fchollet/keras/blob/master/keras/preprocessing/image.py"
      ]
    },
    {
      "cell_type": "code",
      "execution_count": null,
      "metadata": {
        "collapsed": true,
        "id": "3JoQeDmsuLiD"
      },
      "outputs": [],
      "source": [
        "from keras.preprocessing.image import Iterator\n",
        "from keras.preprocessing.image import ImageDataGenerator\n",
        "from keras import backend as K\n",
        "\n",
        "class BSONIterator(Iterator):\n",
        "    def __init__(self, bson_file, images_df, offsets_df, num_class,\n",
        "                 image_data_generator, lock, target_size=(180, 180), \n",
        "                 with_labels=True, batch_size=32, shuffle=False, seed=None):\n",
        "\n",
        "        self.file = bson_file\n",
        "        self.images_df = images_df\n",
        "        self.offsets_df = offsets_df\n",
        "        self.with_labels = with_labels\n",
        "        self.samples = len(images_df)\n",
        "        self.num_class = num_class\n",
        "        self.image_data_generator = image_data_generator\n",
        "        self.target_size = tuple(target_size)\n",
        "        self.image_shape = self.target_size + (3,)\n",
        "\n",
        "        print(\"Found %d images belonging to %d classes.\" % (self.samples, self.num_class))\n",
        "\n",
        "        super(BSONIterator, self).__init__(self.samples, batch_size, shuffle, seed)\n",
        "        self.lock = lock\n",
        "\n",
        "    def _get_batches_of_transformed_samples(self, index_array):\n",
        "        batch_x = np.zeros((len(index_array),) + self.image_shape, dtype=K.floatx())\n",
        "        if self.with_labels:\n",
        "            batch_y = np.zeros((len(batch_x), self.num_class), dtype=K.floatx())\n",
        "\n",
        "        for i, j in enumerate(index_array):\n",
        "            # Protect file and dataframe access with a lock.\n",
        "            with self.lock:\n",
        "                image_row = self.images_df.iloc[j]\n",
        "                product_id = image_row[\"product_id\"]\n",
        "                offset_row = self.offsets_df.loc[product_id]\n",
        "\n",
        "                # Read this product's data from the BSON file.\n",
        "                self.file.seek(offset_row[\"offset\"])\n",
        "                item_data = self.file.read(offset_row[\"length\"])\n",
        "\n",
        "            # Grab the image from the product.\n",
        "            item = bson.BSON.decode(item_data)\n",
        "            img_idx = image_row[\"img_idx\"]\n",
        "            bson_img = item[\"imgs\"][img_idx][\"picture\"]\n",
        "\n",
        "            # Load the image.\n",
        "            img = load_img(io.BytesIO(bson_img), target_size=self.target_size)\n",
        "\n",
        "            # Preprocess the image.\n",
        "            x = img_to_array(img)\n",
        "            x = self.image_data_generator.random_transform(x)\n",
        "            x = self.image_data_generator.standardize(x)\n",
        "\n",
        "            # Add the image and the label to the batch (one-hot encoded).\n",
        "            batch_x[i] = x\n",
        "            if self.with_labels:\n",
        "                batch_y[i, image_row[\"category_idx\"]] = 1\n",
        "\n",
        "        if self.with_labels:\n",
        "            return batch_x, batch_y\n",
        "        else:\n",
        "            return batch_x\n",
        "\n",
        "    def next(self):\n",
        "        with self.lock:\n",
        "            index_array = next(self.index_generator)\n",
        "        return self._get_batches_of_transformed_samples(index_array[0])"
      ]
    },
    {
      "cell_type": "code",
      "execution_count": null,
      "metadata": {
        "collapsed": true,
        "id": "1zMVgJcWuLiE"
      },
      "outputs": [],
      "source": [
        "train_bson_file = open(train_bson_path, \"rb\")"
      ]
    },
    {
      "cell_type": "markdown",
      "metadata": {
        "id": "otehKh8FuLiE"
      },
      "source": [
        "Because the training and validation generators read from the same BSON file, they need to use the same lock to protect it."
      ]
    },
    {
      "cell_type": "code",
      "execution_count": null,
      "metadata": {
        "collapsed": true,
        "id": "6_DXTXKquLiF"
      },
      "outputs": [],
      "source": [
        "import threading\n",
        "lock = threading.Lock()"
      ]
    },
    {
      "cell_type": "markdown",
      "metadata": {
        "id": "56txaGsfuLiF"
      },
      "source": [
        "Create a generator for training and a generator for validation."
      ]
    },
    {
      "cell_type": "code",
      "execution_count": null,
      "metadata": {
        "colab": {
          "base_uri": "https://localhost:8080/"
        },
        "id": "Iv_OnDl8uLiG",
        "outputId": "78912a8a-f305-4e40-94e8-ca3a5c7649cf"
      },
      "outputs": [
        {
          "name": "stdout",
          "output_type": "stream",
          "text": [
            "Found 11139021 images belonging to 5270 classes.\n",
            "Found 1232272 images belonging to 5270 classes.\n"
          ]
        }
      ],
      "source": [
        "num_classes = 5270\n",
        "num_train_images = len(train_images_df)\n",
        "num_val_images = len(val_images_df)\n",
        "batch_size = 300\n",
        "\n",
        "# Tip: use ImageDataGenerator for data augmentation and preprocessing.\n",
        "train_datagen = ImageDataGenerator(rescale=1./255)\n",
        "train_gen = BSONIterator(train_bson_file, train_images_df, train_offsets_df, \n",
        "                         num_classes, train_datagen, lock,\n",
        "                         batch_size=batch_size, shuffle=True)\n",
        "\n",
        "val_datagen = ImageDataGenerator(rescale=1./255)\n",
        "val_gen = BSONIterator(train_bson_file, val_images_df, train_offsets_df,\n",
        "                       num_classes, val_datagen, lock,\n",
        "                       batch_size=batch_size, shuffle=True)"
      ]
    },
    {
      "cell_type": "code",
      "execution_count": null,
      "metadata": {
        "colab": {
          "base_uri": "https://localhost:8080/"
        },
        "id": "fDo_gJwnuLiG",
        "outputId": "eba14d0b-4a30-4c0e-cde5-cc37519ab2e0"
      },
      "outputs": [
        {
          "name": "stdout",
          "output_type": "stream",
          "text": [
            "CPU times: user 416 ms, sys: 38.3 ms, total: 454 ms\n",
            "Wall time: 1.07 s\n"
          ]
        }
      ],
      "source": [
        "next(train_gen)  # warm-up\n",
        "\n",
        "%time bx, by = next(train_gen)"
      ]
    },
    {
      "cell_type": "code",
      "execution_count": null,
      "metadata": {
        "id": "d7LQFy8GQTlt"
      },
      "outputs": [],
      "source": [
        "#Found 989740 images belonging to 5270 classes.\n",
        "#Found 242058 images belonging to 5270 classes."
      ]
    },
    {
      "cell_type": "code",
      "execution_count": null,
      "metadata": {
        "id": "pWzfxxx6KOnl"
      },
      "outputs": [],
      "source": [
        "# prepare data augmentation configuration\n",
        "#train_datagen = ImageDataGenerator(\n",
        "#        rescale=1./255,\n",
        "#        shear_range=0.2,\n",
        "#        zoom_range=0.2,\n",
        "#        horizontal_flip=True)"
      ]
    },
    {
      "cell_type": "markdown",
      "metadata": {
        "id": "t5-co2WTuLiG"
      },
      "source": [
        "How fast is the generator? Create a single batch:"
      ]
    },
    {
      "cell_type": "markdown",
      "metadata": {
        "id": "MyuBUROTuLiG"
      },
      "source": [
        "Does it really output images and one-hot encoded class labels? Note that the images are pre-processed (and augmented) and therefore may look weird."
      ]
    },
    {
      "cell_type": "code",
      "execution_count": null,
      "metadata": {
        "colab": {
          "base_uri": "https://localhost:8080/",
          "height": 286
        },
        "id": "fxVVIU7HuLiH",
        "outputId": "da337fec-51b3-42f7-efb1-0ac14f64858f"
      },
      "outputs": [
        {
          "data": {
            "text/plain": [
              "<matplotlib.image.AxesImage at 0x7f74e4aed9d0>"
            ]
          },
          "execution_count": 21,
          "metadata": {},
          "output_type": "execute_result"
        },
        {
          "data": {
            "image/png": "[encoded data removed]",
            "text/plain": [
              "<Figure size 432x288 with 1 Axes>"
            ]
          },
          "metadata": {},
          "output_type": "display_data"
        }
      ],
      "source": [
        "plt.imshow(bx[-1].astype(np.uint8))"
      ]
    },
    {
      "cell_type": "code",
      "execution_count": null,
      "metadata": {
        "colab": {
          "base_uri": "https://localhost:8080/"
        },
        "id": "tTMaEFN6uLiI",
        "outputId": "916caa4e-268f-4528-f1fa-3a735bee72bc"
      },
      "outputs": [
        {
          "data": {
            "text/plain": [
              "category_level1                             LIBRAIRIE\n",
              "category_level2    BRICOLAGE - DECORATION - JARDINAGE\n",
              "category_level3                            BRICOLAGE \n",
              "category_idx                                     3259\n",
              "Name: 1000014058, dtype: object"
            ]
          },
          "execution_count": 22,
          "metadata": {},
          "output_type": "execute_result"
        }
      ],
      "source": [
        "cat_idx = np.argmax(by[-1])\n",
        "cat_id = idx2cat[cat_idx]\n",
        "categories_df.loc[cat_id]"
      ]
    },
    {
      "cell_type": "code",
      "execution_count": null,
      "metadata": {
        "colab": {
          "base_uri": "https://localhost:8080/"
        },
        "id": "TuFMiGSFh1yv",
        "outputId": "6e95639a-fa24-48a0-c5e9-10eaf5d7baf2"
      },
      "outputs": [
        {
          "name": "stdout",
          "output_type": "stream",
          "text": [
            "CPU times: user 429 ms, sys: 90 ms, total: 519 ms\n",
            "Wall time: 1.03 s\n"
          ]
        }
      ],
      "source": [
        "%time bx, by = next(val_gen)"
      ]
    },
    {
      "cell_type": "code",
      "execution_count": null,
      "metadata": {
        "colab": {
          "base_uri": "https://localhost:8080/",
          "height": 286
        },
        "id": "8-euHOwTuLiK",
        "outputId": "9b2f530a-6f23-49de-bf9e-0e5b0aefe508"
      },
      "outputs": [
        {
          "data": {
            "text/plain": [
              "<matplotlib.image.AxesImage at 0x7f74e45dfd90>"
            ]
          },
          "execution_count": 24,
          "metadata": {},
          "output_type": "execute_result"
        },
        {
          "data": {
            "image/png": "[encoded data removed]",
            "text/plain": [
              "<Figure size 432x288 with 1 Axes>"
            ]
          },
          "metadata": {},
          "output_type": "display_data"
        }
      ],
      "source": [
        "plt.imshow(bx[-1].astype(np.uint8))"
      ]
    },
    {
      "cell_type": "code",
      "execution_count": null,
      "metadata": {
        "colab": {
          "base_uri": "https://localhost:8080/"
        },
        "id": "QgQSmTT7uLiK",
        "outputId": "1825a6d4-1830-4405-84a3-03e3f47d5d1c"
      },
      "outputs": [
        {
          "data": {
            "text/plain": [
              "category_level1                                              SPORT\n",
              "category_level2                               RUNNING - ATHLETISME\n",
              "category_level3    CHAUSSURES DE RUNNING - CHAUSSURES D'ATHLETISME\n",
              "category_idx                                                  4798\n",
              "Name: 1000018838, dtype: object"
            ]
          },
          "execution_count": 25,
          "metadata": {},
          "output_type": "execute_result"
        }
      ],
      "source": [
        "cat_idx = np.argmax(by[-1])\n",
        "cat_id = idx2cat[cat_idx]\n",
        "categories_df.loc[cat_id]"
      ]
    },
    {
      "cell_type": "markdown",
      "metadata": {
        "id": "JAmnB3F8uLiL"
      },
      "source": [
        "# Part 3: Training\n",
        "\n",
        "Create a very simple Keras model and train it, to test that the generators work."
      ]
    },
    {
      "cell_type": "code",
      "execution_count": null,
      "metadata": {
        "colab": {
          "base_uri": "https://localhost:8080/"
        },
        "id": "X1Iq8G4TuLiL",
        "outputId": "f4ef3253-8604-440d-93f8-ea058a836a47"
      },
      "outputs": [
        {
          "name": "stdout",
          "output_type": "stream",
          "text": [
            "_________________________________________________________________\n",
            "Layer (type)                 Output Shape              Param #   \n",
            "=================================================================\n",
            "conv2d_4 (Conv2D)            (None, 180, 180, 32)      896       \n",
            "_________________________________________________________________\n",
            "max_pooling2d_4 (MaxPooling2 (None, 90, 90, 32)        0         \n",
            "_________________________________________________________________\n",
            "conv2d_5 (Conv2D)            (None, 90, 90, 64)        18496     \n",
            "_________________________________________________________________\n",
            "max_pooling2d_5 (MaxPooling2 (None, 45, 45, 64)        0         \n",
            "_________________________________________________________________\n",
            "conv2d_6 (Conv2D)            (None, 45, 45, 128)       73856     \n",
            "_________________________________________________________________\n",
            "max_pooling2d_6 (MaxPooling2 (None, 22, 22, 128)       0         \n",
            "_________________________________________________________________\n",
            "global_average_pooling2d_2 ( (None, 128)               0         \n",
            "_________________________________________________________________\n",
            "dense_2 (Dense)              (None, 5270)              679830    \n",
            "=================================================================\n",
            "Total params: 773,078\n",
            "Trainable params: 773,078\n",
            "Non-trainable params: 0\n",
            "_________________________________________________________________\n"
          ]
        }
      ],
      "source": [
        "from keras.models import Sequential\n",
        "from keras.layers import Dropout, Flatten, Dense\n",
        "from keras.layers.convolutional import Conv2D\n",
        "from keras.layers.pooling import MaxPooling2D, GlobalAveragePooling2D\n",
        "\n",
        "model = Sequential()\n",
        "model.add(Conv2D(32, 3, padding=\"same\", activation=\"relu\", input_shape=(180, 180, 3)))\n",
        "model.add(MaxPooling2D())\n",
        "model.add(Conv2D(64, 3, padding=\"same\", activation=\"relu\"))\n",
        "model.add(MaxPooling2D())\n",
        "model.add(Conv2D(128, 3, padding=\"same\", activation=\"relu\"))\n",
        "model.add(MaxPooling2D(2,2))\n",
        "model.add(GlobalAveragePooling2D())\n",
        "model.add(Dense(num_classes, activation=\"softmax\"))\n",
        "\n",
        "model.compile(optimizer=\"adam\",\n",
        "              loss=\"categorical_crossentropy\",\n",
        "              metrics=[\"accuracy\"])\n",
        "\n",
        "model.summary()"
      ]
    },
    {
      "cell_type": "code",
      "execution_count": null,
      "metadata": {
        "colab": {
          "base_uri": "https://localhost:8080/"
        },
        "id": "I5YJXs-NuLiM",
        "outputId": "3af4566c-cad4-4e1a-b4ed-2dac7c16041a"
      },
      "outputs": [
        {
          "name": "stdout",
          "output_type": "stream",
          "text": [
            "Epoch 1/1\n"
          ]
        },
        {
          "name": "stderr",
          "output_type": "stream",
          "text": [
            "WARNING:tensorflow:From /usr/local/lib/python3.7/dist-packages/keras/backend/tensorflow_backend.py:153: The name tf.get_default_session is deprecated. Please use tf.compat.v1.get_default_session instead.\n",
            "\n",
            "WARNING:tensorflow:From /usr/local/lib/python3.7/dist-packages/keras/backend/tensorflow_backend.py:158: The name tf.ConfigProto is deprecated. Please use tf.compat.v1.ConfigProto instead.\n",
            "\n",
            "WARNING:tensorflow:From /usr/local/lib/python3.7/dist-packages/keras/backend/tensorflow_backend.py:333: The name tf.global_variables is deprecated. Please use tf.compat.v1.global_variables instead.\n",
            "\n",
            "WARNING:tensorflow:From /usr/local/lib/python3.7/dist-packages/keras/backend/tensorflow_backend.py:341: The name tf.variables_initializer is deprecated. Please use tf.compat.v1.variables_initializer instead.\n",
            "\n"
          ]
        },
        {
          "name": "stdout",
          "output_type": "stream",
          "text": [
            "50/50 [==============================] - 564s - loss: 7.4456 - acc: 0.0059 - val_loss: 15.9462 - val_acc: 0.0050\n"
          ]
        },
        {
          "data": {
            "text/plain": [
              "<keras.callbacks.History at 0x7f07a0971790>"
            ]
          },
          "execution_count": 27,
          "metadata": {},
          "output_type": "execute_result"
        }
      ],
      "source": [
        "# To train the model:\n",
        "model.fit_generator(train_gen,\n",
        "                    steps_per_epoch = 50,   #num_train_images // batch_size,\n",
        "                    epochs = 1,\n",
        "                    validation_data = val_gen,\n",
        "                    validation_steps = 10,  #num_val_images // batch_size,\n",
        "                    workers = 8)"
      ]
    },
    {
      "cell_type": "code",
      "execution_count": null,
      "metadata": {
        "colab": {
          "base_uri": "https://localhost:8080/"
        },
        "id": "PBqfm6PW1Pf8",
        "outputId": "84ada47f-cd5b-4156-afdc-80d0a779c76d"
      },
      "outputs": [
        {
          "name": "stdout",
          "output_type": "stream",
          "text": [
            "Model Saved\n"
          ]
        }
      ],
      "source": [
        "model.save('/content/model',include_optimizer=True)\n",
        "print(\"Model Saved\")"
      ]
    },
    {
      "cell_type": "code",
      "execution_count": null,
      "metadata": {
        "id": "Ynq3VeKA1Wbi"
      },
      "outputs": [],
      "source": [
        "from keras.models import load_model\n",
        "demo = load_model('/content/model')"
      ]
    },
    {
      "cell_type": "code",
      "execution_count": null,
      "metadata": {
        "colab": {
          "base_uri": "https://localhost:8080/"
        },
        "id": "7OaJ0QEH1fs6",
        "outputId": "fcd5f907-1527-4d64-895b-4187c82e1664"
      },
      "outputs": [
        {
          "name": "stdout",
          "output_type": "stream",
          "text": [
            "Epoch 1/3\n",
            "50/50 [==============================] - 363s - loss: 6.9756 - acc: 0.0076 - val_loss: 15.9178 - val_acc: 0.0073\n",
            "Epoch 2/3\n",
            "50/50 [==============================] - 323s - loss: 6.8859 - acc: 0.0101 - val_loss: 15.9981 - val_acc: 0.0073\n",
            "Epoch 3/3\n",
            "50/50 [==============================] - 342s - loss: 6.8476 - acc: 0.0113 - val_loss: 15.9943 - val_acc: 0.0067\n"
          ]
        },
        {
          "data": {
            "text/plain": [
              "<keras.callbacks.History at 0x7f079e6b78d0>"
            ]
          },
          "execution_count": 32,
          "metadata": {},
          "output_type": "execute_result"
        }
      ],
      "source": [
        "# To train the model:\n",
        "demo.fit_generator(train_gen,\n",
        "                    steps_per_epoch = 50,   #num_train_images // batch_size,\n",
        "                    epochs = 3,\n",
        "                    validation_data = val_gen,\n",
        "                    validation_steps = 10,  #num_val_images // batch_size,\n",
        "                    workers = 8)"
      ]
    },
    {
      "cell_type": "code",
      "execution_count": null,
      "metadata": {
        "colab": {
          "base_uri": "https://localhost:8080/"
        },
        "id": "bsewKKiH5K7N",
        "outputId": "70279f7b-31ec-4585-f6e5-ab9a68473cd8"
      },
      "outputs": [
        {
          "name": "stdout",
          "output_type": "stream",
          "text": [
            "Model Saved\n"
          ]
        }
      ],
      "source": [
        "model.save('/content/model2',include_optimizer=True)\n",
        "print(\"Model Saved\")"
      ]
    },
    {
      "cell_type": "code",
      "execution_count": null,
      "metadata": {
        "id": "42Q4F3Rh5K71"
      },
      "outputs": [],
      "source": [
        "from keras.models import load_model\n",
        "demo2 = load_model('/content/model2')"
      ]
    },
    {
      "cell_type": "code",
      "execution_count": null,
      "metadata": {
        "colab": {
          "base_uri": "https://localhost:8080/",
          "height": 397
        },
        "id": "p_sg0yp35PjO",
        "outputId": "262ac430-6ebe-47d1-a20c-f93d43cf45a4"
      },
      "outputs": [
        {
          "name": "stdout",
          "output_type": "stream",
          "text": [
            "Epoch 1/3\n",
            "29/50 [================>.............] - ETA: 138s - loss: 7.6707 - acc: 0.0054"
          ]
        },
        {
          "ename": "KeyboardInterrupt",
          "evalue": "ignored",
          "output_type": "error",
          "traceback": [
            "\u001b[0;31m---------------------------------------------------------------------------\u001b[0m",
            "\u001b[0;31mKeyboardInterrupt\u001b[0m                         Traceback (most recent call last)",
            "\u001b[0;32m<ipython-input-36-aab74815e655>\u001b[0m in \u001b[0;36m<module>\u001b[0;34m\u001b[0m\n\u001b[1;32m      5\u001b[0m                     \u001b[0mvalidation_data\u001b[0m \u001b[0;34m=\u001b[0m \u001b[0mval_gen\u001b[0m\u001b[0;34m,\u001b[0m\u001b[0;34m\u001b[0m\u001b[0;34m\u001b[0m\u001b[0m\n\u001b[1;32m      6\u001b[0m                     \u001b[0mvalidation_steps\u001b[0m \u001b[0;34m=\u001b[0m \u001b[0;36m10\u001b[0m\u001b[0;34m,\u001b[0m  \u001b[0;31m#num_val_images // batch_size,\u001b[0m\u001b[0;34m\u001b[0m\u001b[0;34m\u001b[0m\u001b[0m\n\u001b[0;32m----> 7\u001b[0;31m                     workers = 8)\n\u001b[0m",
            "\u001b[0;32m/usr/local/lib/python3.7/dist-packages/keras/legacy/interfaces.py\u001b[0m in \u001b[0;36mwrapper\u001b[0;34m(*args, **kwargs)\u001b[0m\n\u001b[1;32m     85\u001b[0m                 warnings.warn('Update your `' + object_name +\n\u001b[1;32m     86\u001b[0m                               '` call to the Keras 2 API: ' + signature, stacklevel=2)\n\u001b[0;32m---> 87\u001b[0;31m             \u001b[0;32mreturn\u001b[0m \u001b[0mfunc\u001b[0m\u001b[0;34m(\u001b[0m\u001b[0;34m*\u001b[0m\u001b[0margs\u001b[0m\u001b[0;34m,\u001b[0m \u001b[0;34m**\u001b[0m\u001b[0mkwargs\u001b[0m\u001b[0;34m)\u001b[0m\u001b[0;34m\u001b[0m\u001b[0;34m\u001b[0m\u001b[0m\n\u001b[0m\u001b[1;32m     88\u001b[0m         \u001b[0mwrapper\u001b[0m\u001b[0;34m.\u001b[0m\u001b[0m_original_function\u001b[0m \u001b[0;34m=\u001b[0m \u001b[0mfunc\u001b[0m\u001b[0;34m\u001b[0m\u001b[0;34m\u001b[0m\u001b[0m\n\u001b[1;32m     89\u001b[0m         \u001b[0;32mreturn\u001b[0m \u001b[0mwrapper\u001b[0m\u001b[0;34m\u001b[0m\u001b[0;34m\u001b[0m\u001b[0m\n",
            "\u001b[0;32m/usr/local/lib/python3.7/dist-packages/keras/models.py\u001b[0m in \u001b[0;36mfit_generator\u001b[0;34m(self, generator, steps_per_epoch, epochs, verbose, callbacks, validation_data, validation_steps, class_weight, max_queue_size, workers, use_multiprocessing, initial_epoch)\u001b[0m\n\u001b[1;32m   1119\u001b[0m                                         \u001b[0mworkers\u001b[0m\u001b[0;34m=\u001b[0m\u001b[0mworkers\u001b[0m\u001b[0;34m,\u001b[0m\u001b[0;34m\u001b[0m\u001b[0;34m\u001b[0m\u001b[0m\n\u001b[1;32m   1120\u001b[0m                                         \u001b[0muse_multiprocessing\u001b[0m\u001b[0;34m=\u001b[0m\u001b[0muse_multiprocessing\u001b[0m\u001b[0;34m,\u001b[0m\u001b[0;34m\u001b[0m\u001b[0;34m\u001b[0m\u001b[0m\n\u001b[0;32m-> 1121\u001b[0;31m                                         initial_epoch=initial_epoch)\n\u001b[0m\u001b[1;32m   1122\u001b[0m \u001b[0;34m\u001b[0m\u001b[0m\n\u001b[1;32m   1123\u001b[0m     \u001b[0;34m@\u001b[0m\u001b[0minterfaces\u001b[0m\u001b[0;34m.\u001b[0m\u001b[0mlegacy_generator_methods_support\u001b[0m\u001b[0;34m\u001b[0m\u001b[0;34m\u001b[0m\u001b[0m\n",
            "\u001b[0;32m/usr/local/lib/python3.7/dist-packages/keras/legacy/interfaces.py\u001b[0m in \u001b[0;36mwrapper\u001b[0;34m(*args, **kwargs)\u001b[0m\n\u001b[1;32m     85\u001b[0m                 warnings.warn('Update your `' + object_name +\n\u001b[1;32m     86\u001b[0m                               '` call to the Keras 2 API: ' + signature, stacklevel=2)\n\u001b[0;32m---> 87\u001b[0;31m             \u001b[0;32mreturn\u001b[0m \u001b[0mfunc\u001b[0m\u001b[0;34m(\u001b[0m\u001b[0;34m*\u001b[0m\u001b[0margs\u001b[0m\u001b[0;34m,\u001b[0m \u001b[0;34m**\u001b[0m\u001b[0mkwargs\u001b[0m\u001b[0;34m)\u001b[0m\u001b[0;34m\u001b[0m\u001b[0;34m\u001b[0m\u001b[0m\n\u001b[0m\u001b[1;32m     88\u001b[0m         \u001b[0mwrapper\u001b[0m\u001b[0;34m.\u001b[0m\u001b[0m_original_function\u001b[0m \u001b[0;34m=\u001b[0m \u001b[0mfunc\u001b[0m\u001b[0;34m\u001b[0m\u001b[0;34m\u001b[0m\u001b[0m\n\u001b[1;32m     89\u001b[0m         \u001b[0;32mreturn\u001b[0m \u001b[0mwrapper\u001b[0m\u001b[0;34m\u001b[0m\u001b[0;34m\u001b[0m\u001b[0m\n",
            "\u001b[0;32m/usr/local/lib/python3.7/dist-packages/keras/engine/training.py\u001b[0m in \u001b[0;36mfit_generator\u001b[0;34m(self, generator, steps_per_epoch, epochs, verbose, callbacks, validation_data, validation_steps, class_weight, max_queue_size, workers, use_multiprocessing, shuffle, initial_epoch)\u001b[0m\n\u001b[1;32m   2040\u001b[0m                     outs = self.train_on_batch(x, y,\n\u001b[1;32m   2041\u001b[0m                                                \u001b[0msample_weight\u001b[0m\u001b[0;34m=\u001b[0m\u001b[0msample_weight\u001b[0m\u001b[0;34m,\u001b[0m\u001b[0;34m\u001b[0m\u001b[0;34m\u001b[0m\u001b[0m\n\u001b[0;32m-> 2042\u001b[0;31m                                                class_weight=class_weight)\n\u001b[0m\u001b[1;32m   2043\u001b[0m \u001b[0;34m\u001b[0m\u001b[0m\n\u001b[1;32m   2044\u001b[0m                     \u001b[0;32mif\u001b[0m \u001b[0;32mnot\u001b[0m \u001b[0misinstance\u001b[0m\u001b[0;34m(\u001b[0m\u001b[0mouts\u001b[0m\u001b[0;34m,\u001b[0m \u001b[0mlist\u001b[0m\u001b[0;34m)\u001b[0m\u001b[0;34m:\u001b[0m\u001b[0;34m\u001b[0m\u001b[0;34m\u001b[0m\u001b[0m\n",
            "\u001b[0;32m/usr/local/lib/python3.7/dist-packages/keras/engine/training.py\u001b[0m in \u001b[0;36mtrain_on_batch\u001b[0;34m(self, x, y, sample_weight, class_weight)\u001b[0m\n\u001b[1;32m   1760\u001b[0m             \u001b[0mins\u001b[0m \u001b[0;34m=\u001b[0m \u001b[0mx\u001b[0m \u001b[0;34m+\u001b[0m \u001b[0my\u001b[0m \u001b[0;34m+\u001b[0m \u001b[0msample_weights\u001b[0m\u001b[0;34m\u001b[0m\u001b[0;34m\u001b[0m\u001b[0m\n\u001b[1;32m   1761\u001b[0m         \u001b[0mself\u001b[0m\u001b[0;34m.\u001b[0m\u001b[0m_make_train_function\u001b[0m\u001b[0;34m(\u001b[0m\u001b[0;34m)\u001b[0m\u001b[0;34m\u001b[0m\u001b[0;34m\u001b[0m\u001b[0m\n\u001b[0;32m-> 1762\u001b[0;31m         \u001b[0moutputs\u001b[0m \u001b[0;34m=\u001b[0m \u001b[0mself\u001b[0m\u001b[0;34m.\u001b[0m\u001b[0mtrain_function\u001b[0m\u001b[0;34m(\u001b[0m\u001b[0mins\u001b[0m\u001b[0;34m)\u001b[0m\u001b[0;34m\u001b[0m\u001b[0;34m\u001b[0m\u001b[0m\n\u001b[0m\u001b[1;32m   1763\u001b[0m         \u001b[0;32mif\u001b[0m \u001b[0mlen\u001b[0m\u001b[0;34m(\u001b[0m\u001b[0moutputs\u001b[0m\u001b[0;34m)\u001b[0m \u001b[0;34m==\u001b[0m \u001b[0;36m1\u001b[0m\u001b[0;34m:\u001b[0m\u001b[0;34m\u001b[0m\u001b[0;34m\u001b[0m\u001b[0m\n\u001b[1;32m   1764\u001b[0m             \u001b[0;32mreturn\u001b[0m \u001b[0moutputs\u001b[0m\u001b[0;34m[\u001b[0m\u001b[0;36m0\u001b[0m\u001b[0;34m]\u001b[0m\u001b[0;34m\u001b[0m\u001b[0;34m\u001b[0m\u001b[0m\n",
            "\u001b[0;32m/usr/local/lib/python3.7/dist-packages/keras/backend/tensorflow_backend.py\u001b[0m in \u001b[0;36m__call__\u001b[0;34m(self, inputs)\u001b[0m\n\u001b[1;32m   2271\u001b[0m         updated = session.run(self.outputs + [self.updates_op],\n\u001b[1;32m   2272\u001b[0m                               \u001b[0mfeed_dict\u001b[0m\u001b[0;34m=\u001b[0m\u001b[0mfeed_dict\u001b[0m\u001b[0;34m,\u001b[0m\u001b[0;34m\u001b[0m\u001b[0;34m\u001b[0m\u001b[0m\n\u001b[0;32m-> 2273\u001b[0;31m                               **self.session_kwargs)\n\u001b[0m\u001b[1;32m   2274\u001b[0m         \u001b[0;32mreturn\u001b[0m \u001b[0mupdated\u001b[0m\u001b[0;34m[\u001b[0m\u001b[0;34m:\u001b[0m\u001b[0mlen\u001b[0m\u001b[0;34m(\u001b[0m\u001b[0mself\u001b[0m\u001b[0;34m.\u001b[0m\u001b[0moutputs\u001b[0m\u001b[0;34m)\u001b[0m\u001b[0;34m]\u001b[0m\u001b[0;34m\u001b[0m\u001b[0;34m\u001b[0m\u001b[0m\n\u001b[1;32m   2275\u001b[0m \u001b[0;34m\u001b[0m\u001b[0m\n",
            "\u001b[0;32m/usr/local/lib/python3.7/dist-packages/tensorflow_core/python/client/session.py\u001b[0m in \u001b[0;36mrun\u001b[0;34m(self, fetches, feed_dict, options, run_metadata)\u001b[0m\n\u001b[1;32m    954\u001b[0m     \u001b[0;32mtry\u001b[0m\u001b[0;34m:\u001b[0m\u001b[0;34m\u001b[0m\u001b[0;34m\u001b[0m\u001b[0m\n\u001b[1;32m    955\u001b[0m       result = self._run(None, fetches, feed_dict, options_ptr,\n\u001b[0;32m--> 956\u001b[0;31m                          run_metadata_ptr)\n\u001b[0m\u001b[1;32m    957\u001b[0m       \u001b[0;32mif\u001b[0m \u001b[0mrun_metadata\u001b[0m\u001b[0;34m:\u001b[0m\u001b[0;34m\u001b[0m\u001b[0;34m\u001b[0m\u001b[0m\n\u001b[1;32m    958\u001b[0m         \u001b[0mproto_data\u001b[0m \u001b[0;34m=\u001b[0m \u001b[0mtf_session\u001b[0m\u001b[0;34m.\u001b[0m\u001b[0mTF_GetBuffer\u001b[0m\u001b[0;34m(\u001b[0m\u001b[0mrun_metadata_ptr\u001b[0m\u001b[0;34m)\u001b[0m\u001b[0;34m\u001b[0m\u001b[0;34m\u001b[0m\u001b[0m\n",
            "\u001b[0;32m/usr/local/lib/python3.7/dist-packages/tensorflow_core/python/client/session.py\u001b[0m in \u001b[0;36m_run\u001b[0;34m(self, handle, fetches, feed_dict, options, run_metadata)\u001b[0m\n\u001b[1;32m   1178\u001b[0m     \u001b[0;32mif\u001b[0m \u001b[0mfinal_fetches\u001b[0m \u001b[0;32mor\u001b[0m \u001b[0mfinal_targets\u001b[0m \u001b[0;32mor\u001b[0m \u001b[0;34m(\u001b[0m\u001b[0mhandle\u001b[0m \u001b[0;32mand\u001b[0m \u001b[0mfeed_dict_tensor\u001b[0m\u001b[0;34m)\u001b[0m\u001b[0;34m:\u001b[0m\u001b[0;34m\u001b[0m\u001b[0;34m\u001b[0m\u001b[0m\n\u001b[1;32m   1179\u001b[0m       results = self._do_run(handle, final_targets, final_fetches,\n\u001b[0;32m-> 1180\u001b[0;31m                              feed_dict_tensor, options, run_metadata)\n\u001b[0m\u001b[1;32m   1181\u001b[0m     \u001b[0;32melse\u001b[0m\u001b[0;34m:\u001b[0m\u001b[0;34m\u001b[0m\u001b[0;34m\u001b[0m\u001b[0m\n\u001b[1;32m   1182\u001b[0m       \u001b[0mresults\u001b[0m \u001b[0;34m=\u001b[0m \u001b[0;34m[\u001b[0m\u001b[0;34m]\u001b[0m\u001b[0;34m\u001b[0m\u001b[0;34m\u001b[0m\u001b[0m\n",
            "\u001b[0;32m/usr/local/lib/python3.7/dist-packages/tensorflow_core/python/client/session.py\u001b[0m in \u001b[0;36m_do_run\u001b[0;34m(self, handle, target_list, fetch_list, feed_dict, options, run_metadata)\u001b[0m\n\u001b[1;32m   1357\u001b[0m     \u001b[0;32mif\u001b[0m \u001b[0mhandle\u001b[0m \u001b[0;32mis\u001b[0m \u001b[0;32mNone\u001b[0m\u001b[0;34m:\u001b[0m\u001b[0;34m\u001b[0m\u001b[0;34m\u001b[0m\u001b[0m\n\u001b[1;32m   1358\u001b[0m       return self._do_call(_run_fn, feeds, fetches, targets, options,\n\u001b[0;32m-> 1359\u001b[0;31m                            run_metadata)\n\u001b[0m\u001b[1;32m   1360\u001b[0m     \u001b[0;32melse\u001b[0m\u001b[0;34m:\u001b[0m\u001b[0;34m\u001b[0m\u001b[0;34m\u001b[0m\u001b[0m\n\u001b[1;32m   1361\u001b[0m       \u001b[0;32mreturn\u001b[0m \u001b[0mself\u001b[0m\u001b[0;34m.\u001b[0m\u001b[0m_do_call\u001b[0m\u001b[0;34m(\u001b[0m\u001b[0m_prun_fn\u001b[0m\u001b[0;34m,\u001b[0m \u001b[0mhandle\u001b[0m\u001b[0;34m,\u001b[0m \u001b[0mfeeds\u001b[0m\u001b[0;34m,\u001b[0m \u001b[0mfetches\u001b[0m\u001b[0;34m)\u001b[0m\u001b[0;34m\u001b[0m\u001b[0;34m\u001b[0m\u001b[0m\n",
            "\u001b[0;32m/usr/local/lib/python3.7/dist-packages/tensorflow_core/python/client/session.py\u001b[0m in \u001b[0;36m_do_call\u001b[0;34m(self, fn, *args)\u001b[0m\n\u001b[1;32m   1363\u001b[0m   \u001b[0;32mdef\u001b[0m \u001b[0m_do_call\u001b[0m\u001b[0;34m(\u001b[0m\u001b[0mself\u001b[0m\u001b[0;34m,\u001b[0m \u001b[0mfn\u001b[0m\u001b[0;34m,\u001b[0m \u001b[0;34m*\u001b[0m\u001b[0margs\u001b[0m\u001b[0;34m)\u001b[0m\u001b[0;34m:\u001b[0m\u001b[0;34m\u001b[0m\u001b[0;34m\u001b[0m\u001b[0m\n\u001b[1;32m   1364\u001b[0m     \u001b[0;32mtry\u001b[0m\u001b[0;34m:\u001b[0m\u001b[0;34m\u001b[0m\u001b[0;34m\u001b[0m\u001b[0m\n\u001b[0;32m-> 1365\u001b[0;31m       \u001b[0;32mreturn\u001b[0m \u001b[0mfn\u001b[0m\u001b[0;34m(\u001b[0m\u001b[0;34m*\u001b[0m\u001b[0margs\u001b[0m\u001b[0;34m)\u001b[0m\u001b[0;34m\u001b[0m\u001b[0;34m\u001b[0m\u001b[0m\n\u001b[0m\u001b[1;32m   1366\u001b[0m     \u001b[0;32mexcept\u001b[0m \u001b[0merrors\u001b[0m\u001b[0;34m.\u001b[0m\u001b[0mOpError\u001b[0m \u001b[0;32mas\u001b[0m \u001b[0me\u001b[0m\u001b[0;34m:\u001b[0m\u001b[0;34m\u001b[0m\u001b[0;34m\u001b[0m\u001b[0m\n\u001b[1;32m   1367\u001b[0m       \u001b[0mmessage\u001b[0m \u001b[0;34m=\u001b[0m \u001b[0mcompat\u001b[0m\u001b[0;34m.\u001b[0m\u001b[0mas_text\u001b[0m\u001b[0;34m(\u001b[0m\u001b[0me\u001b[0m\u001b[0;34m.\u001b[0m\u001b[0mmessage\u001b[0m\u001b[0;34m)\u001b[0m\u001b[0;34m\u001b[0m\u001b[0;34m\u001b[0m\u001b[0m\n",
            "\u001b[0;32m/usr/local/lib/python3.7/dist-packages/tensorflow_core/python/client/session.py\u001b[0m in \u001b[0;36m_run_fn\u001b[0;34m(feed_dict, fetch_list, target_list, options, run_metadata)\u001b[0m\n\u001b[1;32m   1348\u001b[0m       \u001b[0mself\u001b[0m\u001b[0;34m.\u001b[0m\u001b[0m_extend_graph\u001b[0m\u001b[0;34m(\u001b[0m\u001b[0;34m)\u001b[0m\u001b[0;34m\u001b[0m\u001b[0;34m\u001b[0m\u001b[0m\n\u001b[1;32m   1349\u001b[0m       return self._call_tf_sessionrun(options, feed_dict, fetch_list,\n\u001b[0;32m-> 1350\u001b[0;31m                                       target_list, run_metadata)\n\u001b[0m\u001b[1;32m   1351\u001b[0m \u001b[0;34m\u001b[0m\u001b[0m\n\u001b[1;32m   1352\u001b[0m     \u001b[0;32mdef\u001b[0m \u001b[0m_prun_fn\u001b[0m\u001b[0;34m(\u001b[0m\u001b[0mhandle\u001b[0m\u001b[0;34m,\u001b[0m \u001b[0mfeed_dict\u001b[0m\u001b[0;34m,\u001b[0m \u001b[0mfetch_list\u001b[0m\u001b[0;34m)\u001b[0m\u001b[0;34m:\u001b[0m\u001b[0;34m\u001b[0m\u001b[0;34m\u001b[0m\u001b[0m\n",
            "\u001b[0;32m/usr/local/lib/python3.7/dist-packages/tensorflow_core/python/client/session.py\u001b[0m in \u001b[0;36m_call_tf_sessionrun\u001b[0;34m(self, options, feed_dict, fetch_list, target_list, run_metadata)\u001b[0m\n\u001b[1;32m   1441\u001b[0m     return tf_session.TF_SessionRun_wrapper(self._session, options, feed_dict,\n\u001b[1;32m   1442\u001b[0m                                             \u001b[0mfetch_list\u001b[0m\u001b[0;34m,\u001b[0m \u001b[0mtarget_list\u001b[0m\u001b[0;34m,\u001b[0m\u001b[0;34m\u001b[0m\u001b[0;34m\u001b[0m\u001b[0m\n\u001b[0;32m-> 1443\u001b[0;31m                                             run_metadata)\n\u001b[0m\u001b[1;32m   1444\u001b[0m \u001b[0;34m\u001b[0m\u001b[0m\n\u001b[1;32m   1445\u001b[0m   \u001b[0;32mdef\u001b[0m \u001b[0m_call_tf_sessionprun\u001b[0m\u001b[0;34m(\u001b[0m\u001b[0mself\u001b[0m\u001b[0;34m,\u001b[0m \u001b[0mhandle\u001b[0m\u001b[0;34m,\u001b[0m \u001b[0mfeed_dict\u001b[0m\u001b[0;34m,\u001b[0m \u001b[0mfetch_list\u001b[0m\u001b[0;34m)\u001b[0m\u001b[0;34m:\u001b[0m\u001b[0;34m\u001b[0m\u001b[0;34m\u001b[0m\u001b[0m\n",
            "\u001b[0;31mKeyboardInterrupt\u001b[0m: "
          ]
        }
      ],
      "source": [
        "# To train the model:\n",
        "demo2.fit_generator(train_gen,\n",
        "                    steps_per_epoch = 50,   #num_train_images // batch_size,\n",
        "                    epochs = 3,\n",
        "                    validation_data = val_gen,\n",
        "                    validation_steps = 10,  #num_val_images // batch_size,\n",
        "                    workers = 8)"
      ]
    },
    {
      "cell_type": "code",
      "execution_count": null,
      "metadata": {
        "collapsed": true,
        "id": "G6pl7-2suLiM"
      },
      "outputs": [],
      "source": [
        "# To evaluate on the validation set:\n",
        "#model.evaluate_generator(val_gen, steps=num_val_images // batch_size, workers=8)"
      ]
    },
    {
      "cell_type": "code",
      "execution_count": null,
      "metadata": {
        "colab": {
          "background_save": true
        },
        "id": "0pJax8pXUePB"
      },
      "outputs": [],
      "source": [
        "def lr_scheduler(epoch, lr):\n",
        "    'For every 2nd epoch, decay learning rate by 5%'\n",
        "    decay_rate = .95\n",
        "    decay_step = 1\n",
        "    if (epoch+1) % decay_step == 0 :\n",
        "        return lr * decay_rate\n",
        "    return lr\n"
      ]
    },
    {
      "cell_type": "code",
      "execution_count": null,
      "metadata": {
        "id": "t1XOVt8iUfKr"
      },
      "outputs": [],
      "source": [
        "from keras.callbacks import ReduceLROnPlateau\n",
        "from keras.callbacks import LearningRateScheduler\n",
        "\n",
        "reduce_lr = ReduceLROnPlateau(monitor='val_acc', factor=0.2, patience=1, min_lr=0.0000000003)\n",
        "\n",
        "#lrschedule = LearningRateScheduler(lr_scheduler)"
      ]
    },
    {
      "cell_type": "code",
      "execution_count": null,
      "metadata": {
        "id": "4_nqwXKErQW4"
      },
      "outputs": [],
      "source": [
        "from keras.layers import Input, Lambda, Dense, Flatten\n",
        "from keras.models import Model\n",
        "from keras.applications.vgg16 import VGG16\n",
        "from keras.applications.vgg16 import preprocess_input\n",
        "from keras.preprocessing import image\n",
        "from keras.layers import Dense, Conv2D, MaxPool2D , Flatten\n",
        "from keras.callbacks import Callback\n",
        "from keras.callbacks import TensorBoard\n"
      ]
    },
    {
      "cell_type": "code",
      "execution_count": null,
      "metadata": {
        "id": "T8HPHulM7MdX"
      },
      "outputs": [],
      "source": [
        "from keras.applications.xception import Xception\n",
        "from keras.applications.xception import preprocess_input"
      ]
    },
    {
      "cell_type": "code",
      "execution_count": null,
      "metadata": {
        "colab": {
          "base_uri": "https://localhost:8080/"
        },
        "id": "3ahaYxR1vuKy",
        "outputId": "7c1fdb3b-6c44-4c2f-838d-853093a846c6"
      },
      "outputs": [
        {
          "name": "stderr",
          "output_type": "stream",
          "text": [
            "WARNING:tensorflow:From /usr/local/lib/python3.7/dist-packages/keras/backend/tensorflow_backend.py:58: The name tf.get_default_graph is deprecated. Please use tf.compat.v1.get_default_graph instead.\n",
            "\n",
            "WARNING:tensorflow:From /usr/local/lib/python3.7/dist-packages/keras/backend/tensorflow_backend.py:442: The name tf.placeholder is deprecated. Please use tf.compat.v1.placeholder instead.\n",
            "\n",
            "WARNING:tensorflow:From /usr/local/lib/python3.7/dist-packages/keras/backend/tensorflow_backend.py:3543: The name tf.random_uniform is deprecated. Please use tf.random.uniform instead.\n",
            "\n",
            "WARNING:tensorflow:From /usr/local/lib/python3.7/dist-packages/keras/backend/tensorflow_backend.py:3386: The name tf.nn.max_pool is deprecated. Please use tf.nn.max_pool2d instead.\n",
            "\n"
          ]
        },
        {
          "name": "stdout",
          "output_type": "stream",
          "text": [
            "Downloading data from https://github.com/fchollet/deep-learning-models/releases/download/v0.4/xception_weights_tf_dim_ordering_tf_kernels_notop.h5\n",
            "79699968/83683744 [===========================>..] - ETA: 0s"
          ]
        },
        {
          "name": "stderr",
          "output_type": "stream",
          "text": [
            "WARNING:tensorflow:From /usr/local/lib/python3.7/dist-packages/keras/backend/tensorflow_backend.py:153: The name tf.get_default_session is deprecated. Please use tf.compat.v1.get_default_session instead.\n",
            "\n",
            "WARNING:tensorflow:From /usr/local/lib/python3.7/dist-packages/keras/backend/tensorflow_backend.py:158: The name tf.ConfigProto is deprecated. Please use tf.compat.v1.ConfigProto instead.\n",
            "\n",
            "WARNING:tensorflow:From /usr/local/lib/python3.7/dist-packages/keras/backend/tensorflow_backend.py:163: The name tf.Session is deprecated. Please use tf.compat.v1.Session instead.\n",
            "\n",
            "WARNING:tensorflow:From /usr/local/lib/python3.7/dist-packages/keras/backend/tensorflow_backend.py:333: The name tf.global_variables is deprecated. Please use tf.compat.v1.global_variables instead.\n",
            "\n",
            "WARNING:tensorflow:From /usr/local/lib/python3.7/dist-packages/keras/backend/tensorflow_backend.py:341: The name tf.variables_initializer is deprecated. Please use tf.compat.v1.variables_initializer instead.\n",
            "\n"
          ]
        }
      ],
      "source": [
        "IMAGE_SIZE = [180, 180] #pre trained Xception model\n",
        "model = Xception(input_shape=IMAGE_SIZE + [3], weights='imagenet', include_top=False)"
      ]
    },
    {
      "cell_type": "code",
      "execution_count": null,
      "metadata": {
        "colab": {
          "base_uri": "https://localhost:8080/"
        },
        "id": "mo8ZufpRv1Px",
        "outputId": "eaef27fe-fe72-4d24-ba3d-ea0e8c6b9420"
      },
      "outputs": [
        {
          "name": "stderr",
          "output_type": "stream",
          "text": [
            "WARNING:tensorflow:From /usr/local/lib/python3.7/dist-packages/keras/backend/tensorflow_backend.py:1205: calling reduce_prod_v1 (from tensorflow.python.ops.math_ops) with keep_dims is deprecated and will be removed in a future version.\n",
            "Instructions for updating:\n",
            "keep_dims is deprecated, use keepdims instead\n",
            "WARNING:tensorflow:From /usr/local/lib/python3.7/dist-packages/keras/optimizers.py:711: The name tf.train.Optimizer is deprecated. Please use tf.compat.v1.train.Optimizer instead.\n",
            "\n",
            "WARNING:tensorflow:From /usr/local/lib/python3.7/dist-packages/keras/backend/tensorflow_backend.py:2755: calling reduce_sum_v1 (from tensorflow.python.ops.math_ops) with keep_dims is deprecated and will be removed in a future version.\n",
            "Instructions for updating:\n",
            "keep_dims is deprecated, use keepdims instead\n",
            "WARNING:tensorflow:From /usr/local/lib/python3.7/dist-packages/keras/backend/tensorflow_backend.py:2759: The name tf.log is deprecated. Please use tf.math.log instead.\n",
            "\n"
          ]
        }
      ],
      "source": [
        "#model_1\n",
        "for layer in model.layers:\n",
        "  layer.trainable = False\n",
        "#Adding custom Layers \n",
        "x = model.output\n",
        "x = Conv2D(filters=512,kernel_size=(3,3),padding=\"same\", activation=\"relu\")(x)\n",
        "x = MaxPool2D(2,2)(x)\n",
        "x = Flatten()(x)\n",
        "x = Dense(500, activation=\"relu\")(x)\n",
        "x = Dense(500, activation=\"relu\")(x)\n",
        "output = Dense(5270, activation=\"softmax\")(x)\n",
        "# creating the final model \n",
        "model_1 = Model(inputs = model.input, outputs = output)\n",
        "# compile the model \n",
        "Adam = keras.optimizers.Adam(lr=0.0003, beta_1=0.9, beta_2=0.999, epsilon=1e-07)\n",
        "model_1.compile(loss = \"categorical_crossentropy\", optimizer = Adam, metrics=[\"accuracy\"])"
      ]
    },
    {
      "cell_type": "code",
      "execution_count": null,
      "metadata": {
        "colab": {
          "base_uri": "https://localhost:8080/"
        },
        "id": "vq79Y98jOWxt",
        "outputId": "43e189b0-30e4-44ad-bf78-bcd0ac3f4d1d"
      },
      "outputs": [
        {
          "name": "stdout",
          "output_type": "stream",
          "text": [
            "____________________________________________________________________________________________________\n",
            "Layer (type)                     Output Shape          Param #     Connected to                     \n",
            "====================================================================================================\n",
            "input_1 (InputLayer)             (None, 180, 180, 3)   0                                            \n",
            "____________________________________________________________________________________________________\n",
            "block1_conv1 (Conv2D)            (None, 89, 89, 32)    864         input_1[0][0]                    \n",
            "____________________________________________________________________________________________________\n",
            "block1_conv1_bn (BatchNormalizat (None, 89, 89, 32)    128         block1_conv1[0][0]               \n",
            "____________________________________________________________________________________________________\n",
            "block1_conv1_act (Activation)    (None, 89, 89, 32)    0           block1_conv1_bn[0][0]            \n",
            "____________________________________________________________________________________________________\n",
            "block1_conv2 (Conv2D)            (None, 87, 87, 64)    18432       block1_conv1_act[0][0]           \n",
            "____________________________________________________________________________________________________\n",
            "block1_conv2_bn (BatchNormalizat (None, 87, 87, 64)    256         block1_conv2[0][0]               \n",
            "____________________________________________________________________________________________________\n",
            "block1_conv2_act (Activation)    (None, 87, 87, 64)    0           block1_conv2_bn[0][0]            \n",
            "____________________________________________________________________________________________________\n",
            "block2_sepconv1 (SeparableConv2D (None, 87, 87, 128)   8768        block1_conv2_act[0][0]           \n",
            "____________________________________________________________________________________________________\n",
            "block2_sepconv1_bn (BatchNormali (None, 87, 87, 128)   512         block2_sepconv1[0][0]            \n",
            "____________________________________________________________________________________________________\n",
            "block2_sepconv2_act (Activation) (None, 87, 87, 128)   0           block2_sepconv1_bn[0][0]         \n",
            "____________________________________________________________________________________________________\n",
            "block2_sepconv2 (SeparableConv2D (None, 87, 87, 128)   17536       block2_sepconv2_act[0][0]        \n",
            "____________________________________________________________________________________________________\n",
            "block2_sepconv2_bn (BatchNormali (None, 87, 87, 128)   512         block2_sepconv2[0][0]            \n",
            "____________________________________________________________________________________________________\n",
            "conv2d_1 (Conv2D)                (None, 44, 44, 128)   8192        block1_conv2_act[0][0]           \n",
            "____________________________________________________________________________________________________\n",
            "block2_pool (MaxPooling2D)       (None, 44, 44, 128)   0           block2_sepconv2_bn[0][0]         \n",
            "____________________________________________________________________________________________________\n",
            "batch_normalization_1 (BatchNorm (None, 44, 44, 128)   512         conv2d_1[0][0]                   \n",
            "____________________________________________________________________________________________________\n",
            "add_1 (Add)                      (None, 44, 44, 128)   0           block2_pool[0][0]                \n",
            "                                                                   batch_normalization_1[0][0]      \n",
            "____________________________________________________________________________________________________\n",
            "block3_sepconv1_act (Activation) (None, 44, 44, 128)   0           add_1[0][0]                      \n",
            "____________________________________________________________________________________________________\n",
            "block3_sepconv1 (SeparableConv2D (None, 44, 44, 256)   33920       block3_sepconv1_act[0][0]        \n",
            "____________________________________________________________________________________________________\n",
            "block3_sepconv1_bn (BatchNormali (None, 44, 44, 256)   1024        block3_sepconv1[0][0]            \n",
            "____________________________________________________________________________________________________\n",
            "block3_sepconv2_act (Activation) (None, 44, 44, 256)   0           block3_sepconv1_bn[0][0]         \n",
            "____________________________________________________________________________________________________\n",
            "block3_sepconv2 (SeparableConv2D (None, 44, 44, 256)   67840       block3_sepconv2_act[0][0]        \n",
            "____________________________________________________________________________________________________\n",
            "block3_sepconv2_bn (BatchNormali (None, 44, 44, 256)   1024        block3_sepconv2[0][0]            \n",
            "____________________________________________________________________________________________________\n",
            "conv2d_2 (Conv2D)                (None, 22, 22, 256)   32768       add_1[0][0]                      \n",
            "____________________________________________________________________________________________________\n",
            "block3_pool (MaxPooling2D)       (None, 22, 22, 256)   0           block3_sepconv2_bn[0][0]         \n",
            "____________________________________________________________________________________________________\n",
            "batch_normalization_2 (BatchNorm (None, 22, 22, 256)   1024        conv2d_2[0][0]                   \n",
            "____________________________________________________________________________________________________\n",
            "add_2 (Add)                      (None, 22, 22, 256)   0           block3_pool[0][0]                \n",
            "                                                                   batch_normalization_2[0][0]      \n",
            "____________________________________________________________________________________________________\n",
            "block4_sepconv1_act (Activation) (None, 22, 22, 256)   0           add_2[0][0]                      \n",
            "____________________________________________________________________________________________________\n",
            "block4_sepconv1 (SeparableConv2D (None, 22, 22, 728)   188672      block4_sepconv1_act[0][0]        \n",
            "____________________________________________________________________________________________________\n",
            "block4_sepconv1_bn (BatchNormali (None, 22, 22, 728)   2912        block4_sepconv1[0][0]            \n",
            "____________________________________________________________________________________________________\n",
            "block4_sepconv2_act (Activation) (None, 22, 22, 728)   0           block4_sepconv1_bn[0][0]         \n",
            "____________________________________________________________________________________________________\n",
            "block4_sepconv2 (SeparableConv2D (None, 22, 22, 728)   536536      block4_sepconv2_act[0][0]        \n",
            "____________________________________________________________________________________________________\n",
            "block4_sepconv2_bn (BatchNormali (None, 22, 22, 728)   2912        block4_sepconv2[0][0]            \n",
            "____________________________________________________________________________________________________\n",
            "conv2d_3 (Conv2D)                (None, 11, 11, 728)   186368      add_2[0][0]                      \n",
            "____________________________________________________________________________________________________\n",
            "block4_pool (MaxPooling2D)       (None, 11, 11, 728)   0           block4_sepconv2_bn[0][0]         \n",
            "____________________________________________________________________________________________________\n",
            "batch_normalization_3 (BatchNorm (None, 11, 11, 728)   2912        conv2d_3[0][0]                   \n",
            "____________________________________________________________________________________________________\n",
            "add_3 (Add)                      (None, 11, 11, 728)   0           block4_pool[0][0]                \n",
            "                                                                   batch_normalization_3[0][0]      \n",
            "____________________________________________________________________________________________________\n",
            "block5_sepconv1_act (Activation) (None, 11, 11, 728)   0           add_3[0][0]                      \n",
            "____________________________________________________________________________________________________\n",
            "block5_sepconv1 (SeparableConv2D (None, 11, 11, 728)   536536      block5_sepconv1_act[0][0]        \n",
            "____________________________________________________________________________________________________\n",
            "block5_sepconv1_bn (BatchNormali (None, 11, 11, 728)   2912        block5_sepconv1[0][0]            \n",
            "____________________________________________________________________________________________________\n",
            "block5_sepconv2_act (Activation) (None, 11, 11, 728)   0           block5_sepconv1_bn[0][0]         \n",
            "____________________________________________________________________________________________________\n",
            "block5_sepconv2 (SeparableConv2D (None, 11, 11, 728)   536536      block5_sepconv2_act[0][0]        \n",
            "____________________________________________________________________________________________________\n",
            "block5_sepconv2_bn (BatchNormali (None, 11, 11, 728)   2912        block5_sepconv2[0][0]            \n",
            "____________________________________________________________________________________________________\n",
            "block5_sepconv3_act (Activation) (None, 11, 11, 728)   0           block5_sepconv2_bn[0][0]         \n",
            "____________________________________________________________________________________________________\n",
            "block5_sepconv3 (SeparableConv2D (None, 11, 11, 728)   536536      block5_sepconv3_act[0][0]        \n",
            "____________________________________________________________________________________________________\n",
            "block5_sepconv3_bn (BatchNormali (None, 11, 11, 728)   2912        block5_sepconv3[0][0]            \n",
            "____________________________________________________________________________________________________\n",
            "add_4 (Add)                      (None, 11, 11, 728)   0           block5_sepconv3_bn[0][0]         \n",
            "                                                                   add_3[0][0]                      \n",
            "____________________________________________________________________________________________________\n",
            "block6_sepconv1_act (Activation) (None, 11, 11, 728)   0           add_4[0][0]                      \n",
            "____________________________________________________________________________________________________\n",
            "block6_sepconv1 (SeparableConv2D (None, 11, 11, 728)   536536      block6_sepconv1_act[0][0]        \n",
            "____________________________________________________________________________________________________\n",
            "block6_sepconv1_bn (BatchNormali (None, 11, 11, 728)   2912        block6_sepconv1[0][0]            \n",
            "____________________________________________________________________________________________________\n",
            "block6_sepconv2_act (Activation) (None, 11, 11, 728)   0           block6_sepconv1_bn[0][0]         \n",
            "____________________________________________________________________________________________________\n",
            "block6_sepconv2 (SeparableConv2D (None, 11, 11, 728)   536536      block6_sepconv2_act[0][0]        \n",
            "____________________________________________________________________________________________________\n",
            "block6_sepconv2_bn (BatchNormali (None, 11, 11, 728)   2912        block6_sepconv2[0][0]            \n",
            "____________________________________________________________________________________________________\n",
            "block6_sepconv3_act (Activation) (None, 11, 11, 728)   0           block6_sepconv2_bn[0][0]         \n",
            "____________________________________________________________________________________________________\n",
            "block6_sepconv3 (SeparableConv2D (None, 11, 11, 728)   536536      block6_sepconv3_act[0][0]        \n",
            "____________________________________________________________________________________________________\n",
            "block6_sepconv3_bn (BatchNormali (None, 11, 11, 728)   2912        block6_sepconv3[0][0]            \n",
            "____________________________________________________________________________________________________\n",
            "add_5 (Add)                      (None, 11, 11, 728)   0           block6_sepconv3_bn[0][0]         \n",
            "                                                                   add_4[0][0]                      \n",
            "____________________________________________________________________________________________________\n",
            "block7_sepconv1_act (Activation) (None, 11, 11, 728)   0           add_5[0][0]                      \n",
            "____________________________________________________________________________________________________\n",
            "block7_sepconv1 (SeparableConv2D (None, 11, 11, 728)   536536      block7_sepconv1_act[0][0]        \n",
            "____________________________________________________________________________________________________\n",
            "block7_sepconv1_bn (BatchNormali (None, 11, 11, 728)   2912        block7_sepconv1[0][0]            \n",
            "____________________________________________________________________________________________________\n",
            "block7_sepconv2_act (Activation) (None, 11, 11, 728)   0           block7_sepconv1_bn[0][0]         \n",
            "____________________________________________________________________________________________________\n",
            "block7_sepconv2 (SeparableConv2D (None, 11, 11, 728)   536536      block7_sepconv2_act[0][0]        \n",
            "____________________________________________________________________________________________________\n",
            "block7_sepconv2_bn (BatchNormali (None, 11, 11, 728)   2912        block7_sepconv2[0][0]            \n",
            "____________________________________________________________________________________________________\n",
            "block7_sepconv3_act (Activation) (None, 11, 11, 728)   0           block7_sepconv2_bn[0][0]         \n",
            "____________________________________________________________________________________________________\n",
            "block7_sepconv3 (SeparableConv2D (None, 11, 11, 728)   536536      block7_sepconv3_act[0][0]        \n",
            "____________________________________________________________________________________________________\n",
            "block7_sepconv3_bn (BatchNormali (None, 11, 11, 728)   2912        block7_sepconv3[0][0]            \n",
            "____________________________________________________________________________________________________\n",
            "add_6 (Add)                      (None, 11, 11, 728)   0           block7_sepconv3_bn[0][0]         \n",
            "                                                                   add_5[0][0]                      \n",
            "____________________________________________________________________________________________________\n",
            "block8_sepconv1_act (Activation) (None, 11, 11, 728)   0           add_6[0][0]                      \n",
            "____________________________________________________________________________________________________\n",
            "block8_sepconv1 (SeparableConv2D (None, 11, 11, 728)   536536      block8_sepconv1_act[0][0]        \n",
            "____________________________________________________________________________________________________\n",
            "block8_sepconv1_bn (BatchNormali (None, 11, 11, 728)   2912        block8_sepconv1[0][0]            \n",
            "____________________________________________________________________________________________________\n",
            "block8_sepconv2_act (Activation) (None, 11, 11, 728)   0           block8_sepconv1_bn[0][0]         \n",
            "____________________________________________________________________________________________________\n",
            "block8_sepconv2 (SeparableConv2D (None, 11, 11, 728)   536536      block8_sepconv2_act[0][0]        \n",
            "____________________________________________________________________________________________________\n",
            "block8_sepconv2_bn (BatchNormali (None, 11, 11, 728)   2912        block8_sepconv2[0][0]            \n",
            "____________________________________________________________________________________________________\n",
            "block8_sepconv3_act (Activation) (None, 11, 11, 728)   0           block8_sepconv2_bn[0][0]         \n",
            "____________________________________________________________________________________________________\n",
            "block8_sepconv3 (SeparableConv2D (None, 11, 11, 728)   536536      block8_sepconv3_act[0][0]        \n",
            "____________________________________________________________________________________________________\n",
            "block8_sepconv3_bn (BatchNormali (None, 11, 11, 728)   2912        block8_sepconv3[0][0]            \n",
            "____________________________________________________________________________________________________\n",
            "add_7 (Add)                      (None, 11, 11, 728)   0           block8_sepconv3_bn[0][0]         \n",
            "                                                                   add_6[0][0]                      \n",
            "____________________________________________________________________________________________________\n",
            "block9_sepconv1_act (Activation) (None, 11, 11, 728)   0           add_7[0][0]                      \n",
            "____________________________________________________________________________________________________\n",
            "block9_sepconv1 (SeparableConv2D (None, 11, 11, 728)   536536      block9_sepconv1_act[0][0]        \n",
            "____________________________________________________________________________________________________\n",
            "block9_sepconv1_bn (BatchNormali (None, 11, 11, 728)   2912        block9_sepconv1[0][0]            \n",
            "____________________________________________________________________________________________________\n",
            "block9_sepconv2_act (Activation) (None, 11, 11, 728)   0           block9_sepconv1_bn[0][0]         \n",
            "____________________________________________________________________________________________________\n",
            "block9_sepconv2 (SeparableConv2D (None, 11, 11, 728)   536536      block9_sepconv2_act[0][0]        \n",
            "____________________________________________________________________________________________________\n",
            "block9_sepconv2_bn (BatchNormali (None, 11, 11, 728)   2912        block9_sepconv2[0][0]            \n",
            "____________________________________________________________________________________________________\n",
            "block9_sepconv3_act (Activation) (None, 11, 11, 728)   0           block9_sepconv2_bn[0][0]         \n",
            "____________________________________________________________________________________________________\n",
            "block9_sepconv3 (SeparableConv2D (None, 11, 11, 728)   536536      block9_sepconv3_act[0][0]        \n",
            "____________________________________________________________________________________________________\n",
            "block9_sepconv3_bn (BatchNormali (None, 11, 11, 728)   2912        block9_sepconv3[0][0]            \n",
            "____________________________________________________________________________________________________\n",
            "add_8 (Add)                      (None, 11, 11, 728)   0           block9_sepconv3_bn[0][0]         \n",
            "                                                                   add_7[0][0]                      \n",
            "____________________________________________________________________________________________________\n",
            "block10_sepconv1_act (Activation (None, 11, 11, 728)   0           add_8[0][0]                      \n",
            "____________________________________________________________________________________________________\n",
            "block10_sepconv1 (SeparableConv2 (None, 11, 11, 728)   536536      block10_sepconv1_act[0][0]       \n",
            "____________________________________________________________________________________________________\n",
            "block10_sepconv1_bn (BatchNormal (None, 11, 11, 728)   2912        block10_sepconv1[0][0]           \n",
            "____________________________________________________________________________________________________\n",
            "block10_sepconv2_act (Activation (None, 11, 11, 728)   0           block10_sepconv1_bn[0][0]        \n",
            "____________________________________________________________________________________________________\n",
            "block10_sepconv2 (SeparableConv2 (None, 11, 11, 728)   536536      block10_sepconv2_act[0][0]       \n",
            "____________________________________________________________________________________________________\n",
            "block10_sepconv2_bn (BatchNormal (None, 11, 11, 728)   2912        block10_sepconv2[0][0]           \n",
            "____________________________________________________________________________________________________\n",
            "block10_sepconv3_act (Activation (None, 11, 11, 728)   0           block10_sepconv2_bn[0][0]        \n",
            "____________________________________________________________________________________________________\n",
            "block10_sepconv3 (SeparableConv2 (None, 11, 11, 728)   536536      block10_sepconv3_act[0][0]       \n",
            "____________________________________________________________________________________________________\n",
            "block10_sepconv3_bn (BatchNormal (None, 11, 11, 728)   2912        block10_sepconv3[0][0]           \n",
            "____________________________________________________________________________________________________\n",
            "add_9 (Add)                      (None, 11, 11, 728)   0           block10_sepconv3_bn[0][0]        \n",
            "                                                                   add_8[0][0]                      \n",
            "____________________________________________________________________________________________________\n",
            "block11_sepconv1_act (Activation (None, 11, 11, 728)   0           add_9[0][0]                      \n",
            "____________________________________________________________________________________________________\n",
            "block11_sepconv1 (SeparableConv2 (None, 11, 11, 728)   536536      block11_sepconv1_act[0][0]       \n",
            "____________________________________________________________________________________________________\n",
            "block11_sepconv1_bn (BatchNormal (None, 11, 11, 728)   2912        block11_sepconv1[0][0]           \n",
            "____________________________________________________________________________________________________\n",
            "block11_sepconv2_act (Activation (None, 11, 11, 728)   0           block11_sepconv1_bn[0][0]        \n",
            "____________________________________________________________________________________________________\n",
            "block11_sepconv2 (SeparableConv2 (None, 11, 11, 728)   536536      block11_sepconv2_act[0][0]       \n",
            "____________________________________________________________________________________________________\n",
            "block11_sepconv2_bn (BatchNormal (None, 11, 11, 728)   2912        block11_sepconv2[0][0]           \n",
            "____________________________________________________________________________________________________\n",
            "block11_sepconv3_act (Activation (None, 11, 11, 728)   0           block11_sepconv2_bn[0][0]        \n",
            "____________________________________________________________________________________________________\n",
            "block11_sepconv3 (SeparableConv2 (None, 11, 11, 728)   536536      block11_sepconv3_act[0][0]       \n",
            "____________________________________________________________________________________________________\n",
            "block11_sepconv3_bn (BatchNormal (None, 11, 11, 728)   2912        block11_sepconv3[0][0]           \n",
            "____________________________________________________________________________________________________\n",
            "add_10 (Add)                     (None, 11, 11, 728)   0           block11_sepconv3_bn[0][0]        \n",
            "                                                                   add_9[0][0]                      \n",
            "____________________________________________________________________________________________________\n",
            "block12_sepconv1_act (Activation (None, 11, 11, 728)   0           add_10[0][0]                     \n",
            "____________________________________________________________________________________________________\n",
            "block12_sepconv1 (SeparableConv2 (None, 11, 11, 728)   536536      block12_sepconv1_act[0][0]       \n",
            "____________________________________________________________________________________________________\n",
            "block12_sepconv1_bn (BatchNormal (None, 11, 11, 728)   2912        block12_sepconv1[0][0]           \n",
            "____________________________________________________________________________________________________\n",
            "block12_sepconv2_act (Activation (None, 11, 11, 728)   0           block12_sepconv1_bn[0][0]        \n",
            "____________________________________________________________________________________________________\n",
            "block12_sepconv2 (SeparableConv2 (None, 11, 11, 728)   536536      block12_sepconv2_act[0][0]       \n",
            "____________________________________________________________________________________________________\n",
            "block12_sepconv2_bn (BatchNormal (None, 11, 11, 728)   2912        block12_sepconv2[0][0]           \n",
            "____________________________________________________________________________________________________\n",
            "block12_sepconv3_act (Activation (None, 11, 11, 728)   0           block12_sepconv2_bn[0][0]        \n",
            "____________________________________________________________________________________________________\n",
            "block12_sepconv3 (SeparableConv2 (None, 11, 11, 728)   536536      block12_sepconv3_act[0][0]       \n",
            "____________________________________________________________________________________________________\n",
            "block12_sepconv3_bn (BatchNormal (None, 11, 11, 728)   2912        block12_sepconv3[0][0]           \n",
            "____________________________________________________________________________________________________\n",
            "add_11 (Add)                     (None, 11, 11, 728)   0           block12_sepconv3_bn[0][0]        \n",
            "                                                                   add_10[0][0]                     \n",
            "____________________________________________________________________________________________________\n",
            "block13_sepconv1_act (Activation (None, 11, 11, 728)   0           add_11[0][0]                     \n",
            "____________________________________________________________________________________________________\n",
            "block13_sepconv1 (SeparableConv2 (None, 11, 11, 728)   536536      block13_sepconv1_act[0][0]       \n",
            "____________________________________________________________________________________________________\n",
            "block13_sepconv1_bn (BatchNormal (None, 11, 11, 728)   2912        block13_sepconv1[0][0]           \n",
            "____________________________________________________________________________________________________\n",
            "block13_sepconv2_act (Activation (None, 11, 11, 728)   0           block13_sepconv1_bn[0][0]        \n",
            "____________________________________________________________________________________________________\n",
            "block13_sepconv2 (SeparableConv2 (None, 11, 11, 1024)  752024      block13_sepconv2_act[0][0]       \n",
            "____________________________________________________________________________________________________\n",
            "block13_sepconv2_bn (BatchNormal (None, 11, 11, 1024)  4096        block13_sepconv2[0][0]           \n",
            "____________________________________________________________________________________________________\n",
            "conv2d_4 (Conv2D)                (None, 6, 6, 1024)    745472      add_11[0][0]                     \n",
            "____________________________________________________________________________________________________\n",
            "block13_pool (MaxPooling2D)      (None, 6, 6, 1024)    0           block13_sepconv2_bn[0][0]        \n",
            "____________________________________________________________________________________________________\n",
            "batch_normalization_4 (BatchNorm (None, 6, 6, 1024)    4096        conv2d_4[0][0]                   \n",
            "____________________________________________________________________________________________________\n",
            "add_12 (Add)                     (None, 6, 6, 1024)    0           block13_pool[0][0]               \n",
            "                                                                   batch_normalization_4[0][0]      \n",
            "____________________________________________________________________________________________________\n",
            "block14_sepconv1 (SeparableConv2 (None, 6, 6, 1536)    1582080     add_12[0][0]                     \n",
            "____________________________________________________________________________________________________\n",
            "block14_sepconv1_bn (BatchNormal (None, 6, 6, 1536)    6144        block14_sepconv1[0][0]           \n",
            "____________________________________________________________________________________________________\n",
            "block14_sepconv1_act (Activation (None, 6, 6, 1536)    0           block14_sepconv1_bn[0][0]        \n",
            "____________________________________________________________________________________________________\n",
            "block14_sepconv2 (SeparableConv2 (None, 6, 6, 2048)    3159552     block14_sepconv1_act[0][0]       \n",
            "____________________________________________________________________________________________________\n",
            "block14_sepconv2_bn (BatchNormal (None, 6, 6, 2048)    8192        block14_sepconv2[0][0]           \n",
            "____________________________________________________________________________________________________\n",
            "block14_sepconv2_act (Activation (None, 6, 6, 2048)    0           block14_sepconv2_bn[0][0]        \n",
            "____________________________________________________________________________________________________\n",
            "conv2d_6 (Conv2D)                (None, 6, 6, 512)     9437696     block14_sepconv2_act[0][0]       \n",
            "____________________________________________________________________________________________________\n",
            "max_pooling2d_2 (MaxPooling2D)   (None, 3, 3, 512)     0           conv2d_6[0][0]                   \n",
            "____________________________________________________________________________________________________\n",
            "flatten_2 (Flatten)              (None, 4608)          0           max_pooling2d_2[0][0]            \n",
            "____________________________________________________________________________________________________\n",
            "dense_4 (Dense)                  (None, 500)           2304500     flatten_2[0][0]                  \n",
            "____________________________________________________________________________________________________\n",
            "dense_5 (Dense)                  (None, 500)           250500      dense_4[0][0]                    \n",
            "____________________________________________________________________________________________________\n",
            "dense_6 (Dense)                  (None, 5270)          2640270     dense_5[0][0]                    \n",
            "====================================================================================================\n",
            "Total params: 35,494,446\n",
            "Trainable params: 14,632,966\n",
            "Non-trainable params: 20,861,480\n",
            "____________________________________________________________________________________________________\n"
          ]
        }
      ],
      "source": [
        "model_1.summary()"
      ]
    },
    {
      "cell_type": "code",
      "execution_count": null,
      "metadata": {
        "colab": {
          "base_uri": "https://localhost:8080/"
        },
        "id": "jeX0MZHUszbz",
        "outputId": "16735c51-848b-4225-c400-948106daaea1"
      },
      "outputs": [
        {
          "name": "stderr",
          "output_type": "stream",
          "text": [
            "WARNING:tensorflow:From /usr/local/lib/python3.7/dist-packages/tensorflow_core/python/ops/math_grad.py:1424: where (from tensorflow.python.ops.array_ops) is deprecated and will be removed in a future version.\n",
            "Instructions for updating:\n",
            "Use tf.where in 2.0, which has the same broadcast rule as np.where\n",
            "WARNING:tensorflow:From /usr/local/lib/python3.7/dist-packages/keras/backend/tensorflow_backend.py:899: The name tf.assign_add is deprecated. Please use tf.compat.v1.assign_add instead.\n",
            "\n",
            "WARNING:tensorflow:From /usr/local/lib/python3.7/dist-packages/keras/backend/tensorflow_backend.py:625: calling Constant.__init__ (from tensorflow.python.ops.init_ops) with dtype is deprecated and will be removed in a future version.\n",
            "Instructions for updating:\n",
            "Call initializer instance with the dtype argument instead of passing it to the constructor\n",
            "WARNING:tensorflow:From /usr/local/lib/python3.7/dist-packages/keras/backend/tensorflow_backend.py:886: The name tf.assign is deprecated. Please use tf.compat.v1.assign instead.\n",
            "\n"
          ]
        },
        {
          "name": "stdout",
          "output_type": "stream",
          "text": [
            "Epoch 1/1\n",
            "37130/37130 [==============================] - 27517s - loss: 2.9607 - acc: 0.4601 - val_loss: 2.6822 - val_acc: 0.4984\n"
          ]
        },
        {
          "data": {
            "text/plain": [
              "<keras.callbacks.History at 0x7f596698aa10>"
            ]
          },
          "execution_count": 31,
          "metadata": {},
          "output_type": "execute_result"
        }
      ],
      "source": [
        "# To train the model:\n",
        "model_1.fit_generator(train_gen,\n",
        "                    steps_per_epoch = num_train_images // batch_size,   #num_train_images // batch_size,\n",
        "                    epochs = 1,\n",
        "                    validation_data = val_gen,\n",
        "                    validation_steps = num_val_images // batch_size,  #num_val_images // batch_size,\n",
        "                    workers = 8)"
      ]
    },
    {
      "cell_type": "code",
      "execution_count": null,
      "metadata": {
        "colab": {
          "base_uri": "https://localhost:8080/"
        },
        "id": "NoCgWDlk6euG",
        "outputId": "79e52041-49db-4d4a-b3b2-4397a098b066"
      },
      "outputs": [
        {
          "name": "stdout",
          "output_type": "stream",
          "text": [
            "Model Saved\n"
          ]
        }
      ],
      "source": [
        "model_1.save('/content/drive/MyDrive/kerasep1_model.kerasave',include_optimizer=True)\n",
        "print(\"Model Saved\")"
      ]
    },
    {
      "cell_type": "code",
      "execution_count": null,
      "metadata": {
        "colab": {
          "base_uri": "https://localhost:8080/"
        },
        "id": "z7sa9vGE7RxB",
        "outputId": "f2821e98-e438-4a4c-e7fb-647168177bef"
      },
      "outputs": [
        {
          "name": "stdout",
          "output_type": "stream",
          "text": [
            "Wights Saved\n"
          ]
        }
      ],
      "source": [
        "model_1.save_weights('/content/drive/MyDrive/kerasmodelep1_weight')\n",
        "print(\"Wights Saved\")"
      ]
    },
    {
      "cell_type": "code",
      "execution_count": null,
      "metadata": {
        "colab": {
          "base_uri": "https://localhost:8080/"
        },
        "id": "I9YnrS0K6eul",
        "outputId": "1e8540a4-7565-4018-dc66-0647232a0f56"
      },
      "outputs": [
        {
          "name": "stderr",
          "output_type": "stream",
          "text": [
            "WARNING:tensorflow:From /usr/local/lib/python3.7/dist-packages/keras/backend/tensorflow_backend.py:442: The name tf.placeholder is deprecated. Please use tf.compat.v1.placeholder instead.\n",
            "\n",
            "WARNING:tensorflow:From /usr/local/lib/python3.7/dist-packages/keras/backend/tensorflow_backend.py:3543: The name tf.random_uniform is deprecated. Please use tf.random.uniform instead.\n",
            "\n",
            "WARNING:tensorflow:From /usr/local/lib/python3.7/dist-packages/keras/backend/tensorflow_backend.py:112: The name tf.get_default_graph is deprecated. Please use tf.compat.v1.get_default_graph instead.\n",
            "\n",
            "WARNING:tensorflow:From /usr/local/lib/python3.7/dist-packages/keras/backend/tensorflow_backend.py:3386: The name tf.nn.max_pool is deprecated. Please use tf.nn.max_pool2d instead.\n",
            "\n",
            "WARNING:tensorflow:From /usr/local/lib/python3.7/dist-packages/keras/backend/tensorflow_backend.py:1205: calling reduce_prod_v1 (from tensorflow.python.ops.math_ops) with keep_dims is deprecated and will be removed in a future version.\n",
            "Instructions for updating:\n",
            "keep_dims is deprecated, use keepdims instead\n",
            "WARNING:tensorflow:From /usr/local/lib/python3.7/dist-packages/keras/backend/tensorflow_backend.py:153: The name tf.get_default_session is deprecated. Please use tf.compat.v1.get_default_session instead.\n",
            "\n",
            "WARNING:tensorflow:From /usr/local/lib/python3.7/dist-packages/keras/backend/tensorflow_backend.py:158: The name tf.ConfigProto is deprecated. Please use tf.compat.v1.ConfigProto instead.\n",
            "\n",
            "WARNING:tensorflow:From /usr/local/lib/python3.7/dist-packages/keras/backend/tensorflow_backend.py:163: The name tf.Session is deprecated. Please use tf.compat.v1.Session instead.\n",
            "\n",
            "WARNING:tensorflow:From /usr/local/lib/python3.7/dist-packages/keras/backend/tensorflow_backend.py:333: The name tf.global_variables is deprecated. Please use tf.compat.v1.global_variables instead.\n",
            "\n",
            "WARNING:tensorflow:From /usr/local/lib/python3.7/dist-packages/keras/backend/tensorflow_backend.py:341: The name tf.variables_initializer is deprecated. Please use tf.compat.v1.variables_initializer instead.\n",
            "\n",
            "WARNING:tensorflow:From /usr/local/lib/python3.7/dist-packages/keras/optimizers.py:711: The name tf.train.Optimizer is deprecated. Please use tf.compat.v1.train.Optimizer instead.\n",
            "\n",
            "WARNING:tensorflow:From /usr/local/lib/python3.7/dist-packages/keras/backend/tensorflow_backend.py:2755: calling reduce_sum_v1 (from tensorflow.python.ops.math_ops) with keep_dims is deprecated and will be removed in a future version.\n",
            "Instructions for updating:\n",
            "keep_dims is deprecated, use keepdims instead\n",
            "WARNING:tensorflow:From /usr/local/lib/python3.7/dist-packages/keras/backend/tensorflow_backend.py:2759: The name tf.log is deprecated. Please use tf.math.log instead.\n",
            "\n",
            "WARNING:tensorflow:From /usr/local/lib/python3.7/dist-packages/tensorflow_core/python/ops/math_grad.py:1424: where (from tensorflow.python.ops.array_ops) is deprecated and will be removed in a future version.\n",
            "Instructions for updating:\n",
            "Use tf.where in 2.0, which has the same broadcast rule as np.where\n",
            "WARNING:tensorflow:From /usr/local/lib/python3.7/dist-packages/keras/backend/tensorflow_backend.py:899: The name tf.assign_add is deprecated. Please use tf.compat.v1.assign_add instead.\n",
            "\n",
            "WARNING:tensorflow:From /usr/local/lib/python3.7/dist-packages/keras/backend/tensorflow_backend.py:625: calling Constant.__init__ (from tensorflow.python.ops.init_ops) with dtype is deprecated and will be removed in a future version.\n",
            "Instructions for updating:\n",
            "Call initializer instance with the dtype argument instead of passing it to the constructor\n",
            "WARNING:tensorflow:From /usr/local/lib/python3.7/dist-packages/keras/backend/tensorflow_backend.py:886: The name tf.assign is deprecated. Please use tf.compat.v1.assign instead.\n",
            "\n"
          ]
        }
      ],
      "source": [
        "from keras.models import load_model\n",
        "demo2 = load_model('/content/drive/MyDrive/kerasep1_model.kerasave')"
      ]
    },
    {
      "cell_type": "code",
      "execution_count": null,
      "metadata": {
        "id": "YIX4aHYVfzPF"
      },
      "outputs": [],
      "source": [
        "keras.backend.set_value(demo2.optimizer.lr, 0.0003)"
      ]
    },
    {
      "cell_type": "code",
      "execution_count": null,
      "metadata": {
        "colab": {
          "base_uri": "https://localhost:8080/"
        },
        "id": "9ZLxNAkjf6K9",
        "outputId": "3a46a2d5-64f9-4ed9-81f1-7ea71ea5800b"
      },
      "outputs": [
        {
          "data": {
            "text/plain": [
              "{'lr': 0.0003000000142492354,\n",
              " 'beta_1': 0.8999999761581421,\n",
              " 'beta_2': 0.9990000128746033,\n",
              " 'decay': 0.0,\n",
              " 'epsilon': 1e-07}"
            ]
          },
          "execution_count": 49,
          "metadata": {},
          "output_type": "execute_result"
        }
      ],
      "source": [
        "demo2.optimizer.get_config()\n"
      ]
    },
    {
      "cell_type": "code",
      "execution_count": null,
      "metadata": {
        "colab": {
          "base_uri": "https://localhost:8080/"
        },
        "id": "KnwPgHzh2VdY",
        "outputId": "f0e23f29-2ff7-4239-95f7-04dbff67c0e9"
      },
      "outputs": [
        {
          "name": "stdout",
          "output_type": "stream",
          "text": [
            "Epoch 1/2\n",
            "37130/37130 [==============================] - 27757s - loss: 2.5840 - acc: 0.5098 - val_loss: 2.6192 - val_acc: 0.5123"
          ]
        },
        {
          "name": "stderr",
          "output_type": "stream",
          "text": [
            "/usr/local/lib/python3.7/dist-packages/keras/callbacks.py:889: RuntimeWarning: Reduce LR on plateau conditioned on metric `val_accuracy` which is not available. Available metrics are: val_loss,val_acc,loss,acc,lr\n",
            "  (self.monitor, ','.join(list(logs.keys()))), RuntimeWarning\n"
          ]
        },
        {
          "name": "stdout",
          "output_type": "stream",
          "text": [
            "\n",
            "Epoch 2/2\n",
            "37130/37130 [==============================] - 27764s - loss: 2.4930 - acc: 0.5228 - val_loss: 2.5903 - val_acc: 0.5189\n"
          ]
        },
        {
          "data": {
            "text/plain": [
              "<keras.callbacks.History at 0x7fdb7257e910>"
            ]
          },
          "execution_count": 52,
          "metadata": {},
          "output_type": "execute_result"
        }
      ],
      "source": [
        "# To train the model:\n",
        "demo2.fit_generator(train_gen,\n",
        "                    steps_per_epoch = num_train_images // batch_size,   #num_train_images // batch_size,\n",
        "                    epochs = 2,\n",
        "                    validation_data = val_gen,\n",
        "                    validation_steps = num_val_images // batch_size,  #num_val_images // batch_size,\n",
        "                    workers = 8,\n",
        "                    callbacks= [reduce_lr])"
      ]
    },
    {
      "cell_type": "code",
      "execution_count": null,
      "metadata": {
        "colab": {
          "base_uri": "https://localhost:8080/"
        },
        "id": "uZd5KBsM5IZ2",
        "outputId": "86c96bd9-8229-4dae-ae18-e9ec67413e22"
      },
      "outputs": [
        {
          "name": "stdout",
          "output_type": "stream",
          "text": [
            "Model Saved\n"
          ]
        }
      ],
      "source": [
        "demo2.save('/content/drive/MyDrive/kerasep3_model.kerasave',include_optimizer=True)\n",
        "print(\"Model Saved\")"
      ]
    },
    {
      "cell_type": "code",
      "execution_count": null,
      "metadata": {
        "id": "PDylfgwt5IaS"
      },
      "outputs": [],
      "source": [
        "model_1.save_weights('/content/drive/MyDrive/kerasmodelep3_weight')\n",
        "print(\"Wights Saved\")"
      ]
    },
    {
      "cell_type": "code",
      "execution_count": null,
      "metadata": {
        "id": "Iz0IdFZUkvdQ"
      },
      "outputs": [],
      "source": [
        "from keras.models import load_model\n",
        "demo2 = load_model('/content/drive/MyDrive/kerasep3_model.kerasave')"
      ]
    },
    {
      "cell_type": "code",
      "execution_count": null,
      "metadata": {
        "colab": {
          "background_save": true,
          "base_uri": "https://localhost:8080/"
        },
        "id": "IErpaaqw08x2",
        "outputId": "d13fea99-3b4a-44ee-8e4a-ccb7d19a97b0"
      },
      "outputs": [
        {
          "name": "stdout",
          "output_type": "stream",
          "text": [
            "Epoch 1/2\n",
            "37130/37130 [==============================] - 27658s - loss: 2.4442 - acc: 0.5298 - val_loss: 2.5783 - val_acc: 0.5224\n",
            "Epoch 2/2\n",
            "37130/37130 [==============================] - 27675s - loss: 2.4123 - acc: 0.5344 - val_loss: 2.5853 - val_acc: 0.5243\n"
          ]
        },
        {
          "data": {
            "text/plain": [
              "<keras.callbacks.History at 0x7f9ff1f87510>"
            ]
          },
          "execution_count": 33,
          "metadata": {},
          "output_type": "execute_result"
        }
      ],
      "source": [
        "# To train the model:\n",
        "demo2.fit_generator(train_gen,\n",
        "                    steps_per_epoch = num_train_images // batch_size,   #num_train_images // batch_size,\n",
        "                    epochs = 2,\n",
        "                    validation_data = val_gen,\n",
        "                    validation_steps = num_val_images // batch_size,  #num_val_images // batch_size,\n",
        "                    workers = 8,\n",
        "                    callbacks= [reduce_lr])"
      ]
    },
    {
      "cell_type": "code",
      "execution_count": null,
      "metadata": {
        "colab": {
          "background_save": true
        },
        "id": "N8HNtXqs3kJj",
        "outputId": "bbf0b4d8-67b4-4014-dd3d-0a66dc2d50c1"
      },
      "outputs": [
        {
          "name": "stdout",
          "output_type": "stream",
          "text": [
            "Model Saved\n"
          ]
        }
      ],
      "source": [
        "demo2.save('/content/drive/MyDrive/kerasep4_model.kerasave',include_optimizer=True)\n",
        "print(\"Model Saved\")"
      ]
    },
    {
      "cell_type": "markdown",
      "metadata": {
        "id": "b-Ok8mul5CmC"
      },
      "source": []
    },
    {
      "cell_type": "code",
      "execution_count": null,
      "metadata": {
        "id": "RNOYHU4n44SU"
      },
      "outputs": [],
      "source": []
    },
    {
      "cell_type": "code",
      "execution_count": null,
      "metadata": {
        "colab": {
          "background_save": true
        },
        "id": "xVQOPi9i5GXr",
        "outputId": "dacb27b8-fa37-43d5-caea-72f82b7e4f03"
      },
      "outputs": [
        {
          "name": "stderr",
          "output_type": "stream",
          "text": [
            "WARNING:tensorflow:From /usr/local/lib/python3.7/dist-packages/keras/backend/tensorflow_backend.py:442: The name tf.placeholder is deprecated. Please use tf.compat.v1.placeholder instead.\n",
            "\n",
            "WARNING:tensorflow:From /usr/local/lib/python3.7/dist-packages/keras/backend/tensorflow_backend.py:3543: The name tf.random_uniform is deprecated. Please use tf.random.uniform instead.\n",
            "\n",
            "WARNING:tensorflow:From /usr/local/lib/python3.7/dist-packages/keras/backend/tensorflow_backend.py:112: The name tf.get_default_graph is deprecated. Please use tf.compat.v1.get_default_graph instead.\n",
            "\n",
            "WARNING:tensorflow:From /usr/local/lib/python3.7/dist-packages/keras/backend/tensorflow_backend.py:3386: The name tf.nn.max_pool is deprecated. Please use tf.nn.max_pool2d instead.\n",
            "\n",
            "WARNING:tensorflow:From /usr/local/lib/python3.7/dist-packages/keras/backend/tensorflow_backend.py:1205: calling reduce_prod_v1 (from tensorflow.python.ops.math_ops) with keep_dims is deprecated and will be removed in a future version.\n",
            "Instructions for updating:\n",
            "keep_dims is deprecated, use keepdims instead\n",
            "WARNING:tensorflow:From /usr/local/lib/python3.7/dist-packages/keras/backend/tensorflow_backend.py:153: The name tf.get_default_session is deprecated. Please use tf.compat.v1.get_default_session instead.\n",
            "\n",
            "WARNING:tensorflow:From /usr/local/lib/python3.7/dist-packages/keras/backend/tensorflow_backend.py:158: The name tf.ConfigProto is deprecated. Please use tf.compat.v1.ConfigProto instead.\n",
            "\n",
            "WARNING:tensorflow:From /usr/local/lib/python3.7/dist-packages/keras/backend/tensorflow_backend.py:163: The name tf.Session is deprecated. Please use tf.compat.v1.Session instead.\n",
            "\n",
            "WARNING:tensorflow:From /usr/local/lib/python3.7/dist-packages/keras/backend/tensorflow_backend.py:333: The name tf.global_variables is deprecated. Please use tf.compat.v1.global_variables instead.\n",
            "\n",
            "WARNING:tensorflow:From /usr/local/lib/python3.7/dist-packages/keras/backend/tensorflow_backend.py:341: The name tf.variables_initializer is deprecated. Please use tf.compat.v1.variables_initializer instead.\n",
            "\n",
            "WARNING:tensorflow:From /usr/local/lib/python3.7/dist-packages/keras/optimizers.py:711: The name tf.train.Optimizer is deprecated. Please use tf.compat.v1.train.Optimizer instead.\n",
            "\n",
            "WARNING:tensorflow:From /usr/local/lib/python3.7/dist-packages/keras/backend/tensorflow_backend.py:2755: calling reduce_sum_v1 (from tensorflow.python.ops.math_ops) with keep_dims is deprecated and will be removed in a future version.\n",
            "Instructions for updating:\n",
            "keep_dims is deprecated, use keepdims instead\n",
            "WARNING:tensorflow:From /usr/local/lib/python3.7/dist-packages/keras/backend/tensorflow_backend.py:2759: The name tf.log is deprecated. Please use tf.math.log instead.\n",
            "\n",
            "WARNING:tensorflow:From /usr/local/lib/python3.7/dist-packages/tensorflow_core/python/ops/math_grad.py:1424: where (from tensorflow.python.ops.array_ops) is deprecated and will be removed in a future version.\n",
            "Instructions for updating:\n",
            "Use tf.where in 2.0, which has the same broadcast rule as np.where\n",
            "WARNING:tensorflow:From /usr/local/lib/python3.7/dist-packages/keras/backend/tensorflow_backend.py:899: The name tf.assign_add is deprecated. Please use tf.compat.v1.assign_add instead.\n",
            "\n",
            "WARNING:tensorflow:From /usr/local/lib/python3.7/dist-packages/keras/backend/tensorflow_backend.py:625: calling Constant.__init__ (from tensorflow.python.ops.init_ops) with dtype is deprecated and will be removed in a future version.\n",
            "Instructions for updating:\n",
            "Call initializer instance with the dtype argument instead of passing it to the constructor\n",
            "WARNING:tensorflow:From /usr/local/lib/python3.7/dist-packages/keras/backend/tensorflow_backend.py:886: The name tf.assign is deprecated. Please use tf.compat.v1.assign instead.\n",
            "\n"
          ]
        }
      ],
      "source": [
        "from keras.models import load_model\n",
        "demo2 = load_model('/content/drive/MyDrive/kerasep5_model.kerasave')"
      ]
    },
    {
      "cell_type": "code",
      "execution_count": null,
      "metadata": {
        "colab": {
          "background_save": true
        },
        "id": "BSafDn_q6P3Q",
        "outputId": "15cc5fbc-6fef-46a2-a15e-3e78a86661ef"
      },
      "outputs": [
        {
          "data": {
            "text/plain": [
              "{'lr': 0.0003000000142492354,\n",
              " 'beta_1': 0.8999999761581421,\n",
              " 'beta_2': 0.9990000128746033,\n",
              " 'decay': 0.0,\n",
              " 'epsilon': 1e-07}"
            ]
          },
          "execution_count": 32,
          "metadata": {},
          "output_type": "execute_result"
        }
      ],
      "source": [
        "demo2.optimizer.get_config()\n"
      ]
    },
    {
      "cell_type": "code",
      "execution_count": null,
      "metadata": {
        "colab": {
          "background_save": true
        },
        "id": "BrzEbhK_-cjI",
        "outputId": "d16ccd64-9e55-42e9-b1e8-bb38e423ce1f"
      },
      "outputs": [
        {
          "data": {
            "text/plain": [
              "0.000195"
            ]
          },
          "execution_count": 33,
          "metadata": {},
          "output_type": "execute_result"
        }
      ],
      "source": [
        "0.0003*0.65"
      ]
    },
    {
      "cell_type": "code",
      "execution_count": null,
      "metadata": {
        "colab": {
          "background_save": true
        },
        "id": "UvXqgeof6N51"
      },
      "outputs": [],
      "source": [
        "keras.backend.set_value(demo2.optimizer.lr, 0.000195)"
      ]
    },
    {
      "cell_type": "code",
      "execution_count": null,
      "metadata": {
        "colab": {
          "background_save": true
        },
        "id": "osj6P46E6Tly",
        "outputId": "d7665e08-5fb8-407a-a80b-9dfc6b9c1d7d"
      },
      "outputs": [
        {
          "data": {
            "text/plain": [
              "{'lr': 0.00019500000053085387,\n",
              " 'beta_1': 0.8999999761581421,\n",
              " 'beta_2': 0.9990000128746033,\n",
              " 'decay': 0.0,\n",
              " 'epsilon': 1e-07}"
            ]
          },
          "execution_count": 35,
          "metadata": {},
          "output_type": "execute_result"
        }
      ],
      "source": [
        "demo2.optimizer.get_config()"
      ]
    },
    {
      "cell_type": "code",
      "execution_count": null,
      "metadata": {
        "colab": {
          "background_save": true,
          "base_uri": "https://localhost:8080/"
        },
        "id": "5P0BoCiz5GXt",
        "outputId": "ae7e6b8c-2bfe-4036-fe7d-ea14b91854ee"
      },
      "outputs": [
        {
          "name": "stdout",
          "output_type": "stream",
          "text": [
            "Epoch 1/3\n",
            "37130/37130 [==============================] - 27764s - loss: 2.2950 - acc: 0.5504 - val_loss: 2.5126 - val_acc: 0.5366"
          ]
        },
        {
          "name": "stderr",
          "output_type": "stream",
          "text": [
            "/usr/local/lib/python3.7/dist-packages/keras/callbacks.py:889: RuntimeWarning: Reduce LR on plateau conditioned on metric `val_accuracy` which is not available. Available metrics are: val_loss,val_acc,loss,acc,lr\n",
            "  (self.monitor, ','.join(list(logs.keys()))), RuntimeWarning\n"
          ]
        },
        {
          "name": "stdout",
          "output_type": "stream",
          "text": [
            "\n",
            "Epoch 2/3\n",
            "37130/37130 [==============================] - 27759s - loss: 2.2476 - acc: 0.5567 - val_loss: 2.5045 - val_acc: 0.5388\n",
            "Epoch 3/3\n",
            "37130/37130 [==============================] - 27760s - loss: 2.2218 - acc: 0.5600 - val_loss: 2.5071 - val_acc: 0.5404\n"
          ]
        },
        {
          "data": {
            "text/plain": [
              "<keras.callbacks.History at 0x7f75a02644d0>"
            ]
          },
          "execution_count": 36,
          "metadata": {},
          "output_type": "execute_result"
        }
      ],
      "source": [
        "# To train the model:\n",
        "demo2.fit_generator(train_gen,\n",
        "                    steps_per_epoch = num_train_images // batch_size,   #num_train_images // batch_size,\n",
        "                    epochs = 3,\n",
        "                    validation_data = val_gen,\n",
        "                    validation_steps = num_val_images // batch_size,  #num_val_images // batch_size,\n",
        "                    workers = 8,\n",
        "                    callbacks= [reduce_lr])"
      ]
    },
    {
      "cell_type": "code",
      "execution_count": null,
      "metadata": {
        "colab": {
          "background_save": true
        },
        "id": "tWqiOrLg5GXu",
        "outputId": "a37be453-dc7d-4c5b-871a-09ccee320205"
      },
      "outputs": [
        {
          "name": "stdout",
          "output_type": "stream",
          "text": [
            "Model Saved\n"
          ]
        }
      ],
      "source": [
        "demo2.save('/content/drive/MyDrive/kerasep8_model.kerasave',include_optimizer=True)\n",
        "print(\"Model Saved\")"
      ]
    },
    {
      "cell_type": "markdown",
      "metadata": {
        "id": "kMJDYWNxGrBy"
      },
      "source": [
        "#lr 0.00005"
      ]
    },
    {
      "cell_type": "code",
      "execution_count": null,
      "metadata": {
        "colab": {
          "base_uri": "https://localhost:8080/"
        },
        "id": "5BNUffoKG_bx",
        "outputId": "90996cd0-29a3-4d02-e2d4-17a6c2d6dfcd"
      },
      "outputs": [
        {
          "name": "stderr",
          "output_type": "stream",
          "text": [
            "WARNING:tensorflow:From /usr/local/lib/python3.7/dist-packages/keras/backend/tensorflow_backend.py:442: The name tf.placeholder is deprecated. Please use tf.compat.v1.placeholder instead.\n",
            "\n",
            "WARNING:tensorflow:From /usr/local/lib/python3.7/dist-packages/keras/backend/tensorflow_backend.py:3543: The name tf.random_uniform is deprecated. Please use tf.random.uniform instead.\n",
            "\n",
            "WARNING:tensorflow:From /usr/local/lib/python3.7/dist-packages/keras/backend/tensorflow_backend.py:112: The name tf.get_default_graph is deprecated. Please use tf.compat.v1.get_default_graph instead.\n",
            "\n",
            "WARNING:tensorflow:From /usr/local/lib/python3.7/dist-packages/keras/backend/tensorflow_backend.py:3386: The name tf.nn.max_pool is deprecated. Please use tf.nn.max_pool2d instead.\n",
            "\n",
            "WARNING:tensorflow:From /usr/local/lib/python3.7/dist-packages/keras/backend/tensorflow_backend.py:1205: calling reduce_prod_v1 (from tensorflow.python.ops.math_ops) with keep_dims is deprecated and will be removed in a future version.\n",
            "Instructions for updating:\n",
            "keep_dims is deprecated, use keepdims instead\n",
            "WARNING:tensorflow:From /usr/local/lib/python3.7/dist-packages/keras/backend/tensorflow_backend.py:153: The name tf.get_default_session is deprecated. Please use tf.compat.v1.get_default_session instead.\n",
            "\n",
            "WARNING:tensorflow:From /usr/local/lib/python3.7/dist-packages/keras/backend/tensorflow_backend.py:158: The name tf.ConfigProto is deprecated. Please use tf.compat.v1.ConfigProto instead.\n",
            "\n",
            "WARNING:tensorflow:From /usr/local/lib/python3.7/dist-packages/keras/backend/tensorflow_backend.py:163: The name tf.Session is deprecated. Please use tf.compat.v1.Session instead.\n",
            "\n",
            "WARNING:tensorflow:From /usr/local/lib/python3.7/dist-packages/keras/backend/tensorflow_backend.py:333: The name tf.global_variables is deprecated. Please use tf.compat.v1.global_variables instead.\n",
            "\n",
            "WARNING:tensorflow:From /usr/local/lib/python3.7/dist-packages/keras/backend/tensorflow_backend.py:341: The name tf.variables_initializer is deprecated. Please use tf.compat.v1.variables_initializer instead.\n",
            "\n",
            "WARNING:tensorflow:From /usr/local/lib/python3.7/dist-packages/keras/optimizers.py:711: The name tf.train.Optimizer is deprecated. Please use tf.compat.v1.train.Optimizer instead.\n",
            "\n",
            "WARNING:tensorflow:From /usr/local/lib/python3.7/dist-packages/keras/backend/tensorflow_backend.py:2755: calling reduce_sum_v1 (from tensorflow.python.ops.math_ops) with keep_dims is deprecated and will be removed in a future version.\n",
            "Instructions for updating:\n",
            "keep_dims is deprecated, use keepdims instead\n",
            "WARNING:tensorflow:From /usr/local/lib/python3.7/dist-packages/keras/backend/tensorflow_backend.py:2759: The name tf.log is deprecated. Please use tf.math.log instead.\n",
            "\n",
            "WARNING:tensorflow:From /usr/local/lib/python3.7/dist-packages/tensorflow_core/python/ops/math_grad.py:1424: where (from tensorflow.python.ops.array_ops) is deprecated and will be removed in a future version.\n",
            "Instructions for updating:\n",
            "Use tf.where in 2.0, which has the same broadcast rule as np.where\n",
            "WARNING:tensorflow:From /usr/local/lib/python3.7/dist-packages/keras/backend/tensorflow_backend.py:899: The name tf.assign_add is deprecated. Please use tf.compat.v1.assign_add instead.\n",
            "\n",
            "WARNING:tensorflow:From /usr/local/lib/python3.7/dist-packages/keras/backend/tensorflow_backend.py:625: calling Constant.__init__ (from tensorflow.python.ops.init_ops) with dtype is deprecated and will be removed in a future version.\n",
            "Instructions for updating:\n",
            "Call initializer instance with the dtype argument instead of passing it to the constructor\n",
            "WARNING:tensorflow:From /usr/local/lib/python3.7/dist-packages/keras/backend/tensorflow_backend.py:886: The name tf.assign is deprecated. Please use tf.compat.v1.assign instead.\n",
            "\n"
          ]
        }
      ],
      "source": [
        "from keras.models import load_model\n",
        "demo2 = load_model('/content/drive/MyDrive/kerasep8_model.kerasave')"
      ]
    },
    {
      "cell_type": "code",
      "execution_count": null,
      "metadata": {
        "colab": {
          "base_uri": "https://localhost:8080/"
        },
        "id": "nJJpn2MHG_bz",
        "outputId": "07615f1f-64d2-48d1-be72-c59585a29cb6"
      },
      "outputs": [
        {
          "data": {
            "text/plain": [
              "{'lr': 0.00019500000053085387,\n",
              " 'beta_1': 0.8999999761581421,\n",
              " 'beta_2': 0.9990000128746033,\n",
              " 'decay': 0.0,\n",
              " 'epsilon': 1e-07}"
            ]
          },
          "execution_count": 33,
          "metadata": {},
          "output_type": "execute_result"
        }
      ],
      "source": [
        "demo2.optimizer.get_config()\n"
      ]
    },
    {
      "cell_type": "code",
      "execution_count": null,
      "metadata": {
        "id": "HSr7K2gmG_b1"
      },
      "outputs": [],
      "source": [
        "keras.backend.set_value(demo2.optimizer.lr, 0.00005)"
      ]
    },
    {
      "cell_type": "code",
      "execution_count": null,
      "metadata": {
        "colab": {
          "base_uri": "https://localhost:8080/"
        },
        "id": "vuUuJuUlG_b1",
        "outputId": "158765cc-05de-41b4-e8ec-8d46db491532"
      },
      "outputs": [
        {
          "data": {
            "text/plain": [
              "{'lr': 4.999999873689376e-05,\n",
              " 'beta_1': 0.8999999761581421,\n",
              " 'beta_2': 0.9990000128746033,\n",
              " 'decay': 0.0,\n",
              " 'epsilon': 1e-07}"
            ]
          },
          "execution_count": 35,
          "metadata": {},
          "output_type": "execute_result"
        }
      ],
      "source": [
        "demo2.optimizer.get_config()"
      ]
    },
    {
      "cell_type": "code",
      "execution_count": null,
      "metadata": {
        "colab": {
          "base_uri": "https://localhost:8080/"
        },
        "id": "d54GwEHMG_b2",
        "outputId": "71a5c441-edb2-4e92-92c9-3eb7f185cfb6"
      },
      "outputs": [
        {
          "name": "stdout",
          "output_type": "stream",
          "text": [
            "Epoch 1/3\n",
            "37130/37130 [==============================] - 27458s - loss: 2.0836 - acc: 0.5791 - val_loss: 2.4504 - val_acc: 0.5520\n",
            "Epoch 2/3\n",
            "37130/37130 [==============================] - 27392s - loss: 2.0411 - acc: 0.5849 - val_loss: 2.4418 - val_acc: 0.5532\n",
            "Epoch 3/3\n",
            "37130/37130 [==============================] - 27400s - loss: 2.0189 - acc: 0.5879 - val_loss: 2.4456 - val_acc: 0.5550\n"
          ]
        },
        {
          "data": {
            "text/plain": [
              "<keras.callbacks.History at 0x7f8ef5362d90>"
            ]
          },
          "execution_count": 36,
          "metadata": {},
          "output_type": "execute_result"
        }
      ],
      "source": [
        "# To train the model:\n",
        "demo2.fit_generator(train_gen,\n",
        "                    steps_per_epoch = num_train_images // batch_size,   #num_train_images // batch_size,\n",
        "                    epochs = 3,\n",
        "                    validation_data = val_gen,\n",
        "                    validation_steps = num_val_images // batch_size,  #num_val_images // batch_size,\n",
        "                    workers = 8,\n",
        "                    callbacks= [reduce_lr])"
      ]
    },
    {
      "cell_type": "code",
      "execution_count": null,
      "metadata": {
        "colab": {
          "base_uri": "https://localhost:8080/"
        },
        "id": "DJZvAu97G_b4",
        "outputId": "f56c2673-ea3a-4eba-d982-7515111778e9"
      },
      "outputs": [
        {
          "name": "stdout",
          "output_type": "stream",
          "text": [
            "Model Saved\n"
          ]
        }
      ],
      "source": [
        "demo2.save('/content/drive/MyDrive/kerasep11_model.kerasave',include_optimizer=True)\n",
        "print(\"Model Saved\")"
      ]
    },
    {
      "cell_type": "markdown",
      "metadata": {
        "id": "EfeJKb6jHKwD"
      },
      "source": []
    },
    {
      "cell_type": "code",
      "execution_count": null,
      "metadata": {
        "id": "Ce4HQU3dHP77"
      },
      "outputs": [],
      "source": [
        "from keras.models import load_model\n",
        "demo2 = load_model('/content/drive/MyDrive/kerasep11_model.kerasave')"
      ]
    },
    {
      "cell_type": "code",
      "execution_count": null,
      "metadata": {
        "id": "rJy4LN9jHQKe"
      },
      "outputs": [],
      "source": [
        "demo2.optimizer.get_config()"
      ]
    },
    {
      "cell_type": "code",
      "execution_count": null,
      "metadata": {
        "id": "syjleZySHTY8"
      },
      "outputs": [],
      "source": [
        "keras.backend.set_value(demo2.optimizer.lr, 0.000005)"
      ]
    },
    {
      "cell_type": "code",
      "execution_count": null,
      "metadata": {
        "id": "-GiX0u8hJGSf"
      },
      "outputs": [],
      "source": [
        "demo2.optimizer.get_config()"
      ]
    },
    {
      "cell_type": "code",
      "execution_count": null,
      "metadata": {
        "colab": {
          "background_save": true
        },
        "id": "_Fk7nfGRJIT2",
        "outputId": "d1c83a11-de69-4c28-94e2-a3e95a20b1b8"
      },
      "outputs": [
        {
          "name": "stdout",
          "output_type": "stream",
          "text": [
            "Epoch 1/1\n",
            "37130/37130 [==============================] - 27535s - loss: 1.9701 - acc: 0.5944 - val_loss: 2.4383 - val_acc: 0.5569\n"
          ]
        },
        {
          "data": {
            "text/plain": [
              "<keras.callbacks.History at 0x7fc64a02ac10>"
            ]
          },
          "execution_count": 30,
          "metadata": {},
          "output_type": "execute_result"
        }
      ],
      "source": [
        "# To train the model:\n",
        "demo2.fit_generator(train_gen,\n",
        "                    steps_per_epoch = num_train_images // batch_size,   #num_train_images // batch_size,\n",
        "                    epochs = 1,\n",
        "                    validation_data = val_gen,\n",
        "                    validation_steps = num_val_images // batch_size,  #num_val_images // batch_size,\n",
        "                    workers = 8,\n",
        "                    callbacks= [reduce_lr])"
      ]
    },
    {
      "cell_type": "code",
      "execution_count": null,
      "metadata": {
        "colab": {
          "background_save": true
        },
        "id": "HF5QvE_GJPpn",
        "outputId": "f6dece8d-2eb6-4e22-e7a9-c367ecc8e0d1"
      },
      "outputs": [
        {
          "name": "stdout",
          "output_type": "stream",
          "text": [
            "Model Saved\n"
          ]
        }
      ],
      "source": [
        "demo2.save('/content/drive/MyDrive/kerasep12_model.kerasave',include_optimizer=True)\n",
        "print(\"Model Saved\")"
      ]
    },
    {
      "cell_type": "markdown",
      "metadata": {
        "id": "B7azYs2v7Nwq"
      },
      "source": [
        "#n"
      ]
    },
    {
      "cell_type": "code",
      "execution_count": null,
      "metadata": {
        "colab": {
          "base_uri": "https://localhost:8080/"
        },
        "id": "_r8b5gfaJT2T",
        "outputId": "e15ec9ac-ae82-4223-a3d7-21efcbd0673b"
      },
      "outputs": [
        {
          "name": "stderr",
          "output_type": "stream",
          "text": [
            "WARNING:tensorflow:From /usr/local/lib/python3.7/dist-packages/keras/optimizers.py:711: The name tf.train.Optimizer is deprecated. Please use tf.compat.v1.train.Optimizer instead.\n",
            "\n",
            "WARNING:tensorflow:From /usr/local/lib/python3.7/dist-packages/keras/backend/tensorflow_backend.py:2755: calling reduce_sum_v1 (from tensorflow.python.ops.math_ops) with keep_dims is deprecated and will be removed in a future version.\n",
            "Instructions for updating:\n",
            "keep_dims is deprecated, use keepdims instead\n",
            "WARNING:tensorflow:From /usr/local/lib/python3.7/dist-packages/keras/backend/tensorflow_backend.py:2759: The name tf.log is deprecated. Please use tf.math.log instead.\n",
            "\n",
            "WARNING:tensorflow:From /usr/local/lib/python3.7/dist-packages/tensorflow_core/python/ops/math_grad.py:1424: where (from tensorflow.python.ops.array_ops) is deprecated and will be removed in a future version.\n",
            "Instructions for updating:\n",
            "Use tf.where in 2.0, which has the same broadcast rule as np.where\n",
            "WARNING:tensorflow:From /usr/local/lib/python3.7/dist-packages/keras/backend/tensorflow_backend.py:899: The name tf.assign_add is deprecated. Please use tf.compat.v1.assign_add instead.\n",
            "\n",
            "WARNING:tensorflow:From /usr/local/lib/python3.7/dist-packages/keras/backend/tensorflow_backend.py:625: calling Constant.__init__ (from tensorflow.python.ops.init_ops) with dtype is deprecated and will be removed in a future version.\n",
            "Instructions for updating:\n",
            "Call initializer instance with the dtype argument instead of passing it to the constructor\n",
            "WARNING:tensorflow:From /usr/local/lib/python3.7/dist-packages/keras/backend/tensorflow_backend.py:886: The name tf.assign is deprecated. Please use tf.compat.v1.assign instead.\n",
            "\n"
          ]
        }
      ],
      "source": [
        "from keras.models import load_model\n",
        "model = load_model('/content/drive/MyDrive/kerasep12_model.kerasave')"
      ]
    },
    {
      "cell_type": "code",
      "execution_count": null,
      "metadata": {
        "colab": {
          "base_uri": "https://localhost:8080/"
        },
        "id": "-UZML_U91z35",
        "outputId": "ef9705db-d4d2-4565-b4d9-0cac627f0d86"
      },
      "outputs": [
        {
          "name": "stdout",
          "output_type": "stream",
          "text": [
            "____________________________________________________________________________________________________\n",
            "Layer (type)                     Output Shape          Param #     Connected to                     \n",
            "====================================================================================================\n",
            "input_1 (InputLayer)             (None, 180, 180, 3)   0                                            \n",
            "____________________________________________________________________________________________________\n",
            "block1_conv1 (Conv2D)            (None, 89, 89, 32)    864         input_1[0][0]                    \n",
            "____________________________________________________________________________________________________\n",
            "block1_conv1_bn (BatchNormalizat (None, 89, 89, 32)    128         block1_conv1[0][0]               \n",
            "____________________________________________________________________________________________________\n",
            "block1_conv1_act (Activation)    (None, 89, 89, 32)    0           block1_conv1_bn[0][0]            \n",
            "____________________________________________________________________________________________________\n",
            "block1_conv2 (Conv2D)            (None, 87, 87, 64)    18432       block1_conv1_act[0][0]           \n",
            "____________________________________________________________________________________________________\n",
            "block1_conv2_bn (BatchNormalizat (None, 87, 87, 64)    256         block1_conv2[0][0]               \n",
            "____________________________________________________________________________________________________\n",
            "block1_conv2_act (Activation)    (None, 87, 87, 64)    0           block1_conv2_bn[0][0]            \n",
            "____________________________________________________________________________________________________\n",
            "block2_sepconv1 (SeparableConv2D (None, 87, 87, 128)   8768        block1_conv2_act[0][0]           \n",
            "____________________________________________________________________________________________________\n",
            "block2_sepconv1_bn (BatchNormali (None, 87, 87, 128)   512         block2_sepconv1[0][0]            \n",
            "____________________________________________________________________________________________________\n",
            "block2_sepconv2_act (Activation) (None, 87, 87, 128)   0           block2_sepconv1_bn[0][0]         \n",
            "____________________________________________________________________________________________________\n",
            "block2_sepconv2 (SeparableConv2D (None, 87, 87, 128)   17536       block2_sepconv2_act[0][0]        \n",
            "____________________________________________________________________________________________________\n",
            "block2_sepconv2_bn (BatchNormali (None, 87, 87, 128)   512         block2_sepconv2[0][0]            \n",
            "____________________________________________________________________________________________________\n",
            "conv2d_1 (Conv2D)                (None, 44, 44, 128)   8192        block1_conv2_act[0][0]           \n",
            "____________________________________________________________________________________________________\n",
            "block2_pool (MaxPooling2D)       (None, 44, 44, 128)   0           block2_sepconv2_bn[0][0]         \n",
            "____________________________________________________________________________________________________\n",
            "batch_normalization_1 (BatchNorm (None, 44, 44, 128)   512         conv2d_1[0][0]                   \n",
            "____________________________________________________________________________________________________\n",
            "add_1 (Add)                      (None, 44, 44, 128)   0           block2_pool[0][0]                \n",
            "                                                                   batch_normalization_1[0][0]      \n",
            "____________________________________________________________________________________________________\n",
            "block3_sepconv1_act (Activation) (None, 44, 44, 128)   0           add_1[0][0]                      \n",
            "____________________________________________________________________________________________________\n",
            "block3_sepconv1 (SeparableConv2D (None, 44, 44, 256)   33920       block3_sepconv1_act[0][0]        \n",
            "____________________________________________________________________________________________________\n",
            "block3_sepconv1_bn (BatchNormali (None, 44, 44, 256)   1024        block3_sepconv1[0][0]            \n",
            "____________________________________________________________________________________________________\n",
            "block3_sepconv2_act (Activation) (None, 44, 44, 256)   0           block3_sepconv1_bn[0][0]         \n",
            "____________________________________________________________________________________________________\n",
            "block3_sepconv2 (SeparableConv2D (None, 44, 44, 256)   67840       block3_sepconv2_act[0][0]        \n",
            "____________________________________________________________________________________________________\n",
            "block3_sepconv2_bn (BatchNormali (None, 44, 44, 256)   1024        block3_sepconv2[0][0]            \n",
            "____________________________________________________________________________________________________\n",
            "conv2d_2 (Conv2D)                (None, 22, 22, 256)   32768       add_1[0][0]                      \n",
            "____________________________________________________________________________________________________\n",
            "block3_pool (MaxPooling2D)       (None, 22, 22, 256)   0           block3_sepconv2_bn[0][0]         \n",
            "____________________________________________________________________________________________________\n",
            "batch_normalization_2 (BatchNorm (None, 22, 22, 256)   1024        conv2d_2[0][0]                   \n",
            "____________________________________________________________________________________________________\n",
            "add_2 (Add)                      (None, 22, 22, 256)   0           block3_pool[0][0]                \n",
            "                                                                   batch_normalization_2[0][0]      \n",
            "____________________________________________________________________________________________________\n",
            "block4_sepconv1_act (Activation) (None, 22, 22, 256)   0           add_2[0][0]                      \n",
            "____________________________________________________________________________________________________\n",
            "block4_sepconv1 (SeparableConv2D (None, 22, 22, 728)   188672      block4_sepconv1_act[0][0]        \n",
            "____________________________________________________________________________________________________\n",
            "block4_sepconv1_bn (BatchNormali (None, 22, 22, 728)   2912        block4_sepconv1[0][0]            \n",
            "____________________________________________________________________________________________________\n",
            "block4_sepconv2_act (Activation) (None, 22, 22, 728)   0           block4_sepconv1_bn[0][0]         \n",
            "____________________________________________________________________________________________________\n",
            "block4_sepconv2 (SeparableConv2D (None, 22, 22, 728)   536536      block4_sepconv2_act[0][0]        \n",
            "____________________________________________________________________________________________________\n",
            "block4_sepconv2_bn (BatchNormali (None, 22, 22, 728)   2912        block4_sepconv2[0][0]            \n",
            "____________________________________________________________________________________________________\n",
            "conv2d_3 (Conv2D)                (None, 11, 11, 728)   186368      add_2[0][0]                      \n",
            "____________________________________________________________________________________________________\n",
            "block4_pool (MaxPooling2D)       (None, 11, 11, 728)   0           block4_sepconv2_bn[0][0]         \n",
            "____________________________________________________________________________________________________\n",
            "batch_normalization_3 (BatchNorm (None, 11, 11, 728)   2912        conv2d_3[0][0]                   \n",
            "____________________________________________________________________________________________________\n",
            "add_3 (Add)                      (None, 11, 11, 728)   0           block4_pool[0][0]                \n",
            "                                                                   batch_normalization_3[0][0]      \n",
            "____________________________________________________________________________________________________\n",
            "block5_sepconv1_act (Activation) (None, 11, 11, 728)   0           add_3[0][0]                      \n",
            "____________________________________________________________________________________________________\n",
            "block5_sepconv1 (SeparableConv2D (None, 11, 11, 728)   536536      block5_sepconv1_act[0][0]        \n",
            "____________________________________________________________________________________________________\n",
            "block5_sepconv1_bn (BatchNormali (None, 11, 11, 728)   2912        block5_sepconv1[0][0]            \n",
            "____________________________________________________________________________________________________\n",
            "block5_sepconv2_act (Activation) (None, 11, 11, 728)   0           block5_sepconv1_bn[0][0]         \n",
            "____________________________________________________________________________________________________\n",
            "block5_sepconv2 (SeparableConv2D (None, 11, 11, 728)   536536      block5_sepconv2_act[0][0]        \n",
            "____________________________________________________________________________________________________\n",
            "block5_sepconv2_bn (BatchNormali (None, 11, 11, 728)   2912        block5_sepconv2[0][0]            \n",
            "____________________________________________________________________________________________________\n",
            "block5_sepconv3_act (Activation) (None, 11, 11, 728)   0           block5_sepconv2_bn[0][0]         \n",
            "____________________________________________________________________________________________________\n",
            "block5_sepconv3 (SeparableConv2D (None, 11, 11, 728)   536536      block5_sepconv3_act[0][0]        \n",
            "____________________________________________________________________________________________________\n",
            "block5_sepconv3_bn (BatchNormali (None, 11, 11, 728)   2912        block5_sepconv3[0][0]            \n",
            "____________________________________________________________________________________________________\n",
            "add_4 (Add)                      (None, 11, 11, 728)   0           block5_sepconv3_bn[0][0]         \n",
            "                                                                   add_3[0][0]                      \n",
            "____________________________________________________________________________________________________\n",
            "block6_sepconv1_act (Activation) (None, 11, 11, 728)   0           add_4[0][0]                      \n",
            "____________________________________________________________________________________________________\n",
            "block6_sepconv1 (SeparableConv2D (None, 11, 11, 728)   536536      block6_sepconv1_act[0][0]        \n",
            "____________________________________________________________________________________________________\n",
            "block6_sepconv1_bn (BatchNormali (None, 11, 11, 728)   2912        block6_sepconv1[0][0]            \n",
            "____________________________________________________________________________________________________\n",
            "block6_sepconv2_act (Activation) (None, 11, 11, 728)   0           block6_sepconv1_bn[0][0]         \n",
            "____________________________________________________________________________________________________\n",
            "block6_sepconv2 (SeparableConv2D (None, 11, 11, 728)   536536      block6_sepconv2_act[0][0]        \n",
            "____________________________________________________________________________________________________\n",
            "block6_sepconv2_bn (BatchNormali (None, 11, 11, 728)   2912        block6_sepconv2[0][0]            \n",
            "____________________________________________________________________________________________________\n",
            "block6_sepconv3_act (Activation) (None, 11, 11, 728)   0           block6_sepconv2_bn[0][0]         \n",
            "____________________________________________________________________________________________________\n",
            "block6_sepconv3 (SeparableConv2D (None, 11, 11, 728)   536536      block6_sepconv3_act[0][0]        \n",
            "____________________________________________________________________________________________________\n",
            "block6_sepconv3_bn (BatchNormali (None, 11, 11, 728)   2912        block6_sepconv3[0][0]            \n",
            "____________________________________________________________________________________________________\n",
            "add_5 (Add)                      (None, 11, 11, 728)   0           block6_sepconv3_bn[0][0]         \n",
            "                                                                   add_4[0][0]                      \n",
            "____________________________________________________________________________________________________\n",
            "block7_sepconv1_act (Activation) (None, 11, 11, 728)   0           add_5[0][0]                      \n",
            "____________________________________________________________________________________________________\n",
            "block7_sepconv1 (SeparableConv2D (None, 11, 11, 728)   536536      block7_sepconv1_act[0][0]        \n",
            "____________________________________________________________________________________________________\n",
            "block7_sepconv1_bn (BatchNormali (None, 11, 11, 728)   2912        block7_sepconv1[0][0]            \n",
            "____________________________________________________________________________________________________\n",
            "block7_sepconv2_act (Activation) (None, 11, 11, 728)   0           block7_sepconv1_bn[0][0]         \n",
            "____________________________________________________________________________________________________\n",
            "block7_sepconv2 (SeparableConv2D (None, 11, 11, 728)   536536      block7_sepconv2_act[0][0]        \n",
            "____________________________________________________________________________________________________\n",
            "block7_sepconv2_bn (BatchNormali (None, 11, 11, 728)   2912        block7_sepconv2[0][0]            \n",
            "____________________________________________________________________________________________________\n",
            "block7_sepconv3_act (Activation) (None, 11, 11, 728)   0           block7_sepconv2_bn[0][0]         \n",
            "____________________________________________________________________________________________________\n",
            "block7_sepconv3 (SeparableConv2D (None, 11, 11, 728)   536536      block7_sepconv3_act[0][0]        \n",
            "____________________________________________________________________________________________________\n",
            "block7_sepconv3_bn (BatchNormali (None, 11, 11, 728)   2912        block7_sepconv3[0][0]            \n",
            "____________________________________________________________________________________________________\n",
            "add_6 (Add)                      (None, 11, 11, 728)   0           block7_sepconv3_bn[0][0]         \n",
            "                                                                   add_5[0][0]                      \n",
            "____________________________________________________________________________________________________\n",
            "block8_sepconv1_act (Activation) (None, 11, 11, 728)   0           add_6[0][0]                      \n",
            "____________________________________________________________________________________________________\n",
            "block8_sepconv1 (SeparableConv2D (None, 11, 11, 728)   536536      block8_sepconv1_act[0][0]        \n",
            "____________________________________________________________________________________________________\n",
            "block8_sepconv1_bn (BatchNormali (None, 11, 11, 728)   2912        block8_sepconv1[0][0]            \n",
            "____________________________________________________________________________________________________\n",
            "block8_sepconv2_act (Activation) (None, 11, 11, 728)   0           block8_sepconv1_bn[0][0]         \n",
            "____________________________________________________________________________________________________\n",
            "block8_sepconv2 (SeparableConv2D (None, 11, 11, 728)   536536      block8_sepconv2_act[0][0]        \n",
            "____________________________________________________________________________________________________\n",
            "block8_sepconv2_bn (BatchNormali (None, 11, 11, 728)   2912        block8_sepconv2[0][0]            \n",
            "____________________________________________________________________________________________________\n",
            "block8_sepconv3_act (Activation) (None, 11, 11, 728)   0           block8_sepconv2_bn[0][0]         \n",
            "____________________________________________________________________________________________________\n",
            "block8_sepconv3 (SeparableConv2D (None, 11, 11, 728)   536536      block8_sepconv3_act[0][0]        \n",
            "____________________________________________________________________________________________________\n",
            "block8_sepconv3_bn (BatchNormali (None, 11, 11, 728)   2912        block8_sepconv3[0][0]            \n",
            "____________________________________________________________________________________________________\n",
            "add_7 (Add)                      (None, 11, 11, 728)   0           block8_sepconv3_bn[0][0]         \n",
            "                                                                   add_6[0][0]                      \n",
            "____________________________________________________________________________________________________\n",
            "block9_sepconv1_act (Activation) (None, 11, 11, 728)   0           add_7[0][0]                      \n",
            "____________________________________________________________________________________________________\n",
            "block9_sepconv1 (SeparableConv2D (None, 11, 11, 728)   536536      block9_sepconv1_act[0][0]        \n",
            "____________________________________________________________________________________________________\n",
            "block9_sepconv1_bn (BatchNormali (None, 11, 11, 728)   2912        block9_sepconv1[0][0]            \n",
            "____________________________________________________________________________________________________\n",
            "block9_sepconv2_act (Activation) (None, 11, 11, 728)   0           block9_sepconv1_bn[0][0]         \n",
            "____________________________________________________________________________________________________\n",
            "block9_sepconv2 (SeparableConv2D (None, 11, 11, 728)   536536      block9_sepconv2_act[0][0]        \n",
            "____________________________________________________________________________________________________\n",
            "block9_sepconv2_bn (BatchNormali (None, 11, 11, 728)   2912        block9_sepconv2[0][0]            \n",
            "____________________________________________________________________________________________________\n",
            "block9_sepconv3_act (Activation) (None, 11, 11, 728)   0           block9_sepconv2_bn[0][0]         \n",
            "____________________________________________________________________________________________________\n",
            "block9_sepconv3 (SeparableConv2D (None, 11, 11, 728)   536536      block9_sepconv3_act[0][0]        \n",
            "____________________________________________________________________________________________________\n",
            "block9_sepconv3_bn (BatchNormali (None, 11, 11, 728)   2912        block9_sepconv3[0][0]            \n",
            "____________________________________________________________________________________________________\n",
            "add_8 (Add)                      (None, 11, 11, 728)   0           block9_sepconv3_bn[0][0]         \n",
            "                                                                   add_7[0][0]                      \n",
            "____________________________________________________________________________________________________\n",
            "block10_sepconv1_act (Activation (None, 11, 11, 728)   0           add_8[0][0]                      \n",
            "____________________________________________________________________________________________________\n",
            "block10_sepconv1 (SeparableConv2 (None, 11, 11, 728)   536536      block10_sepconv1_act[0][0]       \n",
            "____________________________________________________________________________________________________\n",
            "block10_sepconv1_bn (BatchNormal (None, 11, 11, 728)   2912        block10_sepconv1[0][0]           \n",
            "____________________________________________________________________________________________________\n",
            "block10_sepconv2_act (Activation (None, 11, 11, 728)   0           block10_sepconv1_bn[0][0]        \n",
            "____________________________________________________________________________________________________\n",
            "block10_sepconv2 (SeparableConv2 (None, 11, 11, 728)   536536      block10_sepconv2_act[0][0]       \n",
            "____________________________________________________________________________________________________\n",
            "block10_sepconv2_bn (BatchNormal (None, 11, 11, 728)   2912        block10_sepconv2[0][0]           \n",
            "____________________________________________________________________________________________________\n",
            "block10_sepconv3_act (Activation (None, 11, 11, 728)   0           block10_sepconv2_bn[0][0]        \n",
            "____________________________________________________________________________________________________\n",
            "block10_sepconv3 (SeparableConv2 (None, 11, 11, 728)   536536      block10_sepconv3_act[0][0]       \n",
            "____________________________________________________________________________________________________\n",
            "block10_sepconv3_bn (BatchNormal (None, 11, 11, 728)   2912        block10_sepconv3[0][0]           \n",
            "____________________________________________________________________________________________________\n",
            "add_9 (Add)                      (None, 11, 11, 728)   0           block10_sepconv3_bn[0][0]        \n",
            "                                                                   add_8[0][0]                      \n",
            "____________________________________________________________________________________________________\n",
            "block11_sepconv1_act (Activation (None, 11, 11, 728)   0           add_9[0][0]                      \n",
            "____________________________________________________________________________________________________\n",
            "block11_sepconv1 (SeparableConv2 (None, 11, 11, 728)   536536      block11_sepconv1_act[0][0]       \n",
            "____________________________________________________________________________________________________\n",
            "block11_sepconv1_bn (BatchNormal (None, 11, 11, 728)   2912        block11_sepconv1[0][0]           \n",
            "____________________________________________________________________________________________________\n",
            "block11_sepconv2_act (Activation (None, 11, 11, 728)   0           block11_sepconv1_bn[0][0]        \n",
            "____________________________________________________________________________________________________\n",
            "block11_sepconv2 (SeparableConv2 (None, 11, 11, 728)   536536      block11_sepconv2_act[0][0]       \n",
            "____________________________________________________________________________________________________\n",
            "block11_sepconv2_bn (BatchNormal (None, 11, 11, 728)   2912        block11_sepconv2[0][0]           \n",
            "____________________________________________________________________________________________________\n",
            "block11_sepconv3_act (Activation (None, 11, 11, 728)   0           block11_sepconv2_bn[0][0]        \n",
            "____________________________________________________________________________________________________\n",
            "block11_sepconv3 (SeparableConv2 (None, 11, 11, 728)   536536      block11_sepconv3_act[0][0]       \n",
            "____________________________________________________________________________________________________\n",
            "block11_sepconv3_bn (BatchNormal (None, 11, 11, 728)   2912        block11_sepconv3[0][0]           \n",
            "____________________________________________________________________________________________________\n",
            "add_10 (Add)                     (None, 11, 11, 728)   0           block11_sepconv3_bn[0][0]        \n",
            "                                                                   add_9[0][0]                      \n",
            "____________________________________________________________________________________________________\n",
            "block12_sepconv1_act (Activation (None, 11, 11, 728)   0           add_10[0][0]                     \n",
            "____________________________________________________________________________________________________\n",
            "block12_sepconv1 (SeparableConv2 (None, 11, 11, 728)   536536      block12_sepconv1_act[0][0]       \n",
            "____________________________________________________________________________________________________\n",
            "block12_sepconv1_bn (BatchNormal (None, 11, 11, 728)   2912        block12_sepconv1[0][0]           \n",
            "____________________________________________________________________________________________________\n",
            "block12_sepconv2_act (Activation (None, 11, 11, 728)   0           block12_sepconv1_bn[0][0]        \n",
            "____________________________________________________________________________________________________\n",
            "block12_sepconv2 (SeparableConv2 (None, 11, 11, 728)   536536      block12_sepconv2_act[0][0]       \n",
            "____________________________________________________________________________________________________\n",
            "block12_sepconv2_bn (BatchNormal (None, 11, 11, 728)   2912        block12_sepconv2[0][0]           \n",
            "____________________________________________________________________________________________________\n",
            "block12_sepconv3_act (Activation (None, 11, 11, 728)   0           block12_sepconv2_bn[0][0]        \n",
            "____________________________________________________________________________________________________\n",
            "block12_sepconv3 (SeparableConv2 (None, 11, 11, 728)   536536      block12_sepconv3_act[0][0]       \n",
            "____________________________________________________________________________________________________\n",
            "block12_sepconv3_bn (BatchNormal (None, 11, 11, 728)   2912        block12_sepconv3[0][0]           \n",
            "____________________________________________________________________________________________________\n",
            "add_11 (Add)                     (None, 11, 11, 728)   0           block12_sepconv3_bn[0][0]        \n",
            "                                                                   add_10[0][0]                     \n",
            "____________________________________________________________________________________________________\n",
            "block13_sepconv1_act (Activation (None, 11, 11, 728)   0           add_11[0][0]                     \n",
            "____________________________________________________________________________________________________\n",
            "block13_sepconv1 (SeparableConv2 (None, 11, 11, 728)   536536      block13_sepconv1_act[0][0]       \n",
            "____________________________________________________________________________________________________\n",
            "block13_sepconv1_bn (BatchNormal (None, 11, 11, 728)   2912        block13_sepconv1[0][0]           \n",
            "____________________________________________________________________________________________________\n",
            "block13_sepconv2_act (Activation (None, 11, 11, 728)   0           block13_sepconv1_bn[0][0]        \n",
            "____________________________________________________________________________________________________\n",
            "block13_sepconv2 (SeparableConv2 (None, 11, 11, 1024)  752024      block13_sepconv2_act[0][0]       \n",
            "____________________________________________________________________________________________________\n",
            "block13_sepconv2_bn (BatchNormal (None, 11, 11, 1024)  4096        block13_sepconv2[0][0]           \n",
            "____________________________________________________________________________________________________\n",
            "conv2d_4 (Conv2D)                (None, 6, 6, 1024)    745472      add_11[0][0]                     \n",
            "____________________________________________________________________________________________________\n",
            "block13_pool (MaxPooling2D)      (None, 6, 6, 1024)    0           block13_sepconv2_bn[0][0]        \n",
            "____________________________________________________________________________________________________\n",
            "batch_normalization_4 (BatchNorm (None, 6, 6, 1024)    4096        conv2d_4[0][0]                   \n",
            "____________________________________________________________________________________________________\n",
            "add_12 (Add)                     (None, 6, 6, 1024)    0           block13_pool[0][0]               \n",
            "                                                                   batch_normalization_4[0][0]      \n",
            "____________________________________________________________________________________________________\n",
            "block14_sepconv1 (SeparableConv2 (None, 6, 6, 1536)    1582080     add_12[0][0]                     \n",
            "____________________________________________________________________________________________________\n",
            "block14_sepconv1_bn (BatchNormal (None, 6, 6, 1536)    6144        block14_sepconv1[0][0]           \n",
            "____________________________________________________________________________________________________\n",
            "block14_sepconv1_act (Activation (None, 6, 6, 1536)    0           block14_sepconv1_bn[0][0]        \n",
            "____________________________________________________________________________________________________\n",
            "block14_sepconv2 (SeparableConv2 (None, 6, 6, 2048)    3159552     block14_sepconv1_act[0][0]       \n",
            "____________________________________________________________________________________________________\n",
            "block14_sepconv2_bn (BatchNormal (None, 6, 6, 2048)    8192        block14_sepconv2[0][0]           \n",
            "____________________________________________________________________________________________________\n",
            "block14_sepconv2_act (Activation (None, 6, 6, 2048)    0           block14_sepconv2_bn[0][0]        \n",
            "____________________________________________________________________________________________________\n",
            "conv2d_5 (Conv2D)                (None, 6, 6, 512)     9437696     block14_sepconv2_act[0][0]       \n",
            "____________________________________________________________________________________________________\n",
            "max_pooling2d_1 (MaxPooling2D)   (None, 3, 3, 512)     0           conv2d_5[0][0]                   \n",
            "____________________________________________________________________________________________________\n",
            "flatten_1 (Flatten)              (None, 4608)          0           max_pooling2d_1[0][0]            \n",
            "____________________________________________________________________________________________________\n",
            "dense_1 (Dense)                  (None, 500)           2304500     flatten_1[0][0]                  \n",
            "____________________________________________________________________________________________________\n",
            "dense_2 (Dense)                  (None, 500)           250500      dense_1[0][0]                    \n",
            "____________________________________________________________________________________________________\n",
            "dense_3 (Dense)                  (None, 5270)          2640270     dense_2[0][0]                    \n",
            "====================================================================================================\n",
            "Total params: 35,494,446\n",
            "Trainable params: 14,632,966\n",
            "Non-trainable params: 20,861,480\n",
            "____________________________________________________________________________________________________\n"
          ]
        }
      ],
      "source": [
        "model.summary()"
      ]
    },
    {
      "cell_type": "markdown",
      "metadata": {
        "id": "I515JgCY3osv"
      },
      "source": [
        "##set last 3 layer of xception net to trainable"
      ]
    },
    {
      "cell_type": "code",
      "execution_count": null,
      "metadata": {
        "id": "dIk9muhO2CEE"
      },
      "outputs": [],
      "source": [
        "my_layer = model.get_layer('block14_sepconv2')\n",
        "my_layer.trainable = True"
      ]
    },
    {
      "cell_type": "code",
      "execution_count": null,
      "metadata": {
        "id": "1cL_E6nu3EuO"
      },
      "outputs": [],
      "source": [
        "my_layer = model.get_layer('block14_sepconv2_bn')\n",
        "my_layer.trainable = True"
      ]
    },
    {
      "cell_type": "code",
      "execution_count": null,
      "metadata": {
        "id": "RStH7mvX3Iuf"
      },
      "outputs": [],
      "source": [
        "my_layer = model.get_layer('block14_sepconv2_act')\n",
        "my_layer.trainable = True"
      ]
    },
    {
      "cell_type": "code",
      "execution_count": null,
      "metadata": {
        "colab": {
          "base_uri": "https://localhost:8080/"
        },
        "id": "E4Kho5FC2-w5",
        "outputId": "7501fe2e-8459-43b6-f2b4-bc23deb6770a"
      },
      "outputs": [
        {
          "name": "stdout",
          "output_type": "stream",
          "text": [
            "____________________________________________________________________________________________________\n",
            "Layer (type)                     Output Shape          Param #     Connected to                     \n",
            "====================================================================================================\n",
            "input_1 (InputLayer)             (None, 180, 180, 3)   0                                            \n",
            "____________________________________________________________________________________________________\n",
            "block1_conv1 (Conv2D)            (None, 89, 89, 32)    864         input_1[0][0]                    \n",
            "____________________________________________________________________________________________________\n",
            "block1_conv1_bn (BatchNormalizat (None, 89, 89, 32)    128         block1_conv1[0][0]               \n",
            "____________________________________________________________________________________________________\n",
            "block1_conv1_act (Activation)    (None, 89, 89, 32)    0           block1_conv1_bn[0][0]            \n",
            "____________________________________________________________________________________________________\n",
            "block1_conv2 (Conv2D)            (None, 87, 87, 64)    18432       block1_conv1_act[0][0]           \n",
            "____________________________________________________________________________________________________\n",
            "block1_conv2_bn (BatchNormalizat (None, 87, 87, 64)    256         block1_conv2[0][0]               \n",
            "____________________________________________________________________________________________________\n",
            "block1_conv2_act (Activation)    (None, 87, 87, 64)    0           block1_conv2_bn[0][0]            \n",
            "____________________________________________________________________________________________________\n",
            "block2_sepconv1 (SeparableConv2D (None, 87, 87, 128)   8768        block1_conv2_act[0][0]           \n",
            "____________________________________________________________________________________________________\n",
            "block2_sepconv1_bn (BatchNormali (None, 87, 87, 128)   512         block2_sepconv1[0][0]            \n",
            "____________________________________________________________________________________________________\n",
            "block2_sepconv2_act (Activation) (None, 87, 87, 128)   0           block2_sepconv1_bn[0][0]         \n",
            "____________________________________________________________________________________________________\n",
            "block2_sepconv2 (SeparableConv2D (None, 87, 87, 128)   17536       block2_sepconv2_act[0][0]        \n",
            "____________________________________________________________________________________________________\n",
            "block2_sepconv2_bn (BatchNormali (None, 87, 87, 128)   512         block2_sepconv2[0][0]            \n",
            "____________________________________________________________________________________________________\n",
            "conv2d_1 (Conv2D)                (None, 44, 44, 128)   8192        block1_conv2_act[0][0]           \n",
            "____________________________________________________________________________________________________\n",
            "block2_pool (MaxPooling2D)       (None, 44, 44, 128)   0           block2_sepconv2_bn[0][0]         \n",
            "____________________________________________________________________________________________________\n",
            "batch_normalization_1 (BatchNorm (None, 44, 44, 128)   512         conv2d_1[0][0]                   \n",
            "____________________________________________________________________________________________________\n",
            "add_1 (Add)                      (None, 44, 44, 128)   0           block2_pool[0][0]                \n",
            "                                                                   batch_normalization_1[0][0]      \n",
            "____________________________________________________________________________________________________\n",
            "block3_sepconv1_act (Activation) (None, 44, 44, 128)   0           add_1[0][0]                      \n",
            "____________________________________________________________________________________________________\n",
            "block3_sepconv1 (SeparableConv2D (None, 44, 44, 256)   33920       block3_sepconv1_act[0][0]        \n",
            "____________________________________________________________________________________________________\n",
            "block3_sepconv1_bn (BatchNormali (None, 44, 44, 256)   1024        block3_sepconv1[0][0]            \n",
            "____________________________________________________________________________________________________\n",
            "block3_sepconv2_act (Activation) (None, 44, 44, 256)   0           block3_sepconv1_bn[0][0]         \n",
            "____________________________________________________________________________________________________\n",
            "block3_sepconv2 (SeparableConv2D (None, 44, 44, 256)   67840       block3_sepconv2_act[0][0]        \n",
            "____________________________________________________________________________________________________\n",
            "block3_sepconv2_bn (BatchNormali (None, 44, 44, 256)   1024        block3_sepconv2[0][0]            \n",
            "____________________________________________________________________________________________________\n",
            "conv2d_2 (Conv2D)                (None, 22, 22, 256)   32768       add_1[0][0]                      \n",
            "____________________________________________________________________________________________________\n",
            "block3_pool (MaxPooling2D)       (None, 22, 22, 256)   0           block3_sepconv2_bn[0][0]         \n",
            "____________________________________________________________________________________________________\n",
            "batch_normalization_2 (BatchNorm (None, 22, 22, 256)   1024        conv2d_2[0][0]                   \n",
            "____________________________________________________________________________________________________\n",
            "add_2 (Add)                      (None, 22, 22, 256)   0           block3_pool[0][0]                \n",
            "                                                                   batch_normalization_2[0][0]      \n",
            "____________________________________________________________________________________________________\n",
            "block4_sepconv1_act (Activation) (None, 22, 22, 256)   0           add_2[0][0]                      \n",
            "____________________________________________________________________________________________________\n",
            "block4_sepconv1 (SeparableConv2D (None, 22, 22, 728)   188672      block4_sepconv1_act[0][0]        \n",
            "____________________________________________________________________________________________________\n",
            "block4_sepconv1_bn (BatchNormali (None, 22, 22, 728)   2912        block4_sepconv1[0][0]            \n",
            "____________________________________________________________________________________________________\n",
            "block4_sepconv2_act (Activation) (None, 22, 22, 728)   0           block4_sepconv1_bn[0][0]         \n",
            "____________________________________________________________________________________________________\n",
            "block4_sepconv2 (SeparableConv2D (None, 22, 22, 728)   536536      block4_sepconv2_act[0][0]        \n",
            "____________________________________________________________________________________________________\n",
            "block4_sepconv2_bn (BatchNormali (None, 22, 22, 728)   2912        block4_sepconv2[0][0]            \n",
            "____________________________________________________________________________________________________\n",
            "conv2d_3 (Conv2D)                (None, 11, 11, 728)   186368      add_2[0][0]                      \n",
            "____________________________________________________________________________________________________\n",
            "block4_pool (MaxPooling2D)       (None, 11, 11, 728)   0           block4_sepconv2_bn[0][0]         \n",
            "____________________________________________________________________________________________________\n",
            "batch_normalization_3 (BatchNorm (None, 11, 11, 728)   2912        conv2d_3[0][0]                   \n",
            "____________________________________________________________________________________________________\n",
            "add_3 (Add)                      (None, 11, 11, 728)   0           block4_pool[0][0]                \n",
            "                                                                   batch_normalization_3[0][0]      \n",
            "____________________________________________________________________________________________________\n",
            "block5_sepconv1_act (Activation) (None, 11, 11, 728)   0           add_3[0][0]                      \n",
            "____________________________________________________________________________________________________\n",
            "block5_sepconv1 (SeparableConv2D (None, 11, 11, 728)   536536      block5_sepconv1_act[0][0]        \n",
            "____________________________________________________________________________________________________\n",
            "block5_sepconv1_bn (BatchNormali (None, 11, 11, 728)   2912        block5_sepconv1[0][0]            \n",
            "____________________________________________________________________________________________________\n",
            "block5_sepconv2_act (Activation) (None, 11, 11, 728)   0           block5_sepconv1_bn[0][0]         \n",
            "____________________________________________________________________________________________________\n",
            "block5_sepconv2 (SeparableConv2D (None, 11, 11, 728)   536536      block5_sepconv2_act[0][0]        \n",
            "____________________________________________________________________________________________________\n",
            "block5_sepconv2_bn (BatchNormali (None, 11, 11, 728)   2912        block5_sepconv2[0][0]            \n",
            "____________________________________________________________________________________________________\n",
            "block5_sepconv3_act (Activation) (None, 11, 11, 728)   0           block5_sepconv2_bn[0][0]         \n",
            "____________________________________________________________________________________________________\n",
            "block5_sepconv3 (SeparableConv2D (None, 11, 11, 728)   536536      block5_sepconv3_act[0][0]        \n",
            "____________________________________________________________________________________________________\n",
            "block5_sepconv3_bn (BatchNormali (None, 11, 11, 728)   2912        block5_sepconv3[0][0]            \n",
            "____________________________________________________________________________________________________\n",
            "add_4 (Add)                      (None, 11, 11, 728)   0           block5_sepconv3_bn[0][0]         \n",
            "                                                                   add_3[0][0]                      \n",
            "____________________________________________________________________________________________________\n",
            "block6_sepconv1_act (Activation) (None, 11, 11, 728)   0           add_4[0][0]                      \n",
            "____________________________________________________________________________________________________\n",
            "block6_sepconv1 (SeparableConv2D (None, 11, 11, 728)   536536      block6_sepconv1_act[0][0]        \n",
            "____________________________________________________________________________________________________\n",
            "block6_sepconv1_bn (BatchNormali (None, 11, 11, 728)   2912        block6_sepconv1[0][0]            \n",
            "____________________________________________________________________________________________________\n",
            "block6_sepconv2_act (Activation) (None, 11, 11, 728)   0           block6_sepconv1_bn[0][0]         \n",
            "____________________________________________________________________________________________________\n",
            "block6_sepconv2 (SeparableConv2D (None, 11, 11, 728)   536536      block6_sepconv2_act[0][0]        \n",
            "____________________________________________________________________________________________________\n",
            "block6_sepconv2_bn (BatchNormali (None, 11, 11, 728)   2912        block6_sepconv2[0][0]            \n",
            "____________________________________________________________________________________________________\n",
            "block6_sepconv3_act (Activation) (None, 11, 11, 728)   0           block6_sepconv2_bn[0][0]         \n",
            "____________________________________________________________________________________________________\n",
            "block6_sepconv3 (SeparableConv2D (None, 11, 11, 728)   536536      block6_sepconv3_act[0][0]        \n",
            "____________________________________________________________________________________________________\n",
            "block6_sepconv3_bn (BatchNormali (None, 11, 11, 728)   2912        block6_sepconv3[0][0]            \n",
            "____________________________________________________________________________________________________\n",
            "add_5 (Add)                      (None, 11, 11, 728)   0           block6_sepconv3_bn[0][0]         \n",
            "                                                                   add_4[0][0]                      \n",
            "____________________________________________________________________________________________________\n",
            "block7_sepconv1_act (Activation) (None, 11, 11, 728)   0           add_5[0][0]                      \n",
            "____________________________________________________________________________________________________\n",
            "block7_sepconv1 (SeparableConv2D (None, 11, 11, 728)   536536      block7_sepconv1_act[0][0]        \n",
            "____________________________________________________________________________________________________\n",
            "block7_sepconv1_bn (BatchNormali (None, 11, 11, 728)   2912        block7_sepconv1[0][0]            \n",
            "____________________________________________________________________________________________________\n",
            "block7_sepconv2_act (Activation) (None, 11, 11, 728)   0           block7_sepconv1_bn[0][0]         \n",
            "____________________________________________________________________________________________________\n",
            "block7_sepconv2 (SeparableConv2D (None, 11, 11, 728)   536536      block7_sepconv2_act[0][0]        \n",
            "____________________________________________________________________________________________________\n",
            "block7_sepconv2_bn (BatchNormali (None, 11, 11, 728)   2912        block7_sepconv2[0][0]            \n",
            "____________________________________________________________________________________________________\n",
            "block7_sepconv3_act (Activation) (None, 11, 11, 728)   0           block7_sepconv2_bn[0][0]         \n",
            "____________________________________________________________________________________________________\n",
            "block7_sepconv3 (SeparableConv2D (None, 11, 11, 728)   536536      block7_sepconv3_act[0][0]        \n",
            "____________________________________________________________________________________________________\n",
            "block7_sepconv3_bn (BatchNormali (None, 11, 11, 728)   2912        block7_sepconv3[0][0]            \n",
            "____________________________________________________________________________________________________\n",
            "add_6 (Add)                      (None, 11, 11, 728)   0           block7_sepconv3_bn[0][0]         \n",
            "                                                                   add_5[0][0]                      \n",
            "____________________________________________________________________________________________________\n",
            "block8_sepconv1_act (Activation) (None, 11, 11, 728)   0           add_6[0][0]                      \n",
            "____________________________________________________________________________________________________\n",
            "block8_sepconv1 (SeparableConv2D (None, 11, 11, 728)   536536      block8_sepconv1_act[0][0]        \n",
            "____________________________________________________________________________________________________\n",
            "block8_sepconv1_bn (BatchNormali (None, 11, 11, 728)   2912        block8_sepconv1[0][0]            \n",
            "____________________________________________________________________________________________________\n",
            "block8_sepconv2_act (Activation) (None, 11, 11, 728)   0           block8_sepconv1_bn[0][0]         \n",
            "____________________________________________________________________________________________________\n",
            "block8_sepconv2 (SeparableConv2D (None, 11, 11, 728)   536536      block8_sepconv2_act[0][0]        \n",
            "____________________________________________________________________________________________________\n",
            "block8_sepconv2_bn (BatchNormali (None, 11, 11, 728)   2912        block8_sepconv2[0][0]            \n",
            "____________________________________________________________________________________________________\n",
            "block8_sepconv3_act (Activation) (None, 11, 11, 728)   0           block8_sepconv2_bn[0][0]         \n",
            "____________________________________________________________________________________________________\n",
            "block8_sepconv3 (SeparableConv2D (None, 11, 11, 728)   536536      block8_sepconv3_act[0][0]        \n",
            "____________________________________________________________________________________________________\n",
            "block8_sepconv3_bn (BatchNormali (None, 11, 11, 728)   2912        block8_sepconv3[0][0]            \n",
            "____________________________________________________________________________________________________\n",
            "add_7 (Add)                      (None, 11, 11, 728)   0           block8_sepconv3_bn[0][0]         \n",
            "                                                                   add_6[0][0]                      \n",
            "____________________________________________________________________________________________________\n",
            "block9_sepconv1_act (Activation) (None, 11, 11, 728)   0           add_7[0][0]                      \n",
            "____________________________________________________________________________________________________\n",
            "block9_sepconv1 (SeparableConv2D (None, 11, 11, 728)   536536      block9_sepconv1_act[0][0]        \n",
            "____________________________________________________________________________________________________\n",
            "block9_sepconv1_bn (BatchNormali (None, 11, 11, 728)   2912        block9_sepconv1[0][0]            \n",
            "____________________________________________________________________________________________________\n",
            "block9_sepconv2_act (Activation) (None, 11, 11, 728)   0           block9_sepconv1_bn[0][0]         \n",
            "____________________________________________________________________________________________________\n",
            "block9_sepconv2 (SeparableConv2D (None, 11, 11, 728)   536536      block9_sepconv2_act[0][0]        \n",
            "____________________________________________________________________________________________________\n",
            "block9_sepconv2_bn (BatchNormali (None, 11, 11, 728)   2912        block9_sepconv2[0][0]            \n",
            "____________________________________________________________________________________________________\n",
            "block9_sepconv3_act (Activation) (None, 11, 11, 728)   0           block9_sepconv2_bn[0][0]         \n",
            "____________________________________________________________________________________________________\n",
            "block9_sepconv3 (SeparableConv2D (None, 11, 11, 728)   536536      block9_sepconv3_act[0][0]        \n",
            "____________________________________________________________________________________________________\n",
            "block9_sepconv3_bn (BatchNormali (None, 11, 11, 728)   2912        block9_sepconv3[0][0]            \n",
            "____________________________________________________________________________________________________\n",
            "add_8 (Add)                      (None, 11, 11, 728)   0           block9_sepconv3_bn[0][0]         \n",
            "                                                                   add_7[0][0]                      \n",
            "____________________________________________________________________________________________________\n",
            "block10_sepconv1_act (Activation (None, 11, 11, 728)   0           add_8[0][0]                      \n",
            "____________________________________________________________________________________________________\n",
            "block10_sepconv1 (SeparableConv2 (None, 11, 11, 728)   536536      block10_sepconv1_act[0][0]       \n",
            "____________________________________________________________________________________________________\n",
            "block10_sepconv1_bn (BatchNormal (None, 11, 11, 728)   2912        block10_sepconv1[0][0]           \n",
            "____________________________________________________________________________________________________\n",
            "block10_sepconv2_act (Activation (None, 11, 11, 728)   0           block10_sepconv1_bn[0][0]        \n",
            "____________________________________________________________________________________________________\n",
            "block10_sepconv2 (SeparableConv2 (None, 11, 11, 728)   536536      block10_sepconv2_act[0][0]       \n",
            "____________________________________________________________________________________________________\n",
            "block10_sepconv2_bn (BatchNormal (None, 11, 11, 728)   2912        block10_sepconv2[0][0]           \n",
            "____________________________________________________________________________________________________\n",
            "block10_sepconv3_act (Activation (None, 11, 11, 728)   0           block10_sepconv2_bn[0][0]        \n",
            "____________________________________________________________________________________________________\n",
            "block10_sepconv3 (SeparableConv2 (None, 11, 11, 728)   536536      block10_sepconv3_act[0][0]       \n",
            "____________________________________________________________________________________________________\n",
            "block10_sepconv3_bn (BatchNormal (None, 11, 11, 728)   2912        block10_sepconv3[0][0]           \n",
            "____________________________________________________________________________________________________\n",
            "add_9 (Add)                      (None, 11, 11, 728)   0           block10_sepconv3_bn[0][0]        \n",
            "                                                                   add_8[0][0]                      \n",
            "____________________________________________________________________________________________________\n",
            "block11_sepconv1_act (Activation (None, 11, 11, 728)   0           add_9[0][0]                      \n",
            "____________________________________________________________________________________________________\n",
            "block11_sepconv1 (SeparableConv2 (None, 11, 11, 728)   536536      block11_sepconv1_act[0][0]       \n",
            "____________________________________________________________________________________________________\n",
            "block11_sepconv1_bn (BatchNormal (None, 11, 11, 728)   2912        block11_sepconv1[0][0]           \n",
            "____________________________________________________________________________________________________\n",
            "block11_sepconv2_act (Activation (None, 11, 11, 728)   0           block11_sepconv1_bn[0][0]        \n",
            "____________________________________________________________________________________________________\n",
            "block11_sepconv2 (SeparableConv2 (None, 11, 11, 728)   536536      block11_sepconv2_act[0][0]       \n",
            "____________________________________________________________________________________________________\n",
            "block11_sepconv2_bn (BatchNormal (None, 11, 11, 728)   2912        block11_sepconv2[0][0]           \n",
            "____________________________________________________________________________________________________\n",
            "block11_sepconv3_act (Activation (None, 11, 11, 728)   0           block11_sepconv2_bn[0][0]        \n",
            "____________________________________________________________________________________________________\n",
            "block11_sepconv3 (SeparableConv2 (None, 11, 11, 728)   536536      block11_sepconv3_act[0][0]       \n",
            "____________________________________________________________________________________________________\n",
            "block11_sepconv3_bn (BatchNormal (None, 11, 11, 728)   2912        block11_sepconv3[0][0]           \n",
            "____________________________________________________________________________________________________\n",
            "add_10 (Add)                     (None, 11, 11, 728)   0           block11_sepconv3_bn[0][0]        \n",
            "                                                                   add_9[0][0]                      \n",
            "____________________________________________________________________________________________________\n",
            "block12_sepconv1_act (Activation (None, 11, 11, 728)   0           add_10[0][0]                     \n",
            "____________________________________________________________________________________________________\n",
            "block12_sepconv1 (SeparableConv2 (None, 11, 11, 728)   536536      block12_sepconv1_act[0][0]       \n",
            "____________________________________________________________________________________________________\n",
            "block12_sepconv1_bn (BatchNormal (None, 11, 11, 728)   2912        block12_sepconv1[0][0]           \n",
            "____________________________________________________________________________________________________\n",
            "block12_sepconv2_act (Activation (None, 11, 11, 728)   0           block12_sepconv1_bn[0][0]        \n",
            "____________________________________________________________________________________________________\n",
            "block12_sepconv2 (SeparableConv2 (None, 11, 11, 728)   536536      block12_sepconv2_act[0][0]       \n",
            "____________________________________________________________________________________________________\n",
            "block12_sepconv2_bn (BatchNormal (None, 11, 11, 728)   2912        block12_sepconv2[0][0]           \n",
            "____________________________________________________________________________________________________\n",
            "block12_sepconv3_act (Activation (None, 11, 11, 728)   0           block12_sepconv2_bn[0][0]        \n",
            "____________________________________________________________________________________________________\n",
            "block12_sepconv3 (SeparableConv2 (None, 11, 11, 728)   536536      block12_sepconv3_act[0][0]       \n",
            "____________________________________________________________________________________________________\n",
            "block12_sepconv3_bn (BatchNormal (None, 11, 11, 728)   2912        block12_sepconv3[0][0]           \n",
            "____________________________________________________________________________________________________\n",
            "add_11 (Add)                     (None, 11, 11, 728)   0           block12_sepconv3_bn[0][0]        \n",
            "                                                                   add_10[0][0]                     \n",
            "____________________________________________________________________________________________________\n",
            "block13_sepconv1_act (Activation (None, 11, 11, 728)   0           add_11[0][0]                     \n",
            "____________________________________________________________________________________________________\n",
            "block13_sepconv1 (SeparableConv2 (None, 11, 11, 728)   536536      block13_sepconv1_act[0][0]       \n",
            "____________________________________________________________________________________________________\n",
            "block13_sepconv1_bn (BatchNormal (None, 11, 11, 728)   2912        block13_sepconv1[0][0]           \n",
            "____________________________________________________________________________________________________\n",
            "block13_sepconv2_act (Activation (None, 11, 11, 728)   0           block13_sepconv1_bn[0][0]        \n",
            "____________________________________________________________________________________________________\n",
            "block13_sepconv2 (SeparableConv2 (None, 11, 11, 1024)  752024      block13_sepconv2_act[0][0]       \n",
            "____________________________________________________________________________________________________\n",
            "block13_sepconv2_bn (BatchNormal (None, 11, 11, 1024)  4096        block13_sepconv2[0][0]           \n",
            "____________________________________________________________________________________________________\n",
            "conv2d_4 (Conv2D)                (None, 6, 6, 1024)    745472      add_11[0][0]                     \n",
            "____________________________________________________________________________________________________\n",
            "block13_pool (MaxPooling2D)      (None, 6, 6, 1024)    0           block13_sepconv2_bn[0][0]        \n",
            "____________________________________________________________________________________________________\n",
            "batch_normalization_4 (BatchNorm (None, 6, 6, 1024)    4096        conv2d_4[0][0]                   \n",
            "____________________________________________________________________________________________________\n",
            "add_12 (Add)                     (None, 6, 6, 1024)    0           block13_pool[0][0]               \n",
            "                                                                   batch_normalization_4[0][0]      \n",
            "____________________________________________________________________________________________________\n",
            "block14_sepconv1 (SeparableConv2 (None, 6, 6, 1536)    1582080     add_12[0][0]                     \n",
            "____________________________________________________________________________________________________\n",
            "block14_sepconv1_bn (BatchNormal (None, 6, 6, 1536)    6144        block14_sepconv1[0][0]           \n",
            "____________________________________________________________________________________________________\n",
            "block14_sepconv1_act (Activation (None, 6, 6, 1536)    0           block14_sepconv1_bn[0][0]        \n",
            "____________________________________________________________________________________________________\n",
            "block14_sepconv2 (SeparableConv2 (None, 6, 6, 2048)    3159552     block14_sepconv1_act[0][0]       \n",
            "____________________________________________________________________________________________________\n",
            "block14_sepconv2_bn (BatchNormal (None, 6, 6, 2048)    8192        block14_sepconv2[0][0]           \n",
            "____________________________________________________________________________________________________\n",
            "block14_sepconv2_act (Activation (None, 6, 6, 2048)    0           block14_sepconv2_bn[0][0]        \n",
            "____________________________________________________________________________________________________\n",
            "conv2d_5 (Conv2D)                (None, 6, 6, 512)     9437696     block14_sepconv2_act[0][0]       \n",
            "____________________________________________________________________________________________________\n",
            "max_pooling2d_1 (MaxPooling2D)   (None, 3, 3, 512)     0           conv2d_5[0][0]                   \n",
            "____________________________________________________________________________________________________\n",
            "flatten_1 (Flatten)              (None, 4608)          0           max_pooling2d_1[0][0]            \n",
            "____________________________________________________________________________________________________\n",
            "dense_1 (Dense)                  (None, 500)           2304500     flatten_1[0][0]                  \n",
            "____________________________________________________________________________________________________\n",
            "dense_2 (Dense)                  (None, 500)           250500      dense_1[0][0]                    \n",
            "____________________________________________________________________________________________________\n",
            "dense_3 (Dense)                  (None, 5270)          2640270     dense_2[0][0]                    \n",
            "====================================================================================================\n",
            "Total params: 35,494,446\n",
            "Trainable params: 17,796,614\n",
            "Non-trainable params: 17,697,832\n",
            "____________________________________________________________________________________________________\n"
          ]
        }
      ],
      "source": [
        "model.summary()"
      ]
    },
    {
      "cell_type": "code",
      "execution_count": null,
      "metadata": {
        "colab": {
          "base_uri": "https://localhost:8080/"
        },
        "id": "XFDe2ckB4bp2",
        "outputId": "a024fe11-7f62-44a5-9896-5eacf457f91a"
      },
      "outputs": [
        {
          "data": {
            "text/plain": [
              "{'lr': 4.999999873689376e-06,\n",
              " 'beta_1': 0.8999999761581421,\n",
              " 'beta_2': 0.9990000128746033,\n",
              " 'decay': 0.0,\n",
              " 'epsilon': 1e-07}"
            ]
          },
          "execution_count": 38,
          "metadata": {},
          "output_type": "execute_result"
        }
      ],
      "source": [
        "model.optimizer.get_config()"
      ]
    },
    {
      "cell_type": "code",
      "execution_count": null,
      "metadata": {
        "id": "WqZVnyij4f7C"
      },
      "outputs": [],
      "source": [
        "keras.backend.set_value(model.optimizer.lr, 0.0001)"
      ]
    },
    {
      "cell_type": "code",
      "execution_count": null,
      "metadata": {
        "colab": {
          "base_uri": "https://localhost:8080/"
        },
        "id": "7DaaamFT4jd_",
        "outputId": "18b3e5ce-4f4f-419e-835d-ce9e83413148"
      },
      "outputs": [
        {
          "data": {
            "text/plain": [
              "{'lr': 9.999999747378752e-05,\n",
              " 'beta_1': 0.8999999761581421,\n",
              " 'beta_2': 0.9990000128746033,\n",
              " 'decay': 0.0,\n",
              " 'epsilon': 1e-07}"
            ]
          },
          "execution_count": 42,
          "metadata": {},
          "output_type": "execute_result"
        }
      ],
      "source": [
        "model.optimizer.get_config()"
      ]
    },
    {
      "cell_type": "code",
      "execution_count": null,
      "metadata": {
        "colab": {
          "base_uri": "https://localhost:8080/"
        },
        "id": "fob5sc7r3CQm",
        "outputId": "b0ad1479-4af7-47ab-cdd0-b4a683d44fb2"
      },
      "outputs": [
        {
          "name": "stdout",
          "output_type": "stream",
          "text": [
            "Epoch 1/2\n",
            "37130/37130 [==============================] - 27447s - loss: 2.0486 - acc: 0.5834 - val_loss: 2.4624 - val_acc: 0.5518\n",
            "Epoch 2/2\n",
            "37130/37130 [==============================] - 27441s - loss: 2.0400 - acc: 0.5845 - val_loss: 2.4645 - val_acc: 0.5524\n"
          ]
        },
        {
          "data": {
            "text/plain": [
              "<keras.callbacks.History at 0x7fa0d7333b90>"
            ]
          },
          "execution_count": 45,
          "metadata": {},
          "output_type": "execute_result"
        }
      ],
      "source": [
        "# To train the model:\n",
        "model.fit_generator(train_gen,\n",
        "                    steps_per_epoch = num_train_images // batch_size,   #num_train_images // batch_size,\n",
        "                    epochs = 2,\n",
        "                    validation_data = val_gen,\n",
        "                    validation_steps = num_val_images // batch_size,  #num_val_images // batch_size,\n",
        "                    workers = 8,\n",
        "                    callbacks= [reduce_lr])"
      ]
    },
    {
      "cell_type": "code",
      "execution_count": null,
      "metadata": {
        "colab": {
          "base_uri": "https://localhost:8080/"
        },
        "id": "QBU3_Vx67C7E",
        "outputId": "dc0db0be-2d81-40ce-9d28-3067fe99461a"
      },
      "outputs": [
        {
          "name": "stdout",
          "output_type": "stream",
          "text": [
            "Model Saved\n"
          ]
        }
      ],
      "source": [
        "model.save('/content/drive/MyDrive/kerasep14_model.kerasave',include_optimizer=True)\n",
        "print(\"Model Saved\")"
      ]
    },
    {
      "cell_type": "markdown",
      "metadata": {
        "id": "j0oM-tcQWO_e"
      },
      "source": []
    },
    {
      "cell_type": "code",
      "execution_count": null,
      "metadata": {
        "colab": {
          "base_uri": "https://localhost:8080/"
        },
        "id": "OW3FyZM08ljo",
        "outputId": "3e5cde6e-f434-42a4-8474-64e72e882968"
      },
      "outputs": [
        {
          "name": "stderr",
          "output_type": "stream",
          "text": [
            "/usr/local/lib/python3.7/dist-packages/keras/models.py:287: UserWarning: Error in loading the saved optimizer state. As a result, your model is starting with a freshly initialized optimizer.\n",
            "  warnings.warn('Error in loading the saved optimizer '\n"
          ]
        }
      ],
      "source": [
        "from keras.models import load_model\n",
        "model2 = load_model('/content/drive/MyDrive/kerasep14_model.kerasave')"
      ]
    },
    {
      "cell_type": "code",
      "execution_count": null,
      "metadata": {
        "colab": {
          "base_uri": "https://localhost:8080/"
        },
        "id": "YdpT7ly6Qlvr",
        "outputId": "b971067a-88c6-4aef-ba2a-48dc9f16e857"
      },
      "outputs": [
        {
          "data": {
            "text/plain": [
              "{'lr': 9.999999747378752e-05,\n",
              " 'beta_1': 0.8999999761581421,\n",
              " 'beta_2': 0.9990000128746033,\n",
              " 'decay': 0.0,\n",
              " 'epsilon': 1e-07}"
            ]
          },
          "execution_count": 36,
          "metadata": {},
          "output_type": "execute_result"
        }
      ],
      "source": [
        "model2.optimizer.get_config()"
      ]
    },
    {
      "cell_type": "code",
      "execution_count": null,
      "metadata": {
        "id": "E17umV4QQ8Yk"
      },
      "outputs": [],
      "source": [
        "keras.backend.set_value(model.optimizer.lr, 0.00005)"
      ]
    },
    {
      "cell_type": "markdown",
      "metadata": {
        "id": "W63a0vlqcRN5"
      },
      "source": [
        "#Prediction"
      ]
    },
    {
      "cell_type": "code",
      "execution_count": 5,
      "metadata": {
        "colab": {
          "base_uri": "https://localhost:8080/"
        },
        "id": "qhBgZah1uI9g",
        "outputId": "613418a6-cd2d-4c6e-8d5e-ddca8fa54a25"
      },
      "outputs": [
        {
          "output_type": "stream",
          "name": "stdout",
          "text": [
            "Warning: Your Kaggle API key is readable by other users on this system! To fix this, you can run 'chmod 600 /root/.kaggle/kaggle.json'\n",
            "Downloading test.bson.zip to /content\n",
            "100% 11.8G/11.8G [02:33<00:00, 74.5MB/s]\n",
            "100% 11.8G/11.8G [02:33<00:00, 82.5MB/s]\n"
          ]
        }
      ],
      "source": [
        "!kaggle competitions download -c 'cdiscount-image-classification-challenge' -f test.bson"
      ]
    },
    {
      "cell_type": "code",
      "execution_count": 6,
      "metadata": {
        "colab": {
          "base_uri": "https://localhost:8080/"
        },
        "id": "ql5BsfP4uRbI",
        "outputId": "e95efde8-bc2e-4035-92e0-0e1afc767fca"
      },
      "outputs": [
        {
          "output_type": "stream",
          "name": "stdout",
          "text": [
            "Archive:  /content/test.bson.zip\n",
            "  inflating: test.bson               \n"
          ]
        }
      ],
      "source": [
        "!unzip /content/test.bson.zip"
      ]
    },
    {
      "cell_type": "code",
      "execution_count": 7,
      "metadata": {
        "id": "kjZMmZqquSii"
      },
      "outputs": [],
      "source": [
        "!rm /content/test.bson.zip"
      ]
    },
    {
      "cell_type": "code",
      "execution_count": 8,
      "metadata": {
        "colab": {
          "base_uri": "https://localhost:8080/"
        },
        "id": "kMWioF5Fvfzs",
        "outputId": "427dd71b-50d9-4418-a259-f89fc1584b4d"
      },
      "outputs": [
        {
          "output_type": "stream",
          "name": "stdout",
          "text": [
            "Warning: Your Kaggle API key is readable by other users on this system! To fix this, you can run 'chmod 600 /root/.kaggle/kaggle.json'\n",
            "Downloading sample_submission.csv.zip to /content\n",
            "100% 4.61M/4.61M [00:00<00:00, 28.5MB/s]\n",
            "100% 4.61M/4.61M [00:00<00:00, 28.4MB/s]\n"
          ]
        }
      ],
      "source": [
        "!kaggle competitions download -c 'cdiscount-image-classification-challenge' -f sample_submission.csv"
      ]
    },
    {
      "cell_type": "code",
      "execution_count": 9,
      "metadata": {
        "colab": {
          "base_uri": "https://localhost:8080/"
        },
        "id": "3fvYX3Ziv15G",
        "outputId": "af297297-77c8-475a-d270-e628a14c5b2f"
      },
      "outputs": [
        {
          "output_type": "stream",
          "name": "stdout",
          "text": [
            "Archive:  /content/sample_submission.csv.zip\n",
            "  inflating: sample_submission.csv   \n"
          ]
        }
      ],
      "source": [
        "!unzip /content/sample_submission.csv.zip"
      ]
    },
    {
      "cell_type": "code",
      "execution_count": 10,
      "metadata": {
        "colab": {
          "base_uri": "https://localhost:8080/"
        },
        "id": "BOJVOJWCdy7t",
        "outputId": "623868c1-a279-44c4-f69e-6eee2906f86e"
      },
      "outputs": [
        {
          "output_type": "stream",
          "name": "stderr",
          "text": [
            "Using TensorFlow backend.\n",
            "WARNING:tensorflow:From /usr/local/lib/python3.7/dist-packages/keras/backend/tensorflow_backend.py:442: The name tf.placeholder is deprecated. Please use tf.compat.v1.placeholder instead.\n",
            "\n",
            "WARNING:tensorflow:From /usr/local/lib/python3.7/dist-packages/keras/backend/tensorflow_backend.py:3543: The name tf.random_uniform is deprecated. Please use tf.random.uniform instead.\n",
            "\n",
            "WARNING:tensorflow:From /usr/local/lib/python3.7/dist-packages/keras/backend/tensorflow_backend.py:112: The name tf.get_default_graph is deprecated. Please use tf.compat.v1.get_default_graph instead.\n",
            "\n",
            "WARNING:tensorflow:From /usr/local/lib/python3.7/dist-packages/keras/backend/tensorflow_backend.py:3386: The name tf.nn.max_pool is deprecated. Please use tf.nn.max_pool2d instead.\n",
            "\n",
            "WARNING:tensorflow:From /usr/local/lib/python3.7/dist-packages/keras/backend/tensorflow_backend.py:1205: calling reduce_prod_v1 (from tensorflow.python.ops.math_ops) with keep_dims is deprecated and will be removed in a future version.\n",
            "Instructions for updating:\n",
            "keep_dims is deprecated, use keepdims instead\n",
            "WARNING:tensorflow:From /usr/local/lib/python3.7/dist-packages/keras/backend/tensorflow_backend.py:153: The name tf.get_default_session is deprecated. Please use tf.compat.v1.get_default_session instead.\n",
            "\n",
            "WARNING:tensorflow:From /usr/local/lib/python3.7/dist-packages/keras/backend/tensorflow_backend.py:158: The name tf.ConfigProto is deprecated. Please use tf.compat.v1.ConfigProto instead.\n",
            "\n",
            "WARNING:tensorflow:From /usr/local/lib/python3.7/dist-packages/keras/backend/tensorflow_backend.py:163: The name tf.Session is deprecated. Please use tf.compat.v1.Session instead.\n",
            "\n",
            "WARNING:tensorflow:From /usr/local/lib/python3.7/dist-packages/keras/backend/tensorflow_backend.py:333: The name tf.global_variables is deprecated. Please use tf.compat.v1.global_variables instead.\n",
            "\n",
            "WARNING:tensorflow:From /usr/local/lib/python3.7/dist-packages/keras/backend/tensorflow_backend.py:341: The name tf.variables_initializer is deprecated. Please use tf.compat.v1.variables_initializer instead.\n",
            "\n",
            "WARNING:tensorflow:From /usr/local/lib/python3.7/dist-packages/keras/optimizers.py:711: The name tf.train.Optimizer is deprecated. Please use tf.compat.v1.train.Optimizer instead.\n",
            "\n",
            "WARNING:tensorflow:From /usr/local/lib/python3.7/dist-packages/keras/backend/tensorflow_backend.py:2755: calling reduce_sum_v1 (from tensorflow.python.ops.math_ops) with keep_dims is deprecated and will be removed in a future version.\n",
            "Instructions for updating:\n",
            "keep_dims is deprecated, use keepdims instead\n",
            "WARNING:tensorflow:From /usr/local/lib/python3.7/dist-packages/keras/backend/tensorflow_backend.py:2759: The name tf.log is deprecated. Please use tf.math.log instead.\n",
            "\n",
            "WARNING:tensorflow:From /usr/local/lib/python3.7/dist-packages/tensorflow_core/python/ops/math_grad.py:1424: where (from tensorflow.python.ops.array_ops) is deprecated and will be removed in a future version.\n",
            "Instructions for updating:\n",
            "Use tf.where in 2.0, which has the same broadcast rule as np.where\n",
            "WARNING:tensorflow:From /usr/local/lib/python3.7/dist-packages/keras/backend/tensorflow_backend.py:899: The name tf.assign_add is deprecated. Please use tf.compat.v1.assign_add instead.\n",
            "\n",
            "WARNING:tensorflow:From /usr/local/lib/python3.7/dist-packages/keras/backend/tensorflow_backend.py:625: calling Constant.__init__ (from tensorflow.python.ops.init_ops) with dtype is deprecated and will be removed in a future version.\n",
            "Instructions for updating:\n",
            "Call initializer instance with the dtype argument instead of passing it to the constructor\n",
            "WARNING:tensorflow:From /usr/local/lib/python3.7/dist-packages/keras/backend/tensorflow_backend.py:886: The name tf.assign is deprecated. Please use tf.compat.v1.assign instead.\n",
            "\n"
          ]
        }
      ],
      "source": [
        "from keras.models import load_model\n",
        "model = load_model('/content/drive/MyDrive/kerasep12_model.kerasave')"
      ]
    },
    {
      "cell_type": "code",
      "execution_count": 11,
      "metadata": {
        "colab": {
          "base_uri": "https://localhost:8080/"
        },
        "id": "s_7NcgRGcSNj",
        "outputId": "362334e1-800c-4222-fdaf-f28eb0fc3f23"
      },
      "outputs": [
        {
          "output_type": "stream",
          "name": "stderr",
          "text": [
            "100%|██████████| 1768182/1768182 [7:40:13<00:00, 64.03it/s]\n"
          ]
        }
      ],
      "source": [
        "from keras import backend as K\n",
        "from keras.preprocessing.image import ImageDataGenerator\n",
        "from keras.models import load_model\n",
        "import pandas as pd\n",
        "import bson\n",
        "import os\n",
        "from collections import defaultdict\n",
        "from tqdm import *\n",
        "import multiprocessing as mp\n",
        "import struct\n",
        "import os, sys, math, io\n",
        "import numpy as np\n",
        "from keras.preprocessing.image import load_img, img_to_array\n",
        "\n",
        "num_test_products = 1768182\n",
        "\n",
        "\n",
        "categories_path = os.path.join(\"/content/drive/Shareddrives/Case_study/cdiscount/category_names.csv\")\n",
        "categories_df = pd.read_csv(categories_path, index_col=\"category_id\")\n",
        "\n",
        "# Maps the category_id to an integer index. This is what we'll use to\n",
        "# one-hot encode the labels.\n",
        "categories_df[\"category_idx\"] = pd.Series(range(len(categories_df)), index=categories_df.index)\n",
        "\n",
        "categories_df.to_csv(\"categories.csv\")\n",
        "categories_df.head()\n",
        "\n",
        "def make_category_tables():\n",
        "    cat2idx = {}\n",
        "    idx2cat = {}\n",
        "    for ir in categories_df.itertuples():\n",
        "        category_id = ir[0]\n",
        "        category_idx = ir[4]\n",
        "        cat2idx[category_id] = category_idx\n",
        "        idx2cat[category_idx] = category_id\n",
        "    return cat2idx, idx2cat\n",
        "\n",
        "cat2idx, idx2cat = make_category_tables()\n",
        "\n",
        "submission_df = pd.read_csv(\"/content/sample_submission.csv\")\n",
        "submission_df.head()\n",
        "\n",
        "test_bson_path = os.path.join(\"/content/test.bson\")\n",
        "\n",
        "# test_datagen = ImageDataGenerator(\n",
        "#         rescale=1./255,\n",
        "#         shear_range=0.2,\n",
        "#         zoom_range=0.3,\n",
        "#         rotation_range=180.,\n",
        "#         width_shift_range=0.3,\n",
        "#         height_shift_range=0.3,\n",
        "#         horizontal_flip=True)\n",
        " \n",
        "test_datagen = ImageDataGenerator(\n",
        "         rescale=1./255)\n",
        "    \n",
        "data = bson.decode_file_iter(open(test_bson_path, \"rb\"))\n",
        "\n",
        "with tqdm(total=num_test_products) as pbar:\n",
        "    for c, d in enumerate(data):\n",
        "        product_id = d[\"_id\"]\n",
        "        num_imgs = len(d[\"imgs\"])\n",
        "        batch_x = np.zeros((num_imgs, 180, 180, 3), dtype=K.floatx())\n",
        "        for i in range(num_imgs):\n",
        "            bson_img = d[\"imgs\"][i][\"picture\"]\n",
        "            # Load and preprocess the image.\n",
        "            img = load_img(io.BytesIO(bson_img), target_size=(180, 180))\n",
        "            x = img_to_array(img)\n",
        "            #x = test_datagen.random_transform(x)\n",
        "            x = test_datagen.standardize(x)\n",
        "            # Add the image to the batch.\n",
        "            batch_x[i] = x\n",
        "        prediction = model.predict(batch_x, batch_size=num_imgs)\n",
        "        avg_pred = prediction.mean(axis=0) # .mean\n",
        "        cat_idx = np.argmax(avg_pred)\n",
        "        submission_df.iloc[c][\"category_id\"] = idx2cat[cat_idx]        \n",
        "        pbar.update()\n",
        "\n",
        "submission_df.to_csv(\"final_submission.csv.gz\", compression=\"gzip\", index=False)"
      ]
    },
    {
      "cell_type": "code",
      "execution_count": 12,
      "metadata": {
        "colab": {
          "base_uri": "https://localhost:8080/"
        },
        "id": "qbuIRTOReCeW",
        "outputId": "6c58a30f-2c80-4166-b8cb-013eebb977d9"
      },
      "outputs": [
        {
          "output_type": "stream",
          "name": "stdout",
          "text": [
            "done\n"
          ]
        }
      ],
      "source": [
        "import shutil\n",
        "  \n",
        "# Source path 100006949  \n",
        "source = \"/content/final_submission.csv.gz\"\n",
        "  \n",
        "# Destination path\n",
        "destination = \"/content/drive/MyDrive\"\n",
        "  \n",
        "# Move the content of\n",
        "# source to destination\n",
        "dest = shutil.move(source, destination)\n",
        "print('done') "
      ]
    },
    {
      "cell_type": "code",
      "execution_count": null,
      "metadata": {
        "id": "nW9SxbEdnh_v"
      },
      "outputs": [],
      "source": []
    }
  ],
  "metadata": {
    "accelerator": "GPU",
    "colab": {
      "background_execution": "on",
      "collapsed_sections": [],
      "machine_shape": "hm",
      "provenance": []
    },
    "gpuClass": "standard",
    "kernelspec": {
      "display_name": "Python 3",
      "language": "python",
      "name": "python3"
    },
    "language_info": {
      "codemirror_mode": {
        "name": "ipython",
        "version": 3
      },
      "file_extension": ".py",
      "mimetype": "text/x-python",
      "name": "python",
      "nbconvert_exporter": "python",
      "pygments_lexer": "ipython3",
      "version": "3.6.1"
    }
  },
  "nbformat": 4,
  "nbformat_minor": 0
}